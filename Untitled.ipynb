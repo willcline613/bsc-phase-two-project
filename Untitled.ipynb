{
 "cells": [
  {
   "cell_type": "code",
   "execution_count": null,
   "id": "7f498e91-351c-4531-9943-5891b0c7fc78",
   "metadata": {},
   "outputs": [],
   "source": [
    "import pandas as pd\n",
    "import numpy as np\n",
    "import matplotlib.pyplot as plt\n",
    "import seaborn as sns\n",
    "from sklearn.linear_model import LinearRegression\n",
    "from sklearn.impute import SimpleImputer\n",
    "from sklearn.metrics import mean_squared_error\n",
    "from sklearn.model_selection import train_test_split\n",
    "from sklearn.preprocessing import MinMaxScaler\n",
    "from sklearn.preprocessing import StandardScaler\n",
    "from sklearn.preprocessing import OneHotEncoder\n",
    "from sklearn.preprocessing import LabelEncoder\n",
    "from scipy.stats import zscore\n",
    "from scipy import stats\n",
    "from tkinter import *\n",
    "import pickle\n",
    "\n",
    "from collections import Counter\n",
    "\n",
    "\n",
    "import warnings\n",
    "warnings.filterwarnings(\"ignore\")\n"
   ]
  },
  {
   "cell_type": "code",
   "execution_count": null,
   "id": "d4ce6114-98df-4f53-98c8-19917f52bf16",
   "metadata": {},
   "outputs": [],
   "source": [
    "df = pd.read_csv(\"../../../data/kc_house_data.csv\")"
   ]
  },
  {
   "cell_type": "code",
   "execution_count": null,
   "id": "73cb6aaa-d499-4acf-97ce-d8205e290fa9",
   "metadata": {},
   "outputs": [],
   "source": [
    "def model(x, target_df, standard=False, minmax=False):\n",
    "        #does log work on a bunh of columns at once?\n",
    "#         x = np.log(x)\n",
    "        #x = np.log(x)\n",
    "        \n",
    "    #split data \n",
    "    X_train, X_test, y_train, y_test = train_test_split(x, target_df, random_state=42)\n",
    "    \n",
    "    #Implement scaler options if scaler parameters != None\n",
    "    if minmax:\n",
    "        scaler = MinMaxScaler()\n",
    "        scaler.fit(X_train)\n",
    "        X_train = scaler.transform(X_train)\n",
    "        X_test = scaler.transform(X_test)\n",
    "        \n",
    "    if standard:\n",
    "        scaler = StandardScaler()\n",
    "        scaler.fit(X_train)\n",
    "        X_train = scaler.transform(X_train)\n",
    "        X_test = scaler.transform(X_test)\n",
    "        \n",
    "    #create model\n",
    "    model = LinearRegression()\n",
    "    #fit data to model\n",
    "    model.fit(x, target_df)\n",
    "    \n",
    "    return model\n",
    "    \n",
    "    #Model coef\n",
    "    df_column_names = x.columns\n",
    "    coef = pd.DataFrame(list(zip(df_column_names, model.coef_)), columns = [\"feature\",\"weight\"])\\\n",
    "    .sort_values(\"weight\", ascending=False)\n",
    "    \n",
    "    #Make predictions\n",
    "    train_pred = model.predict(X_train)\n",
    "    test_pred = model.predict(X_test)\n",
    "    \n",
    "    if log:\n",
    "        pass\n",
    "#         train_rmse = rmse(np.exp(train_pred), np.exp(y_train.values))\n",
    "#         test_rmse = rmse(np.exp(test_pred), np.exp(y_test.values))\n",
    "    else:\n",
    "    \n",
    "        #train rmse\n",
    "        train_rmse = rmse(train_pred, y_train.values)\n",
    "        #test rmse\n",
    "        test_rmse = rmse(test_pred, y_test.values)\n",
    "\n",
    "    return ( round(train_rmse,2), round(test_rmse, 2), coef, model)"
   ]
  },
  {
   "cell_type": "code",
   "execution_count": null,
   "id": "424416bb-1e2a-449a-b23e-91d412a247bc",
   "metadata": {},
   "outputs": [],
   "source": [
    "df['sqft_living'] = df['sqft_living'].astype(float)\n",
    "df['bedrooms'] = df['bedrooms'].astype(float)\n",
    "df['condition'] = df['condition'].astype(float)\n",
    "df['grade'] = df['grade'].astype(float)\n",
    "df['sqft_above'] = df['sqft_above'].astype(float)\n",
    "df['yr_built'] = df['yr_built'].astype(float)\n",
    "df['zipcode'] = df['zipcode'].astype(float)\n",
    "df['sqft_living15'] = df['sqft_living15'].astype(float)\n",
    "df['sqft_lot15'] = df['sqft_lot15'].astype(float)\n",
    "df['sqft_lot'] = df['sqft_lot'].astype(float)"
   ]
  },
  {
   "cell_type": "code",
   "execution_count": null,
   "id": "485cff8b-f397-48cc-9cd4-306671011812",
   "metadata": {},
   "outputs": [],
   "source": [
    "df[\"age\"] = df[\"yr_built\"].map(lambda x: 2021 - x)"
   ]
  },
  {
   "cell_type": "code",
   "execution_count": null,
   "id": "e8d18296-264e-4783-b799-95eabc4c2f68",
   "metadata": {},
   "outputs": [],
   "source": [
    "df[\"months_ago_sold\"] = df[\"date\"].map(lambda date: float(date.split(\"/\")[0]) + (2021- float(date.split(\"/\")[2]) )*12)"
   ]
  },
  {
   "cell_type": "code",
   "execution_count": null,
   "id": "60c881d2-b403-43c1-ad96-a0d95ee90384",
   "metadata": {},
   "outputs": [],
   "source": []
  },
  {
   "cell_type": "code",
   "execution_count": null,
   "id": "71854788-d2ad-4ac0-8715-6e78ea3e673d",
   "metadata": {},
   "outputs": [],
   "source": []
  },
  {
   "cell_type": "code",
   "execution_count": null,
   "id": "480c246e-1a63-4901-8f64-00aa0dea54ad",
   "metadata": {},
   "outputs": [],
   "source": []
  }
 ],
 "metadata": {
  "kernelspec": {
   "display_name": "Python 3",
   "language": "python",
   "name": "python3"
  },
  "language_info": {
   "codemirror_mode": {
    "name": "ipython",
    "version": 3
   },
   "file_extension": ".py",
   "mimetype": "text/x-python",
   "name": "python",
   "nbconvert_exporter": "python",
   "pygments_lexer": "ipython3",
   "version": "3.8.8"
  }
 },
 "nbformat": 4,
 "nbformat_minor": 5
}
