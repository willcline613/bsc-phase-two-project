{
 "cells": [
  {
   "cell_type": "code",
   "execution_count": 1,
   "id": "99a11f00-2f41-478f-a23f-92f2299a2d92",
   "metadata": {},
   "outputs": [],
   "source": [
    "import pandas as pd\n",
    "import numpy as np\n",
    "import matplotlib.pyplot as plt\n",
    "import seaborn as sns\n",
    "from sklearn.linear_model import LinearRegression\n",
    "from sklearn.impute import SimpleImputer\n",
    "from sklearn.metrics import mean_squared_error\n",
    "from sklearn.model_selection import train_test_split\n",
    "from sklearn.preprocessing import MinMaxScaler\n",
    "from sklearn.preprocessing import StandardScaler\n",
    "from sklearn.preprocessing import OneHotEncoder\n",
    "from sklearn.preprocessing import LabelEncoder\n",
    "from scipy.stats import zscore\n",
    "from scipy import stats\n",
    "from tkinter import *\n",
    "import pickle\n",
    "\n",
    "from collections import Counter\n",
    "\n",
    "\n",
    "import warnings\n",
    "warnings.filterwarnings(\"ignore\")\n"
   ]
  },
  {
   "cell_type": "code",
   "execution_count": 79,
   "id": "516f33c8-303d-4715-8348-d205742cd037",
   "metadata": {},
   "outputs": [],
   "source": [
    "df = pd.read_csv(\"../../../data/kc_house_data.csv\")"
   ]
  },
  {
   "cell_type": "code",
   "execution_count": 3,
   "id": "38210994-ee0e-479b-a8d7-7028b36e74ea",
   "metadata": {},
   "outputs": [],
   "source": [
    "with open(\"ohe.pkl\", \"rb\") as f:\n",
    "    _ = pickle.load(f)"
   ]
  },
  {
   "cell_type": "code",
   "execution_count": 4,
   "id": "806d26d0-f40e-4c75-9537-75a6b39743d7",
   "metadata": {},
   "outputs": [
    {
     "data": {
      "text/plain": [
       "array([98001., 98002., 98003., 98004., 98005., 98006., 98007., 98008.,\n",
       "       98010., 98011., 98014., 98019., 98022., 98023., 98024., 98027.,\n",
       "       98028., 98029., 98030., 98031., 98032., 98033., 98034., 98038.,\n",
       "       98039., 98040., 98042., 98045., 98052., 98053., 98055., 98056.,\n",
       "       98058., 98059., 98065., 98070., 98072., 98074., 98075., 98077.,\n",
       "       98092., 98102., 98103., 98105., 98106., 98107., 98108., 98109.,\n",
       "       98112., 98115., 98116., 98117., 98118., 98119., 98122., 98125.,\n",
       "       98126., 98133., 98136., 98144., 98146., 98148., 98155., 98166.,\n",
       "       98168., 98177., 98178., 98188., 98198., 98199.])"
      ]
     },
     "execution_count": 4,
     "metadata": {},
     "output_type": "execute_result"
    }
   ],
   "source": [
    "_.categories_[0]"
   ]
  },
  {
   "cell_type": "code",
   "execution_count": 5,
   "id": "9b31e302-b53b-450a-a43f-aebab5b98da4",
   "metadata": {},
   "outputs": [
    {
     "data": {
      "text/plain": [
       "0        10/13/2014\n",
       "1         12/9/2014\n",
       "2         2/25/2015\n",
       "3         12/9/2014\n",
       "4         2/18/2015\n",
       "            ...    \n",
       "21592     5/21/2014\n",
       "21593     2/23/2015\n",
       "21594     6/23/2014\n",
       "21595     1/16/2015\n",
       "21596    10/15/2014\n",
       "Name: date, Length: 21597, dtype: object"
      ]
     },
     "execution_count": 5,
     "metadata": {},
     "output_type": "execute_result"
    }
   ],
   "source": [
    "df.date"
   ]
  },
  {
   "cell_type": "code",
   "execution_count": 6,
   "id": "74ea3df4-a26d-4e97-af23-bfd8ef5f908c",
   "metadata": {},
   "outputs": [],
   "source": [
    "def rmse(predictions, targets):\n",
    "    return np.sqrt(np.mean((predictions-targets)**2))"
   ]
  },
  {
   "cell_type": "code",
   "execution_count": 7,
   "id": "78fe07de",
   "metadata": {},
   "outputs": [],
   "source": [
    "def model(x, target_df, standard=False, minmax=False):\n",
    "        #does log work on a bunh of columns at once?\n",
    "#         x = np.log(x)\n",
    "        #x = np.log(x)\n",
    "        \n",
    "    #split data \n",
    "    X_train, X_test, y_train, y_test = train_test_split(x, target_df, random_state=42)\n",
    "    \n",
    "    #Implement scaler options if scaler parameters != None\n",
    "    if minmax:\n",
    "        scaler = MinMaxScaler()\n",
    "        scaler.fit(X_train)\n",
    "        X_train = scaler.transform(X_train)\n",
    "        X_test = scaler.transform(X_test)\n",
    "        \n",
    "    if standard:\n",
    "        scaler = StandardScaler()\n",
    "        scaler.fit(X_train)\n",
    "        X_train = scaler.transform(X_train)\n",
    "        X_test = scaler.transform(X_test)\n",
    "        \n",
    "    #create model\n",
    "    model = LinearRegression()\n",
    "    #fit data to model\n",
    "    model.fit(x, target_df)\n",
    "    \n",
    "    return model\n",
    "    \n",
    "    #Model coef\n",
    "    df_column_names = x.columns\n",
    "    coef = pd.DataFrame(list(zip(df_column_names, model.coef_)), columns = [\"feature\",\"weight\"])\\\n",
    "    .sort_values(\"weight\", ascending=False)\n",
    "    \n",
    "    #Make predictions\n",
    "    train_pred = model.predict(X_train)\n",
    "    test_pred = model.predict(X_test)\n",
    "    \n",
    "    if log:\n",
    "        pass\n",
    "#         train_rmse = rmse(np.exp(train_pred), np.exp(y_train.values))\n",
    "#         test_rmse = rmse(np.exp(test_pred), np.exp(y_test.values))\n",
    "    else:\n",
    "    \n",
    "        #train rmse\n",
    "        train_rmse = rmse(train_pred, y_train.values)\n",
    "        #test rmse\n",
    "        test_rmse = rmse(test_pred, y_test.values)\n",
    "\n",
    "    return ( round(train_rmse,2), round(test_rmse, 2), coef, model)"
   ]
  },
  {
   "cell_type": "code",
   "execution_count": 8,
   "id": "acecd3e6-7c4e-418c-9120-fbc220ee54bf",
   "metadata": {},
   "outputs": [],
   "source": [
    "def top_entries(df):\n",
    "    #df.corr().abs().unstack().sort_values(ascending=False).drop_duplicates()\n",
    "    \n",
    "    mat = df.corr().abs()\n",
    "    \n",
    "    # Remove duplicate and identity entries\n",
    "    mat.loc[:,:] = np.tril(mat.values, k=-1)\n",
    "    mat = mat[mat>0]\n",
    "\n",
    "    # Unstack, sort ascending, and reset the index, so features are in columns\n",
    "    # instead of indexes (allowing e.g. a pretty print in Jupyter).\n",
    "    # Also rename these it for good measure.\n",
    "    return (mat.unstack()\n",
    "             .sort_values(ascending=False)\n",
    "             .reset_index()\n",
    "             .rename(columns={\n",
    "                 \"level_0\": \"feature_a\",\n",
    "                 \"level_1\": \"feature_b\",\n",
    "                 0: \"correlation\"\n",
    "             }))"
   ]
  },
  {
   "cell_type": "code",
   "execution_count": 9,
   "id": "bc069873-29c4-46b1-b429-bf008d13f315",
   "metadata": {},
   "outputs": [],
   "source": [
    "def is_number(a):\n",
    "    # will be True also for 'NaN'\n",
    "    try:\n",
    "        number = float(a) or number == int(a)\n",
    "        return True\n",
    "    except ValueError:\n",
    "        return False"
   ]
  },
  {
   "cell_type": "markdown",
   "id": "6c12b6b4-cc61-43b9-bba2-16d4a7a73975",
   "metadata": {},
   "source": [
    "# import data"
   ]
  },
  {
   "cell_type": "code",
   "execution_count": 10,
   "id": "39096c11-3e6f-4e68-baa8-50a86b4aab5d",
   "metadata": {},
   "outputs": [],
   "source": [
    "path = \"../../../data/kc_house_data.csv\""
   ]
  },
  {
   "cell_type": "code",
   "execution_count": 11,
   "id": "073655c0-b9be-402f-87f9-c7f8ccbf623a",
   "metadata": {},
   "outputs": [],
   "source": [
    "df = pd.read_csv(path)"
   ]
  },
  {
   "cell_type": "markdown",
   "id": "7285aacd-b96f-4629-bcd6-29c7c96f607e",
   "metadata": {},
   "source": [
    "# Clean the data"
   ]
  },
  {
   "cell_type": "code",
   "execution_count": 12,
   "id": "a0a8ed32-90f9-4f09-88eb-97c7596dc928",
   "metadata": {},
   "outputs": [],
   "source": [
    "def clean(df):\n",
    "    entries_df['sqft_living'] = entries_df['sqft_living'].astype(float)\n",
    "    entries_df['bedrooms'] = entries_df['bedrooms'].astype(float)\n",
    "    entries_df['bathrooms'] = entries_df['bathrooms'].astype(float)\n",
    "    entries_df['grade'] = entries_df['grade'].astype(float)\n",
    "    entries_df['sqft_above'] = entries_df['sqft_above'].astype(float)\n",
    "    entries_df['sqft_living15'] = entries_df['sqft_living15'].astype(float)\n",
    "    entries_df['sqft_lot15'] = entries_df['sqft_lot15'].astype(float)\n",
    "    entries_df['sqft_lot'] = entries_df['sqft_lot'].astype(float)\n",
    "    entries_df['months_ago_sold'] = entries_df['months_ago_sold'].astype(float)\n",
    "    entries_df['age'] = entries_df['age'].astype(float)\n",
    "    entries_df['floors'] = entries_df['floors'].astype(float)\n",
    "    \n",
    "    df[\"age\"] = df[\"yr_built\"].map(lambda x: 2021 - x)\n",
    "    df[\"months_ago_sold\"] = df[\"date\"].map(lambda date: float(date.split(\"/\")[0]) + (2021- float(date.split(\"/\")[2]) )*12)\n",
    "    \n",
    "    zip_code = df[['zipcode']]\n",
    "    onehot = OneHotEncoder(sparse=False)\n",
    "    onehot_data = onehot.fit_transform(zip_code)\n",
    "    zip_code = pd.DataFrame(onehot_data, columns=onehot.get_feature_names())\n",
    "    df = pd.concat([df,zip_code],axis=1)\n",
    "\n",
    "    # Top cross correlations via function at head of notebook\n",
    "    df[\"sqft_living&above\"] = df[\"sqft_living\"] * df[\"sqft_above\"]\n",
    "    df[\"sqft_living&grade\"] = df[\"sqft_living\"] * df[\"grade\"]\n",
    "    df[\"sqft_living&living15\"] = df[\"sqft_living\"] * df[\"sqft_living15\"]\n",
    "    df[\"grade&sqft_above\"] = df[\"grade\"] * df[\"sqft_living\"]\n",
    "    df[\"bathrooms&sqft_living\"] = df[\"bathrooms\"] * df[\"sqft_living\"]\n",
    "    df[\"sqft_above&sqft_living15\"] = df[\"sqft_above\"] *df[\"sqft_living15\"]\n",
    "    df[\"grade&sqft_above\"] = df[\"grade\"] * df[\"sqft_above\"]\n",
    "    df[\"grade&sqft_living15\"] = df[\"grade\"] * df[\"sqft_living15\"]\n",
    "    df[\"grade&sqft_above\"] = df[\"grade\"] * df[\"sqft_above\"]\n",
    "\n",
    "    df.drop([\"waterfront\", \"yr_renovated\", \"view\", \"lat\", 'yr_built', 'date', 'zipcode', 'id', 'sqft_basement', 'zipcode'], axis=1, inplace=True)\n",
    "    df.dropna(inplace=True)\n",
    "\n",
    "    #drop outliers\n",
    "    z_scores = stats.zscore(df[['bedrooms','bathrooms','sqft_living','sqft_lot','floors','grade','sqft_above','sqft_living15','sqft_lot15', \"price\"]])\n",
    "    abs_z_scores = np.abs(z_scores)\n",
    "    filtered_entries = (abs_z_scores < 3).all(axis=1)\n",
    "    df = df[filtered_entries]\n",
    "\n",
    "    return df"
   ]
  },
  {
   "cell_type": "markdown",
   "id": "ef164dec-9c79-417b-9884-09ebcf396b10",
   "metadata": {},
   "source": [
    "### turn columns into floats"
   ]
  },
  {
   "cell_type": "code",
   "execution_count": 13,
   "id": "13f898f3-0bbb-48c9-92b5-c77acca3e19b",
   "metadata": {},
   "outputs": [],
   "source": [
    "df['sqft_living'] = df['sqft_living'].astype(float)\n",
    "df['bedrooms'] = df['bedrooms'].astype(float)\n",
    "df['condition'] = df['condition'].astype(float)\n",
    "df['grade'] = df['grade'].astype(float)\n",
    "df['sqft_above'] = df['sqft_above'].astype(float)\n",
    "df['yr_built'] = df['yr_built'].astype(float)\n",
    "df['zipcode'] = df['zipcode'].astype(float)\n",
    "df['sqft_living15'] = df['sqft_living15'].astype(float)\n",
    "df['sqft_lot15'] = df['sqft_lot15'].astype(float)\n",
    "df['sqft_lot'] = df['sqft_lot'].astype(float)"
   ]
  },
  {
   "cell_type": "markdown",
   "id": "0aa10278-1d5e-445b-9a71-28fa20639518",
   "metadata": {},
   "source": [
    "# Create new columns"
   ]
  },
  {
   "cell_type": "code",
   "execution_count": 14,
   "id": "94bfdbda",
   "metadata": {
    "tags": []
   },
   "outputs": [],
   "source": [
    "df[\"age\"] = df[\"yr_built\"].map(lambda x: 2021 - x)"
   ]
  },
  {
   "cell_type": "code",
   "execution_count": 15,
   "id": "58315a8f-d7f5-4648-b128-2fe3ff061972",
   "metadata": {},
   "outputs": [],
   "source": [
    "df[\"months_ago_sold\"] = df[\"date\"].map(lambda date: float(date.split(\"/\")[0]) + (2021- float(date.split(\"/\")[2]) )*12)"
   ]
  },
  {
   "cell_type": "markdown",
   "id": "caf535b7-aa22-4daf-a13b-c77349a59ef4",
   "metadata": {},
   "source": [
    "### Add zip code(categorical) columns"
   ]
  },
  {
   "cell_type": "code",
   "execution_count": 16,
   "id": "72b464c9-5b45-4962-837f-53d4c943bd19",
   "metadata": {},
   "outputs": [],
   "source": [
    "zip_code = df[['zipcode']]\n",
    "onehot = OneHotEncoder(sparse=False)\n",
    "onehot_data = onehot.fit_transform(zip_code)\n",
    "zip_code = pd.DataFrame(onehot_data, columns=onehot.get_feature_names())\n",
    "df = pd.concat([df,zip_code],axis=1)"
   ]
  },
  {
   "cell_type": "code",
   "execution_count": 17,
   "id": "ba88b32c-b559-4ac1-b57e-4a0e304b8352",
   "metadata": {},
   "outputs": [],
   "source": [
    "with open('ohe.pkl', 'wb') as f:\n",
    "    pickle.dump(onehot, f)"
   ]
  },
  {
   "cell_type": "markdown",
   "id": "2f60b98c-dcc3-43c9-9e94-ae0c2ec732d4",
   "metadata": {},
   "source": [
    "### Add cross product columns"
   ]
  },
  {
   "cell_type": "code",
   "execution_count": 18,
   "id": "6d75b18c-054d-4512-8d0b-33338d472e96",
   "metadata": {},
   "outputs": [],
   "source": [
    "# Top cross correlations via function at head of notebook\n",
    "top = top_entries(df).dropna()"
   ]
  },
  {
   "cell_type": "code",
   "execution_count": 19,
   "id": "6d7c76b0-d4d8-4c31-a807-3bbb5a2d4083",
   "metadata": {},
   "outputs": [],
   "source": [
    "top = top[top[\"feature_a\"].str.contains(\"&\", \"price\")==False]\n",
    "top = top[top[\"feature_b\"].str.contains(\"&\")==False]\n",
    "top = top[top[\"feature_b\"].str.contains(\"price\")==False]"
   ]
  },
  {
   "cell_type": "code",
   "execution_count": 20,
   "id": "44d24ef3-5bc2-4f97-a800-591a03e7fdc4",
   "metadata": {},
   "outputs": [
    {
     "data": {
      "text/html": [
       "<div>\n",
       "<style scoped>\n",
       "    .dataframe tbody tr th:only-of-type {\n",
       "        vertical-align: middle;\n",
       "    }\n",
       "\n",
       "    .dataframe tbody tr th {\n",
       "        vertical-align: top;\n",
       "    }\n",
       "\n",
       "    .dataframe thead th {\n",
       "        text-align: right;\n",
       "    }\n",
       "</style>\n",
       "<table border=\"1\" class=\"dataframe\">\n",
       "  <thead>\n",
       "    <tr style=\"text-align: right;\">\n",
       "      <th></th>\n",
       "      <th>feature_a</th>\n",
       "      <th>feature_b</th>\n",
       "      <th>correlation</th>\n",
       "    </tr>\n",
       "  </thead>\n",
       "  <tbody>\n",
       "    <tr>\n",
       "      <th>0</th>\n",
       "      <td>yr_built</td>\n",
       "      <td>age</td>\n",
       "      <td>1.000000</td>\n",
       "    </tr>\n",
       "    <tr>\n",
       "      <th>1</th>\n",
       "      <td>sqft_living</td>\n",
       "      <td>sqft_above</td>\n",
       "      <td>0.876448</td>\n",
       "    </tr>\n",
       "    <tr>\n",
       "      <th>2</th>\n",
       "      <td>sqft_living</td>\n",
       "      <td>grade</td>\n",
       "      <td>0.762779</td>\n",
       "    </tr>\n",
       "    <tr>\n",
       "      <th>3</th>\n",
       "      <td>sqft_living</td>\n",
       "      <td>sqft_living15</td>\n",
       "      <td>0.756402</td>\n",
       "    </tr>\n",
       "    <tr>\n",
       "      <th>4</th>\n",
       "      <td>grade</td>\n",
       "      <td>sqft_above</td>\n",
       "      <td>0.756073</td>\n",
       "    </tr>\n",
       "  </tbody>\n",
       "</table>\n",
       "</div>"
      ],
      "text/plain": [
       "     feature_a      feature_b  correlation\n",
       "0     yr_built            age     1.000000\n",
       "1  sqft_living     sqft_above     0.876448\n",
       "2  sqft_living          grade     0.762779\n",
       "3  sqft_living  sqft_living15     0.756402\n",
       "4        grade     sqft_above     0.756073"
      ]
     },
     "execution_count": 20,
     "metadata": {},
     "output_type": "execute_result"
    }
   ],
   "source": [
    "top[:5]"
   ]
  },
  {
   "cell_type": "code",
   "execution_count": 21,
   "id": "b0597e5f-f994-497a-aee4-028a4f07941f",
   "metadata": {},
   "outputs": [],
   "source": [
    "df[\"sqft_living&above\"] = df[\"sqft_living\"] * df[\"sqft_above\"]\n",
    "df[\"sqft_living&grade\"] = df[\"sqft_living\"] * df[\"grade\"]\n",
    "df[\"sqft_living&living15\"] = df[\"sqft_living\"] * df[\"sqft_living15\"]\n",
    "df[\"grade&sqft_above\"] = df[\"grade\"] * df[\"sqft_living\"]\n",
    "df[\"bathrooms&sqft_living\"] = df[\"bathrooms\"] * df[\"sqft_living\"]\n",
    "df[\"sqft_above&sqft_living15\"] = df[\"sqft_above\"] *df[\"sqft_living15\"]\n",
    "df[\"grade&sqft_above\"] = df[\"grade\"] * df[\"sqft_above\"]\n",
    "df[\"grade&sqft_living15\"] = df[\"grade\"] * df[\"sqft_living15\"]\n",
    "df[\"grade&sqft_above\"] = df[\"grade\"] * df[\"sqft_above\"]"
   ]
  },
  {
   "cell_type": "markdown",
   "id": "8a3bed0c",
   "metadata": {},
   "source": [
    "### Drop useless columns"
   ]
  },
  {
   "cell_type": "code",
   "execution_count": 22,
   "id": "89efdd72",
   "metadata": {},
   "outputs": [],
   "source": [
    "df.drop([\"waterfront\", \"yr_renovated\", \"view\", \"lat\", 'yr_built', 'date', 'zipcode', 'id', 'sqft_basement', 'zipcode'], axis=1, inplace=True)"
   ]
  },
  {
   "cell_type": "markdown",
   "id": "bf569fd2-3173-41f9-a65e-5f99eecbc72c",
   "metadata": {},
   "source": [
    "### Drop na from dataset"
   ]
  },
  {
   "cell_type": "code",
   "execution_count": 23,
   "id": "99795f1b-e285-43e9-8610-822bf9017f80",
   "metadata": {
    "tags": []
   },
   "outputs": [],
   "source": [
    "df.dropna(inplace=True)"
   ]
  },
  {
   "cell_type": "markdown",
   "id": "c160ba26-99f4-42f2-a2f7-4f0bbf4c2ca7",
   "metadata": {},
   "source": [
    "# Eliminate outliers"
   ]
  },
  {
   "cell_type": "code",
   "execution_count": 24,
   "id": "bbe39990-58df-4f03-84fd-de401af43155",
   "metadata": {},
   "outputs": [],
   "source": [
    "z_scores = stats.zscore(df[['bedrooms','bathrooms','sqft_living','sqft_lot','floors','grade','sqft_above','sqft_living15','sqft_lot15', \"price\"]])\n",
    "abs_z_scores = np.abs(z_scores)\n",
    "filtered_entries = (abs_z_scores < 3).all(axis=1)"
   ]
  },
  {
   "cell_type": "code",
   "execution_count": 25,
   "id": "d35a752d-7846-4281-a86f-5aea0a4ce982",
   "metadata": {},
   "outputs": [],
   "source": [
    "df = df[filtered_entries]"
   ]
  },
  {
   "cell_type": "markdown",
   "id": "9c1a7bce",
   "metadata": {},
   "source": [
    "# Counter of how many times each unique element appears in categorical columns"
   ]
  },
  {
   "cell_type": "code",
   "execution_count": 26,
   "id": "72e8d972",
   "metadata": {},
   "outputs": [],
   "source": [
    "Counter(df[\"age\"]);"
   ]
  },
  {
   "cell_type": "markdown",
   "id": "48637e0e-8efe-49e3-8809-060b5e027bd8",
   "metadata": {},
   "source": [
    "# Get ascending list of correlations"
   ]
  },
  {
   "cell_type": "code",
   "execution_count": 27,
   "id": "6350df38-f39a-448f-bfd3-075c67900455",
   "metadata": {},
   "outputs": [],
   "source": [
    "corrs = df.corr()[\"price\"].sort_values(ascending=False).drop(\"price\")"
   ]
  },
  {
   "cell_type": "markdown",
   "id": "c619421f-3800-44e7-b8f5-5f205d203cc0",
   "metadata": {},
   "source": [
    "# Create variable called target that contains price column of full df"
   ]
  },
  {
   "cell_type": "code",
   "execution_count": 28,
   "id": "e2ee6447-dd4f-4f53-9a5c-fa7f766dac83",
   "metadata": {},
   "outputs": [],
   "source": [
    "target = df[\"price\"]"
   ]
  },
  {
   "cell_type": "markdown",
   "id": "3d7a7773-f56a-4322-a97a-ed69ec7db6fd",
   "metadata": {},
   "source": [
    "# Create baseline model"
   ]
  },
  {
   "cell_type": "code",
   "execution_count": 29,
   "id": "2c44d0fe-5889-4883-acaa-370e29dc1b3f",
   "metadata": {},
   "outputs": [],
   "source": [
    "baseline_df = df[[corrs.keys()[0]]]"
   ]
  },
  {
   "cell_type": "code",
   "execution_count": 30,
   "id": "375c3bc0",
   "metadata": {},
   "outputs": [
    {
     "data": {
      "text/plain": [
       "LinearRegression()"
      ]
     },
     "execution_count": 30,
     "metadata": {},
     "output_type": "execute_result"
    }
   ],
   "source": [
    "model(baseline_df, target)"
   ]
  },
  {
   "cell_type": "markdown",
   "id": "78792862",
   "metadata": {},
   "source": [
    "# Create model with top 3"
   ]
  },
  {
   "cell_type": "code",
   "execution_count": 31,
   "id": "32a19fb3",
   "metadata": {},
   "outputs": [],
   "source": [
    "top3_df = df[[corrs.keys()[0], corrs.keys()[1], corrs.keys()[2]]]"
   ]
  },
  {
   "cell_type": "code",
   "execution_count": 32,
   "id": "725a4474",
   "metadata": {},
   "outputs": [
    {
     "data": {
      "text/plain": [
       "LinearRegression()"
      ]
     },
     "execution_count": 32,
     "metadata": {},
     "output_type": "execute_result"
    }
   ],
   "source": [
    "model(top3_df, target)"
   ]
  },
  {
   "cell_type": "markdown",
   "id": "e7b26356",
   "metadata": {},
   "source": [
    "# Top 7 correlated"
   ]
  },
  {
   "cell_type": "code",
   "execution_count": 33,
   "id": "11ad2a24",
   "metadata": {},
   "outputs": [],
   "source": [
    "top7_df = df[[corrs.keys()[0], corrs.keys()[1], corrs.keys()[2], corrs.keys()[3], corrs.keys()[4], corrs.keys()[5], corrs.keys()[6]]]"
   ]
  },
  {
   "cell_type": "code",
   "execution_count": 34,
   "id": "87519447",
   "metadata": {},
   "outputs": [
    {
     "data": {
      "text/plain": [
       "LinearRegression()"
      ]
     },
     "execution_count": 34,
     "metadata": {},
     "output_type": "execute_result"
    }
   ],
   "source": [
    "model(top7_df, target, standard=True)"
   ]
  },
  {
   "cell_type": "markdown",
   "id": "6a89b2f6-d064-482b-ac72-0dd875da1666",
   "metadata": {},
   "source": [
    "# All usable besides zip code"
   ]
  },
  {
   "cell_type": "code",
   "execution_count": 35,
   "id": "71243f2a-d686-4581-bb52-311c2532af21",
   "metadata": {},
   "outputs": [],
   "source": [
    "all_nozip_df = df[['bedrooms', 'bathrooms', 'sqft_living', 'sqft_lot', 'floors', 'grade','sqft_above', 'sqft_living15', 'sqft_lot15', 'age', 'months_ago_sold', 'sqft_living&above', 'sqft_living&grade', 'sqft_living&living15', 'grade&sqft_above', 'bathrooms&sqft_living', 'sqft_above&sqft_living15', 'grade&sqft_living15']]"
   ]
  },
  {
   "cell_type": "code",
   "execution_count": 36,
   "id": "6cf54df3-c32c-426d-8f52-373d466e2750",
   "metadata": {},
   "outputs": [
    {
     "data": {
      "text/plain": [
       "LinearRegression()"
      ]
     },
     "execution_count": 36,
     "metadata": {},
     "output_type": "execute_result"
    }
   ],
   "source": [
    "model(all_nozip_df, target)"
   ]
  },
  {
   "cell_type": "code",
   "execution_count": 37,
   "id": "09e642a2-c6fc-4512-af26-a7192bab3967",
   "metadata": {},
   "outputs": [
    {
     "data": {
      "text/html": [
       "<div>\n",
       "<style scoped>\n",
       "    .dataframe tbody tr th:only-of-type {\n",
       "        vertical-align: middle;\n",
       "    }\n",
       "\n",
       "    .dataframe tbody tr th {\n",
       "        vertical-align: top;\n",
       "    }\n",
       "\n",
       "    .dataframe thead th {\n",
       "        text-align: right;\n",
       "    }\n",
       "</style>\n",
       "<table border=\"1\" class=\"dataframe\">\n",
       "  <thead>\n",
       "    <tr style=\"text-align: right;\">\n",
       "      <th></th>\n",
       "      <th>bedrooms</th>\n",
       "      <th>bathrooms</th>\n",
       "      <th>sqft_living</th>\n",
       "      <th>sqft_lot</th>\n",
       "      <th>floors</th>\n",
       "      <th>grade</th>\n",
       "      <th>sqft_above</th>\n",
       "      <th>sqft_living15</th>\n",
       "      <th>sqft_lot15</th>\n",
       "      <th>age</th>\n",
       "      <th>months_ago_sold</th>\n",
       "      <th>sqft_living&amp;above</th>\n",
       "      <th>sqft_living&amp;grade</th>\n",
       "      <th>sqft_living&amp;living15</th>\n",
       "      <th>grade&amp;sqft_above</th>\n",
       "      <th>bathrooms&amp;sqft_living</th>\n",
       "      <th>sqft_above&amp;sqft_living15</th>\n",
       "      <th>grade&amp;sqft_living15</th>\n",
       "    </tr>\n",
       "  </thead>\n",
       "  <tbody>\n",
       "    <tr>\n",
       "      <th>0</th>\n",
       "      <td>3.0</td>\n",
       "      <td>1.00</td>\n",
       "      <td>1180.0</td>\n",
       "      <td>5650.0</td>\n",
       "      <td>1.0</td>\n",
       "      <td>7.0</td>\n",
       "      <td>1180.0</td>\n",
       "      <td>1340.0</td>\n",
       "      <td>5650.0</td>\n",
       "      <td>66.0</td>\n",
       "      <td>94.0</td>\n",
       "      <td>1392400.0</td>\n",
       "      <td>8260.0</td>\n",
       "      <td>1581200.0</td>\n",
       "      <td>8260.0</td>\n",
       "      <td>1180.0</td>\n",
       "      <td>1581200.0</td>\n",
       "      <td>9380.0</td>\n",
       "    </tr>\n",
       "    <tr>\n",
       "      <th>1</th>\n",
       "      <td>3.0</td>\n",
       "      <td>2.25</td>\n",
       "      <td>2570.0</td>\n",
       "      <td>7242.0</td>\n",
       "      <td>2.0</td>\n",
       "      <td>7.0</td>\n",
       "      <td>2170.0</td>\n",
       "      <td>1690.0</td>\n",
       "      <td>7639.0</td>\n",
       "      <td>70.0</td>\n",
       "      <td>96.0</td>\n",
       "      <td>5576900.0</td>\n",
       "      <td>17990.0</td>\n",
       "      <td>4343300.0</td>\n",
       "      <td>15190.0</td>\n",
       "      <td>5782.5</td>\n",
       "      <td>3667300.0</td>\n",
       "      <td>11830.0</td>\n",
       "    </tr>\n",
       "    <tr>\n",
       "      <th>2</th>\n",
       "      <td>2.0</td>\n",
       "      <td>1.00</td>\n",
       "      <td>770.0</td>\n",
       "      <td>10000.0</td>\n",
       "      <td>1.0</td>\n",
       "      <td>6.0</td>\n",
       "      <td>770.0</td>\n",
       "      <td>2720.0</td>\n",
       "      <td>8062.0</td>\n",
       "      <td>88.0</td>\n",
       "      <td>74.0</td>\n",
       "      <td>592900.0</td>\n",
       "      <td>4620.0</td>\n",
       "      <td>2094400.0</td>\n",
       "      <td>4620.0</td>\n",
       "      <td>770.0</td>\n",
       "      <td>2094400.0</td>\n",
       "      <td>16320.0</td>\n",
       "    </tr>\n",
       "    <tr>\n",
       "      <th>3</th>\n",
       "      <td>4.0</td>\n",
       "      <td>3.00</td>\n",
       "      <td>1960.0</td>\n",
       "      <td>5000.0</td>\n",
       "      <td>1.0</td>\n",
       "      <td>7.0</td>\n",
       "      <td>1050.0</td>\n",
       "      <td>1360.0</td>\n",
       "      <td>5000.0</td>\n",
       "      <td>56.0</td>\n",
       "      <td>96.0</td>\n",
       "      <td>2058000.0</td>\n",
       "      <td>13720.0</td>\n",
       "      <td>2665600.0</td>\n",
       "      <td>7350.0</td>\n",
       "      <td>5880.0</td>\n",
       "      <td>1428000.0</td>\n",
       "      <td>9520.0</td>\n",
       "    </tr>\n",
       "    <tr>\n",
       "      <th>4</th>\n",
       "      <td>3.0</td>\n",
       "      <td>2.00</td>\n",
       "      <td>1680.0</td>\n",
       "      <td>8080.0</td>\n",
       "      <td>1.0</td>\n",
       "      <td>8.0</td>\n",
       "      <td>1680.0</td>\n",
       "      <td>1800.0</td>\n",
       "      <td>7503.0</td>\n",
       "      <td>34.0</td>\n",
       "      <td>74.0</td>\n",
       "      <td>2822400.0</td>\n",
       "      <td>13440.0</td>\n",
       "      <td>3024000.0</td>\n",
       "      <td>13440.0</td>\n",
       "      <td>3360.0</td>\n",
       "      <td>3024000.0</td>\n",
       "      <td>14400.0</td>\n",
       "    </tr>\n",
       "    <tr>\n",
       "      <th>...</th>\n",
       "      <td>...</td>\n",
       "      <td>...</td>\n",
       "      <td>...</td>\n",
       "      <td>...</td>\n",
       "      <td>...</td>\n",
       "      <td>...</td>\n",
       "      <td>...</td>\n",
       "      <td>...</td>\n",
       "      <td>...</td>\n",
       "      <td>...</td>\n",
       "      <td>...</td>\n",
       "      <td>...</td>\n",
       "      <td>...</td>\n",
       "      <td>...</td>\n",
       "      <td>...</td>\n",
       "      <td>...</td>\n",
       "      <td>...</td>\n",
       "      <td>...</td>\n",
       "    </tr>\n",
       "    <tr>\n",
       "      <th>21592</th>\n",
       "      <td>3.0</td>\n",
       "      <td>2.50</td>\n",
       "      <td>1530.0</td>\n",
       "      <td>1131.0</td>\n",
       "      <td>3.0</td>\n",
       "      <td>8.0</td>\n",
       "      <td>1530.0</td>\n",
       "      <td>1530.0</td>\n",
       "      <td>1509.0</td>\n",
       "      <td>12.0</td>\n",
       "      <td>89.0</td>\n",
       "      <td>2340900.0</td>\n",
       "      <td>12240.0</td>\n",
       "      <td>2340900.0</td>\n",
       "      <td>12240.0</td>\n",
       "      <td>3825.0</td>\n",
       "      <td>2340900.0</td>\n",
       "      <td>12240.0</td>\n",
       "    </tr>\n",
       "    <tr>\n",
       "      <th>21593</th>\n",
       "      <td>4.0</td>\n",
       "      <td>2.50</td>\n",
       "      <td>2310.0</td>\n",
       "      <td>5813.0</td>\n",
       "      <td>2.0</td>\n",
       "      <td>8.0</td>\n",
       "      <td>2310.0</td>\n",
       "      <td>1830.0</td>\n",
       "      <td>7200.0</td>\n",
       "      <td>7.0</td>\n",
       "      <td>74.0</td>\n",
       "      <td>5336100.0</td>\n",
       "      <td>18480.0</td>\n",
       "      <td>4227300.0</td>\n",
       "      <td>18480.0</td>\n",
       "      <td>5775.0</td>\n",
       "      <td>4227300.0</td>\n",
       "      <td>14640.0</td>\n",
       "    </tr>\n",
       "    <tr>\n",
       "      <th>21594</th>\n",
       "      <td>2.0</td>\n",
       "      <td>0.75</td>\n",
       "      <td>1020.0</td>\n",
       "      <td>1350.0</td>\n",
       "      <td>2.0</td>\n",
       "      <td>7.0</td>\n",
       "      <td>1020.0</td>\n",
       "      <td>1020.0</td>\n",
       "      <td>2007.0</td>\n",
       "      <td>12.0</td>\n",
       "      <td>90.0</td>\n",
       "      <td>1040400.0</td>\n",
       "      <td>7140.0</td>\n",
       "      <td>1040400.0</td>\n",
       "      <td>7140.0</td>\n",
       "      <td>765.0</td>\n",
       "      <td>1040400.0</td>\n",
       "      <td>7140.0</td>\n",
       "    </tr>\n",
       "    <tr>\n",
       "      <th>21595</th>\n",
       "      <td>3.0</td>\n",
       "      <td>2.50</td>\n",
       "      <td>1600.0</td>\n",
       "      <td>2388.0</td>\n",
       "      <td>2.0</td>\n",
       "      <td>8.0</td>\n",
       "      <td>1600.0</td>\n",
       "      <td>1410.0</td>\n",
       "      <td>1287.0</td>\n",
       "      <td>17.0</td>\n",
       "      <td>73.0</td>\n",
       "      <td>2560000.0</td>\n",
       "      <td>12800.0</td>\n",
       "      <td>2256000.0</td>\n",
       "      <td>12800.0</td>\n",
       "      <td>4000.0</td>\n",
       "      <td>2256000.0</td>\n",
       "      <td>11280.0</td>\n",
       "    </tr>\n",
       "    <tr>\n",
       "      <th>21596</th>\n",
       "      <td>2.0</td>\n",
       "      <td>0.75</td>\n",
       "      <td>1020.0</td>\n",
       "      <td>1076.0</td>\n",
       "      <td>2.0</td>\n",
       "      <td>7.0</td>\n",
       "      <td>1020.0</td>\n",
       "      <td>1020.0</td>\n",
       "      <td>1357.0</td>\n",
       "      <td>13.0</td>\n",
       "      <td>94.0</td>\n",
       "      <td>1040400.0</td>\n",
       "      <td>7140.0</td>\n",
       "      <td>1040400.0</td>\n",
       "      <td>7140.0</td>\n",
       "      <td>765.0</td>\n",
       "      <td>1040400.0</td>\n",
       "      <td>7140.0</td>\n",
       "    </tr>\n",
       "  </tbody>\n",
       "</table>\n",
       "<p>20331 rows × 18 columns</p>\n",
       "</div>"
      ],
      "text/plain": [
       "       bedrooms  bathrooms  sqft_living  sqft_lot  floors  grade  sqft_above  \\\n",
       "0           3.0       1.00       1180.0    5650.0     1.0    7.0      1180.0   \n",
       "1           3.0       2.25       2570.0    7242.0     2.0    7.0      2170.0   \n",
       "2           2.0       1.00        770.0   10000.0     1.0    6.0       770.0   \n",
       "3           4.0       3.00       1960.0    5000.0     1.0    7.0      1050.0   \n",
       "4           3.0       2.00       1680.0    8080.0     1.0    8.0      1680.0   \n",
       "...         ...        ...          ...       ...     ...    ...         ...   \n",
       "21592       3.0       2.50       1530.0    1131.0     3.0    8.0      1530.0   \n",
       "21593       4.0       2.50       2310.0    5813.0     2.0    8.0      2310.0   \n",
       "21594       2.0       0.75       1020.0    1350.0     2.0    7.0      1020.0   \n",
       "21595       3.0       2.50       1600.0    2388.0     2.0    8.0      1600.0   \n",
       "21596       2.0       0.75       1020.0    1076.0     2.0    7.0      1020.0   \n",
       "\n",
       "       sqft_living15  sqft_lot15   age  months_ago_sold  sqft_living&above  \\\n",
       "0             1340.0      5650.0  66.0             94.0          1392400.0   \n",
       "1             1690.0      7639.0  70.0             96.0          5576900.0   \n",
       "2             2720.0      8062.0  88.0             74.0           592900.0   \n",
       "3             1360.0      5000.0  56.0             96.0          2058000.0   \n",
       "4             1800.0      7503.0  34.0             74.0          2822400.0   \n",
       "...              ...         ...   ...              ...                ...   \n",
       "21592         1530.0      1509.0  12.0             89.0          2340900.0   \n",
       "21593         1830.0      7200.0   7.0             74.0          5336100.0   \n",
       "21594         1020.0      2007.0  12.0             90.0          1040400.0   \n",
       "21595         1410.0      1287.0  17.0             73.0          2560000.0   \n",
       "21596         1020.0      1357.0  13.0             94.0          1040400.0   \n",
       "\n",
       "       sqft_living&grade  sqft_living&living15  grade&sqft_above  \\\n",
       "0                 8260.0             1581200.0            8260.0   \n",
       "1                17990.0             4343300.0           15190.0   \n",
       "2                 4620.0             2094400.0            4620.0   \n",
       "3                13720.0             2665600.0            7350.0   \n",
       "4                13440.0             3024000.0           13440.0   \n",
       "...                  ...                   ...               ...   \n",
       "21592            12240.0             2340900.0           12240.0   \n",
       "21593            18480.0             4227300.0           18480.0   \n",
       "21594             7140.0             1040400.0            7140.0   \n",
       "21595            12800.0             2256000.0           12800.0   \n",
       "21596             7140.0             1040400.0            7140.0   \n",
       "\n",
       "       bathrooms&sqft_living  sqft_above&sqft_living15  grade&sqft_living15  \n",
       "0                     1180.0                 1581200.0               9380.0  \n",
       "1                     5782.5                 3667300.0              11830.0  \n",
       "2                      770.0                 2094400.0              16320.0  \n",
       "3                     5880.0                 1428000.0               9520.0  \n",
       "4                     3360.0                 3024000.0              14400.0  \n",
       "...                      ...                       ...                  ...  \n",
       "21592                 3825.0                 2340900.0              12240.0  \n",
       "21593                 5775.0                 4227300.0              14640.0  \n",
       "21594                  765.0                 1040400.0               7140.0  \n",
       "21595                 4000.0                 2256000.0              11280.0  \n",
       "21596                  765.0                 1040400.0               7140.0  \n",
       "\n",
       "[20331 rows x 18 columns]"
      ]
     },
     "execution_count": 37,
     "metadata": {},
     "output_type": "execute_result"
    }
   ],
   "source": [
    "all_nozip_df"
   ]
  },
  {
   "cell_type": "markdown",
   "id": "ff59f796-fc46-4c60-8172-bde8c2262bf4",
   "metadata": {},
   "source": [
    "# All usable columns (zip code and cross multiplications added)"
   ]
  },
  {
   "cell_type": "code",
   "execution_count": 38,
   "id": "7d7a0836-09f8-4668-bc35-2d6050dbad84",
   "metadata": {},
   "outputs": [],
   "source": [
    "all_df = df.drop(['price', 'long', 'condition'],axis=1)"
   ]
  },
  {
   "cell_type": "code",
   "execution_count": 39,
   "id": "b3255227-7d48-4ee6-9aee-8fd2453f0069",
   "metadata": {},
   "outputs": [
    {
     "data": {
      "text/plain": [
       "Index(['bedrooms', 'bathrooms', 'sqft_living', 'sqft_lot', 'floors', 'grade',\n",
       "       'sqft_above', 'sqft_living15', 'sqft_lot15', 'age', 'months_ago_sold',\n",
       "       'x0_98001.0', 'x0_98002.0', 'x0_98003.0', 'x0_98004.0', 'x0_98005.0',\n",
       "       'x0_98006.0', 'x0_98007.0', 'x0_98008.0', 'x0_98010.0', 'x0_98011.0',\n",
       "       'x0_98014.0', 'x0_98019.0', 'x0_98022.0', 'x0_98023.0', 'x0_98024.0',\n",
       "       'x0_98027.0', 'x0_98028.0', 'x0_98029.0', 'x0_98030.0', 'x0_98031.0',\n",
       "       'x0_98032.0', 'x0_98033.0', 'x0_98034.0', 'x0_98038.0', 'x0_98039.0',\n",
       "       'x0_98040.0', 'x0_98042.0', 'x0_98045.0', 'x0_98052.0', 'x0_98053.0',\n",
       "       'x0_98055.0', 'x0_98056.0', 'x0_98058.0', 'x0_98059.0', 'x0_98065.0',\n",
       "       'x0_98070.0', 'x0_98072.0', 'x0_98074.0', 'x0_98075.0', 'x0_98077.0',\n",
       "       'x0_98092.0', 'x0_98102.0', 'x0_98103.0', 'x0_98105.0', 'x0_98106.0',\n",
       "       'x0_98107.0', 'x0_98108.0', 'x0_98109.0', 'x0_98112.0', 'x0_98115.0',\n",
       "       'x0_98116.0', 'x0_98117.0', 'x0_98118.0', 'x0_98119.0', 'x0_98122.0',\n",
       "       'x0_98125.0', 'x0_98126.0', 'x0_98133.0', 'x0_98136.0', 'x0_98144.0',\n",
       "       'x0_98146.0', 'x0_98148.0', 'x0_98155.0', 'x0_98166.0', 'x0_98168.0',\n",
       "       'x0_98177.0', 'x0_98178.0', 'x0_98188.0', 'x0_98198.0', 'x0_98199.0',\n",
       "       'sqft_living&above', 'sqft_living&grade', 'sqft_living&living15',\n",
       "       'grade&sqft_above', 'bathrooms&sqft_living', 'sqft_above&sqft_living15',\n",
       "       'grade&sqft_living15'],\n",
       "      dtype='object')"
      ]
     },
     "execution_count": 39,
     "metadata": {},
     "output_type": "execute_result"
    }
   ],
   "source": [
    "all_df.columns"
   ]
  },
  {
   "cell_type": "code",
   "execution_count": 40,
   "id": "7e815c82-6ff9-4a00-be53-950b9aac736a",
   "metadata": {},
   "outputs": [
    {
     "data": {
      "text/plain": [
       "LinearRegression()"
      ]
     },
     "execution_count": 40,
     "metadata": {},
     "output_type": "execute_result"
    }
   ],
   "source": [
    "model(all_df, target)"
   ]
  },
  {
   "cell_type": "code",
   "execution_count": 41,
   "id": "78d456cc-852f-4ee0-a7f9-d3eb83155fe7",
   "metadata": {},
   "outputs": [
    {
     "data": {
      "text/plain": [
       "88"
      ]
     },
     "execution_count": 41,
     "metadata": {},
     "output_type": "execute_result"
    }
   ],
   "source": [
    "len(all_df.columns)"
   ]
  },
  {
   "cell_type": "markdown",
   "id": "4c75aa6b-dab0-4c71-b341-cd1aac65f103",
   "metadata": {},
   "source": [
    "# All with minmax"
   ]
  },
  {
   "cell_type": "code",
   "execution_count": 42,
   "id": "b0daef71-8e12-4905-be22-5c7d0e6c6598",
   "metadata": {},
   "outputs": [
    {
     "data": {
      "text/plain": [
       "LinearRegression()"
      ]
     },
     "execution_count": 42,
     "metadata": {},
     "output_type": "execute_result"
    }
   ],
   "source": [
    "model(all_df, target, minmax=True)"
   ]
  },
  {
   "cell_type": "markdown",
   "id": "a29cd7c0-99e2-4af3-bec5-236e40964cd4",
   "metadata": {},
   "source": [
    "# All with standard"
   ]
  },
  {
   "cell_type": "code",
   "execution_count": 43,
   "id": "c65d7d05-04ad-4f34-b947-c1faf6a5f9fd",
   "metadata": {},
   "outputs": [
    {
     "data": {
      "text/plain": [
       "LinearRegression()"
      ]
     },
     "execution_count": 43,
     "metadata": {},
     "output_type": "execute_result"
    }
   ],
   "source": [
    "model(all_df, target, standard=True)"
   ]
  },
  {
   "cell_type": "code",
   "execution_count": 44,
   "id": "0fa20bec-ea11-4076-b3bc-2ad24fedd3ff",
   "metadata": {},
   "outputs": [
    {
     "data": {
      "text/plain": [
       "0        221900.0\n",
       "1        538000.0\n",
       "2        180000.0\n",
       "3        604000.0\n",
       "4        510000.0\n",
       "           ...   \n",
       "21592    360000.0\n",
       "21593    400000.0\n",
       "21594    402101.0\n",
       "21595    400000.0\n",
       "21596    325000.0\n",
       "Name: price, Length: 20331, dtype: float64"
      ]
     },
     "execution_count": 44,
     "metadata": {},
     "output_type": "execute_result"
    }
   ],
   "source": [
    "target"
   ]
  },
  {
   "cell_type": "markdown",
   "id": "44eef494-d45e-4a09-97ac-cb9417c1c540",
   "metadata": {},
   "source": [
    "# All with standard and log"
   ]
  },
  {
   "cell_type": "code",
   "execution_count": 45,
   "id": "8b430167-885a-41fb-80b2-2ace2bcb7e77",
   "metadata": {},
   "outputs": [],
   "source": [
    "best = model(all_df, target)"
   ]
  },
  {
   "cell_type": "code",
   "execution_count": 87,
   "id": "bcf1dff2-95e9-424f-b456-eb86766f859f",
   "metadata": {},
   "outputs": [
    {
     "data": {
      "text/plain": [
       "Index(['bedrooms', 'bathrooms', 'sqft_living', 'sqft_lot', 'floors', 'grade',\n",
       "       'sqft_above', 'sqft_living15', 'sqft_lot15', 'age', 'months_ago_sold',\n",
       "       'x0_98001.0', 'x0_98002.0', 'x0_98003.0', 'x0_98004.0', 'x0_98005.0',\n",
       "       'x0_98006.0', 'x0_98007.0', 'x0_98008.0', 'x0_98010.0', 'x0_98011.0',\n",
       "       'x0_98014.0', 'x0_98019.0', 'x0_98022.0', 'x0_98023.0', 'x0_98024.0',\n",
       "       'x0_98027.0', 'x0_98028.0', 'x0_98029.0', 'x0_98030.0', 'x0_98031.0',\n",
       "       'x0_98032.0', 'x0_98033.0', 'x0_98034.0', 'x0_98038.0', 'x0_98039.0',\n",
       "       'x0_98040.0', 'x0_98042.0', 'x0_98045.0', 'x0_98052.0', 'x0_98053.0',\n",
       "       'x0_98055.0', 'x0_98056.0', 'x0_98058.0', 'x0_98059.0', 'x0_98065.0',\n",
       "       'x0_98070.0', 'x0_98072.0', 'x0_98074.0', 'x0_98075.0', 'x0_98077.0',\n",
       "       'x0_98092.0', 'x0_98102.0', 'x0_98103.0', 'x0_98105.0', 'x0_98106.0',\n",
       "       'x0_98107.0', 'x0_98108.0', 'x0_98109.0', 'x0_98112.0', 'x0_98115.0',\n",
       "       'x0_98116.0', 'x0_98117.0', 'x0_98118.0', 'x0_98119.0', 'x0_98122.0',\n",
       "       'x0_98125.0', 'x0_98126.0', 'x0_98133.0', 'x0_98136.0', 'x0_98144.0',\n",
       "       'x0_98146.0', 'x0_98148.0', 'x0_98155.0', 'x0_98166.0', 'x0_98168.0',\n",
       "       'x0_98177.0', 'x0_98178.0', 'x0_98188.0', 'x0_98198.0', 'x0_98199.0',\n",
       "       'sqft_living&above', 'sqft_living&grade', 'sqft_living&living15',\n",
       "       'grade&sqft_above', 'bathrooms&sqft_living', 'sqft_above&sqft_living15',\n",
       "       'grade&sqft_living15'],\n",
       "      dtype='object')"
      ]
     },
     "execution_count": 87,
     "metadata": {},
     "output_type": "execute_result"
    }
   ],
   "source": [
    "all_df.columns"
   ]
  },
  {
   "cell_type": "code",
   "execution_count": 81,
   "id": "81dc37d7-328f-4f68-b015-76f7ff99e1c2",
   "metadata": {},
   "outputs": [
    {
     "data": {
      "text/plain": [
       "sqft_living            1180\n",
       "grade                     7\n",
       "sqft_above             1180\n",
       "sqft_living15          1340\n",
       "bathrooms               1.0\n",
       "bedrooms                  3\n",
       "floors                  1.0\n",
       "sqft_lot15             5650\n",
       "sqft_lot               5650\n",
       "zipcode               98178\n",
       "yr_built               1955\n",
       "date             10/13/2014\n",
       "Name: 0, dtype: object"
      ]
     },
     "execution_count": 81,
     "metadata": {},
     "output_type": "execute_result"
    }
   ],
   "source": [
    "df[[\"sqft_living\", \"grade\", \"sqft_above\", \"sqft_living15\", \"bathrooms\", \"bedrooms\", \"floors\", \"sqft_lot15\", \"sqft_lot\", \"zipcode\", \"yr_built\", \"date\"]].iloc[0]"
   ]
  },
  {
   "cell_type": "code",
   "execution_count": 66,
   "id": "2056e799-be97-47dd-b1a3-38daa5cb0794",
   "metadata": {},
   "outputs": [
    {
     "data": {
      "text/plain": [
       "221900.0"
      ]
     },
     "execution_count": 66,
     "metadata": {},
     "output_type": "execute_result"
    }
   ],
   "source": [
    "target[0]"
   ]
  },
  {
   "cell_type": "code",
   "execution_count": 69,
   "id": "4d80ee42-3ed4-447d-9d02-8813f8d6c0e6",
   "metadata": {},
   "outputs": [
    {
     "data": {
      "text/plain": [
       "array([225134.93869781])"
      ]
     },
     "execution_count": 69,
     "metadata": {},
     "output_type": "execute_result"
    }
   ],
   "source": [
    "best.predict(np.array(all_df.iloc[0]).reshape(1,-1))"
   ]
  },
  {
   "cell_type": "code",
   "execution_count": 70,
   "id": "abb505f9-cb38-424e-9f1d-a65634620a84",
   "metadata": {},
   "outputs": [],
   "source": [
    "with open('model.pkl', 'wb') as f:\n",
    "    pickle.dump(best, f)"
   ]
  },
  {
   "cell_type": "code",
   "execution_count": 48,
   "id": "a6fd99a1-be9f-4d38-ab32-f223e26ebf93",
   "metadata": {},
   "outputs": [
    {
     "data": {
      "text/html": [
       "<div>\n",
       "<style scoped>\n",
       "    .dataframe tbody tr th:only-of-type {\n",
       "        vertical-align: middle;\n",
       "    }\n",
       "\n",
       "    .dataframe tbody tr th {\n",
       "        vertical-align: top;\n",
       "    }\n",
       "\n",
       "    .dataframe thead th {\n",
       "        text-align: right;\n",
       "    }\n",
       "</style>\n",
       "<table border=\"1\" class=\"dataframe\">\n",
       "  <thead>\n",
       "    <tr style=\"text-align: right;\">\n",
       "      <th></th>\n",
       "      <th>bedrooms</th>\n",
       "      <th>bathrooms</th>\n",
       "      <th>sqft_living</th>\n",
       "      <th>sqft_lot</th>\n",
       "      <th>floors</th>\n",
       "      <th>grade</th>\n",
       "      <th>sqft_above</th>\n",
       "      <th>sqft_living15</th>\n",
       "      <th>sqft_lot15</th>\n",
       "      <th>age</th>\n",
       "      <th>...</th>\n",
       "      <th>x0_98188.0</th>\n",
       "      <th>x0_98198.0</th>\n",
       "      <th>x0_98199.0</th>\n",
       "      <th>sqft_living&amp;above</th>\n",
       "      <th>sqft_living&amp;grade</th>\n",
       "      <th>sqft_living&amp;living15</th>\n",
       "      <th>grade&amp;sqft_above</th>\n",
       "      <th>bathrooms&amp;sqft_living</th>\n",
       "      <th>sqft_above&amp;sqft_living15</th>\n",
       "      <th>grade&amp;sqft_living15</th>\n",
       "    </tr>\n",
       "  </thead>\n",
       "  <tbody>\n",
       "    <tr>\n",
       "      <th>0</th>\n",
       "      <td>3.0</td>\n",
       "      <td>1.00</td>\n",
       "      <td>1180.0</td>\n",
       "      <td>5650.0</td>\n",
       "      <td>1.0</td>\n",
       "      <td>7.0</td>\n",
       "      <td>1180.0</td>\n",
       "      <td>1340.0</td>\n",
       "      <td>5650.0</td>\n",
       "      <td>66.0</td>\n",
       "      <td>...</td>\n",
       "      <td>0.0</td>\n",
       "      <td>0.0</td>\n",
       "      <td>0.0</td>\n",
       "      <td>1392400.0</td>\n",
       "      <td>8260.0</td>\n",
       "      <td>1581200.0</td>\n",
       "      <td>8260.0</td>\n",
       "      <td>1180.0</td>\n",
       "      <td>1581200.0</td>\n",
       "      <td>9380.0</td>\n",
       "    </tr>\n",
       "    <tr>\n",
       "      <th>1</th>\n",
       "      <td>3.0</td>\n",
       "      <td>2.25</td>\n",
       "      <td>2570.0</td>\n",
       "      <td>7242.0</td>\n",
       "      <td>2.0</td>\n",
       "      <td>7.0</td>\n",
       "      <td>2170.0</td>\n",
       "      <td>1690.0</td>\n",
       "      <td>7639.0</td>\n",
       "      <td>70.0</td>\n",
       "      <td>...</td>\n",
       "      <td>0.0</td>\n",
       "      <td>0.0</td>\n",
       "      <td>0.0</td>\n",
       "      <td>5576900.0</td>\n",
       "      <td>17990.0</td>\n",
       "      <td>4343300.0</td>\n",
       "      <td>15190.0</td>\n",
       "      <td>5782.5</td>\n",
       "      <td>3667300.0</td>\n",
       "      <td>11830.0</td>\n",
       "    </tr>\n",
       "    <tr>\n",
       "      <th>2</th>\n",
       "      <td>2.0</td>\n",
       "      <td>1.00</td>\n",
       "      <td>770.0</td>\n",
       "      <td>10000.0</td>\n",
       "      <td>1.0</td>\n",
       "      <td>6.0</td>\n",
       "      <td>770.0</td>\n",
       "      <td>2720.0</td>\n",
       "      <td>8062.0</td>\n",
       "      <td>88.0</td>\n",
       "      <td>...</td>\n",
       "      <td>0.0</td>\n",
       "      <td>0.0</td>\n",
       "      <td>0.0</td>\n",
       "      <td>592900.0</td>\n",
       "      <td>4620.0</td>\n",
       "      <td>2094400.0</td>\n",
       "      <td>4620.0</td>\n",
       "      <td>770.0</td>\n",
       "      <td>2094400.0</td>\n",
       "      <td>16320.0</td>\n",
       "    </tr>\n",
       "    <tr>\n",
       "      <th>3</th>\n",
       "      <td>4.0</td>\n",
       "      <td>3.00</td>\n",
       "      <td>1960.0</td>\n",
       "      <td>5000.0</td>\n",
       "      <td>1.0</td>\n",
       "      <td>7.0</td>\n",
       "      <td>1050.0</td>\n",
       "      <td>1360.0</td>\n",
       "      <td>5000.0</td>\n",
       "      <td>56.0</td>\n",
       "      <td>...</td>\n",
       "      <td>0.0</td>\n",
       "      <td>0.0</td>\n",
       "      <td>0.0</td>\n",
       "      <td>2058000.0</td>\n",
       "      <td>13720.0</td>\n",
       "      <td>2665600.0</td>\n",
       "      <td>7350.0</td>\n",
       "      <td>5880.0</td>\n",
       "      <td>1428000.0</td>\n",
       "      <td>9520.0</td>\n",
       "    </tr>\n",
       "    <tr>\n",
       "      <th>4</th>\n",
       "      <td>3.0</td>\n",
       "      <td>2.00</td>\n",
       "      <td>1680.0</td>\n",
       "      <td>8080.0</td>\n",
       "      <td>1.0</td>\n",
       "      <td>8.0</td>\n",
       "      <td>1680.0</td>\n",
       "      <td>1800.0</td>\n",
       "      <td>7503.0</td>\n",
       "      <td>34.0</td>\n",
       "      <td>...</td>\n",
       "      <td>0.0</td>\n",
       "      <td>0.0</td>\n",
       "      <td>0.0</td>\n",
       "      <td>2822400.0</td>\n",
       "      <td>13440.0</td>\n",
       "      <td>3024000.0</td>\n",
       "      <td>13440.0</td>\n",
       "      <td>3360.0</td>\n",
       "      <td>3024000.0</td>\n",
       "      <td>14400.0</td>\n",
       "    </tr>\n",
       "    <tr>\n",
       "      <th>...</th>\n",
       "      <td>...</td>\n",
       "      <td>...</td>\n",
       "      <td>...</td>\n",
       "      <td>...</td>\n",
       "      <td>...</td>\n",
       "      <td>...</td>\n",
       "      <td>...</td>\n",
       "      <td>...</td>\n",
       "      <td>...</td>\n",
       "      <td>...</td>\n",
       "      <td>...</td>\n",
       "      <td>...</td>\n",
       "      <td>...</td>\n",
       "      <td>...</td>\n",
       "      <td>...</td>\n",
       "      <td>...</td>\n",
       "      <td>...</td>\n",
       "      <td>...</td>\n",
       "      <td>...</td>\n",
       "      <td>...</td>\n",
       "      <td>...</td>\n",
       "    </tr>\n",
       "    <tr>\n",
       "      <th>21592</th>\n",
       "      <td>3.0</td>\n",
       "      <td>2.50</td>\n",
       "      <td>1530.0</td>\n",
       "      <td>1131.0</td>\n",
       "      <td>3.0</td>\n",
       "      <td>8.0</td>\n",
       "      <td>1530.0</td>\n",
       "      <td>1530.0</td>\n",
       "      <td>1509.0</td>\n",
       "      <td>12.0</td>\n",
       "      <td>...</td>\n",
       "      <td>0.0</td>\n",
       "      <td>0.0</td>\n",
       "      <td>0.0</td>\n",
       "      <td>2340900.0</td>\n",
       "      <td>12240.0</td>\n",
       "      <td>2340900.0</td>\n",
       "      <td>12240.0</td>\n",
       "      <td>3825.0</td>\n",
       "      <td>2340900.0</td>\n",
       "      <td>12240.0</td>\n",
       "    </tr>\n",
       "    <tr>\n",
       "      <th>21593</th>\n",
       "      <td>4.0</td>\n",
       "      <td>2.50</td>\n",
       "      <td>2310.0</td>\n",
       "      <td>5813.0</td>\n",
       "      <td>2.0</td>\n",
       "      <td>8.0</td>\n",
       "      <td>2310.0</td>\n",
       "      <td>1830.0</td>\n",
       "      <td>7200.0</td>\n",
       "      <td>7.0</td>\n",
       "      <td>...</td>\n",
       "      <td>0.0</td>\n",
       "      <td>0.0</td>\n",
       "      <td>0.0</td>\n",
       "      <td>5336100.0</td>\n",
       "      <td>18480.0</td>\n",
       "      <td>4227300.0</td>\n",
       "      <td>18480.0</td>\n",
       "      <td>5775.0</td>\n",
       "      <td>4227300.0</td>\n",
       "      <td>14640.0</td>\n",
       "    </tr>\n",
       "    <tr>\n",
       "      <th>21594</th>\n",
       "      <td>2.0</td>\n",
       "      <td>0.75</td>\n",
       "      <td>1020.0</td>\n",
       "      <td>1350.0</td>\n",
       "      <td>2.0</td>\n",
       "      <td>7.0</td>\n",
       "      <td>1020.0</td>\n",
       "      <td>1020.0</td>\n",
       "      <td>2007.0</td>\n",
       "      <td>12.0</td>\n",
       "      <td>...</td>\n",
       "      <td>0.0</td>\n",
       "      <td>0.0</td>\n",
       "      <td>0.0</td>\n",
       "      <td>1040400.0</td>\n",
       "      <td>7140.0</td>\n",
       "      <td>1040400.0</td>\n",
       "      <td>7140.0</td>\n",
       "      <td>765.0</td>\n",
       "      <td>1040400.0</td>\n",
       "      <td>7140.0</td>\n",
       "    </tr>\n",
       "    <tr>\n",
       "      <th>21595</th>\n",
       "      <td>3.0</td>\n",
       "      <td>2.50</td>\n",
       "      <td>1600.0</td>\n",
       "      <td>2388.0</td>\n",
       "      <td>2.0</td>\n",
       "      <td>8.0</td>\n",
       "      <td>1600.0</td>\n",
       "      <td>1410.0</td>\n",
       "      <td>1287.0</td>\n",
       "      <td>17.0</td>\n",
       "      <td>...</td>\n",
       "      <td>0.0</td>\n",
       "      <td>0.0</td>\n",
       "      <td>0.0</td>\n",
       "      <td>2560000.0</td>\n",
       "      <td>12800.0</td>\n",
       "      <td>2256000.0</td>\n",
       "      <td>12800.0</td>\n",
       "      <td>4000.0</td>\n",
       "      <td>2256000.0</td>\n",
       "      <td>11280.0</td>\n",
       "    </tr>\n",
       "    <tr>\n",
       "      <th>21596</th>\n",
       "      <td>2.0</td>\n",
       "      <td>0.75</td>\n",
       "      <td>1020.0</td>\n",
       "      <td>1076.0</td>\n",
       "      <td>2.0</td>\n",
       "      <td>7.0</td>\n",
       "      <td>1020.0</td>\n",
       "      <td>1020.0</td>\n",
       "      <td>1357.0</td>\n",
       "      <td>13.0</td>\n",
       "      <td>...</td>\n",
       "      <td>0.0</td>\n",
       "      <td>0.0</td>\n",
       "      <td>0.0</td>\n",
       "      <td>1040400.0</td>\n",
       "      <td>7140.0</td>\n",
       "      <td>1040400.0</td>\n",
       "      <td>7140.0</td>\n",
       "      <td>765.0</td>\n",
       "      <td>1040400.0</td>\n",
       "      <td>7140.0</td>\n",
       "    </tr>\n",
       "  </tbody>\n",
       "</table>\n",
       "<p>20331 rows × 88 columns</p>\n",
       "</div>"
      ],
      "text/plain": [
       "       bedrooms  bathrooms  sqft_living  sqft_lot  floors  grade  sqft_above  \\\n",
       "0           3.0       1.00       1180.0    5650.0     1.0    7.0      1180.0   \n",
       "1           3.0       2.25       2570.0    7242.0     2.0    7.0      2170.0   \n",
       "2           2.0       1.00        770.0   10000.0     1.0    6.0       770.0   \n",
       "3           4.0       3.00       1960.0    5000.0     1.0    7.0      1050.0   \n",
       "4           3.0       2.00       1680.0    8080.0     1.0    8.0      1680.0   \n",
       "...         ...        ...          ...       ...     ...    ...         ...   \n",
       "21592       3.0       2.50       1530.0    1131.0     3.0    8.0      1530.0   \n",
       "21593       4.0       2.50       2310.0    5813.0     2.0    8.0      2310.0   \n",
       "21594       2.0       0.75       1020.0    1350.0     2.0    7.0      1020.0   \n",
       "21595       3.0       2.50       1600.0    2388.0     2.0    8.0      1600.0   \n",
       "21596       2.0       0.75       1020.0    1076.0     2.0    7.0      1020.0   \n",
       "\n",
       "       sqft_living15  sqft_lot15   age  ...  x0_98188.0  x0_98198.0  \\\n",
       "0             1340.0      5650.0  66.0  ...         0.0         0.0   \n",
       "1             1690.0      7639.0  70.0  ...         0.0         0.0   \n",
       "2             2720.0      8062.0  88.0  ...         0.0         0.0   \n",
       "3             1360.0      5000.0  56.0  ...         0.0         0.0   \n",
       "4             1800.0      7503.0  34.0  ...         0.0         0.0   \n",
       "...              ...         ...   ...  ...         ...         ...   \n",
       "21592         1530.0      1509.0  12.0  ...         0.0         0.0   \n",
       "21593         1830.0      7200.0   7.0  ...         0.0         0.0   \n",
       "21594         1020.0      2007.0  12.0  ...         0.0         0.0   \n",
       "21595         1410.0      1287.0  17.0  ...         0.0         0.0   \n",
       "21596         1020.0      1357.0  13.0  ...         0.0         0.0   \n",
       "\n",
       "       x0_98199.0  sqft_living&above  sqft_living&grade  sqft_living&living15  \\\n",
       "0             0.0          1392400.0             8260.0             1581200.0   \n",
       "1             0.0          5576900.0            17990.0             4343300.0   \n",
       "2             0.0           592900.0             4620.0             2094400.0   \n",
       "3             0.0          2058000.0            13720.0             2665600.0   \n",
       "4             0.0          2822400.0            13440.0             3024000.0   \n",
       "...           ...                ...                ...                   ...   \n",
       "21592         0.0          2340900.0            12240.0             2340900.0   \n",
       "21593         0.0          5336100.0            18480.0             4227300.0   \n",
       "21594         0.0          1040400.0             7140.0             1040400.0   \n",
       "21595         0.0          2560000.0            12800.0             2256000.0   \n",
       "21596         0.0          1040400.0             7140.0             1040400.0   \n",
       "\n",
       "       grade&sqft_above  bathrooms&sqft_living  sqft_above&sqft_living15  \\\n",
       "0                8260.0                 1180.0                 1581200.0   \n",
       "1               15190.0                 5782.5                 3667300.0   \n",
       "2                4620.0                  770.0                 2094400.0   \n",
       "3                7350.0                 5880.0                 1428000.0   \n",
       "4               13440.0                 3360.0                 3024000.0   \n",
       "...                 ...                    ...                       ...   \n",
       "21592           12240.0                 3825.0                 2340900.0   \n",
       "21593           18480.0                 5775.0                 4227300.0   \n",
       "21594            7140.0                  765.0                 1040400.0   \n",
       "21595           12800.0                 4000.0                 2256000.0   \n",
       "21596            7140.0                  765.0                 1040400.0   \n",
       "\n",
       "       grade&sqft_living15  \n",
       "0                   9380.0  \n",
       "1                  11830.0  \n",
       "2                  16320.0  \n",
       "3                   9520.0  \n",
       "4                  14400.0  \n",
       "...                    ...  \n",
       "21592              12240.0  \n",
       "21593              14640.0  \n",
       "21594               7140.0  \n",
       "21595              11280.0  \n",
       "21596               7140.0  \n",
       "\n",
       "[20331 rows x 88 columns]"
      ]
     },
     "execution_count": 48,
     "metadata": {},
     "output_type": "execute_result"
    }
   ],
   "source": [
    "all_df"
   ]
  },
  {
   "cell_type": "code",
   "execution_count": null,
   "id": "377c3eb0-10fd-423d-afdb-35cb2db58c46",
   "metadata": {},
   "outputs": [],
   "source": []
  },
  {
   "cell_type": "markdown",
   "id": "3b5df53e-7fd5-4a14-bc74-64b7f6f6c3de",
   "metadata": {},
   "source": [
    "# Price distribution skew"
   ]
  },
  {
   "cell_type": "code",
   "execution_count": 49,
   "id": "57f2e375-94ce-4753-a7b8-894d4319d78a",
   "metadata": {},
   "outputs": [
    {
     "data": {
      "image/png": "[encoded data removed]",
      "text/plain": [
       "<Figure size 432x288 with 1 Axes>"
      ]
     },
     "metadata": {
      "needs_background": "light"
     },
     "output_type": "display_data"
    }
   ],
   "source": [
    "sns.histplot(df.price, bins=20);"
   ]
  },
  {
   "cell_type": "markdown",
   "id": "f60017eb-ee23-45cd-91c8-c3a632c016bf",
   "metadata": {},
   "source": [
    "# Feature importance"
   ]
  },
  {
   "cell_type": "code",
   "execution_count": 51,
   "id": "33266373-f3ee-45fb-ad9d-c62a1257e72d",
   "metadata": {},
   "outputs": [
    {
     "data": {
      "text/plain": [
       "LinearRegression()"
      ]
     },
     "execution_count": 51,
     "metadata": {},
     "output_type": "execute_result"
    }
   ],
   "source": [
    "best"
   ]
  },
  {
   "cell_type": "code",
   "execution_count": 52,
   "id": "32efb6c4-0a4e-4159-94d0-de80785a6147",
   "metadata": {},
   "outputs": [],
   "source": [
    "#sns.barplot(x=best[2][\"feature\"][:7], y=best[2][\"weight\"][:7  ]);"
   ]
  },
  {
   "cell_type": "markdown",
   "id": "e3c9ca41-ef74-4a1d-ad44-5852563e03ba",
   "metadata": {},
   "source": [
    "# Pickle best model"
   ]
  },
  {
   "cell_type": "code",
   "execution_count": 53,
   "id": "9f147e10-5b27-4448-ad44-f5410c329b62",
   "metadata": {},
   "outputs": [],
   "source": [
    "with open(\"model.pkl\", \"wb\") as f:\n",
    "    pickle.dump(best, f)"
   ]
  },
  {
   "cell_type": "code",
   "execution_count": 54,
   "id": "caf142eb-2b3f-4e01-bd56-3f94e74d921f",
   "metadata": {},
   "outputs": [],
   "source": [
    "# #One hot encode zipcode\n",
    "# zip_code = df[['zipcode']]\n",
    "# onehot = OneHotEncoder(sparse=False)\n",
    "# onehot_data = onehot.fit_transform(zip_code)\n",
    "# zip_code = pd.DataFrame(onehot_data, columns=onehot.get_feature_names())\n",
    "# df = pd.concat([df,zip_code],axis=1)"
   ]
  },
  {
   "cell_type": "markdown",
   "id": "3e61de8a-8514-4d02-8ae5-23fe325c7624",
   "metadata": {},
   "source": [
    "# Bottom of page. Run GUI loop"
   ]
  },
  {
   "cell_type": "code",
   "execution_count": 55,
   "id": "c8626925-9a3c-4ef9-afdb-8ff617f7200d",
   "metadata": {},
   "outputs": [],
   "source": [
    "#neccesary?\n",
    "columns = df[['bedrooms','bathrooms','sqft_living','sqft_lot','floors','grade','sqft_above','sqft_living15','sqft_lot15','price']]"
   ]
  },
  {
   "cell_type": "code",
   "execution_count": 56,
   "id": "32365b3f-cbb2-457c-8f25-12bc07d915ab",
   "metadata": {},
   "outputs": [],
   "source": [
    "window = Tk()\n",
    "window.title(\"my first\")\n",
    "window.configure(background=\"blue\")"
   ]
  },
  {
   "cell_type": "code",
   "execution_count": 57,
   "id": "9eb290e3-35b7-4c8f-ba82-9b9e4ddc17de",
   "metadata": {},
   "outputs": [],
   "source": [
    "#create header label\n",
    "Label (window, text=\"Enter the data:\", bg=\"blue\", fg=\"white\", font=\"none 22 bold\") .grid(row=0, column=0, columnspan=2, sticky=W)"
   ]
  },
  {
   "cell_type": "code",
   "execution_count": 58,
   "id": "bb510c08-04ec-4f4f-8981-357bc656532d",
   "metadata": {},
   "outputs": [],
   "source": [
    "#create input labels\n",
    "input_labels = ['sqft_living', 'grade', 'sqft_above', 'sqft_living15', 'bathrooms', 'bedrooms', 'floors', 'sqft_lot', 'sqft_lot15', 'age', \"zipcode\", \"months_ago_sold\"]\n",
    "i=1\n",
    "for item in input_labels:\n",
    "    Label (window, text=item, bg=\"blue\", fg=\"white\", font=\"none 12 bold\") .grid(row=i, column=0, sticky=W)\n",
    "    i+=1"
   ]
  },
  {
   "cell_type": "code",
   "execution_count": 59,
   "id": "150ba2a1-fd02-49c1-a487-daa33b95ecc9",
   "metadata": {},
   "outputs": [],
   "source": [
    "#create label entry boxes\n",
    "sqft_living = Entry(window, width=20, bg=\"white\")\n",
    "sqft_living.grid(row=1, column=1, sticky=W)\n",
    "grade = Entry(window, width=20, bg=\"white\")\n",
    "grade.grid(row=2, column=1, sticky=W)\n",
    "sqft_above = Entry(window, width=20, bg=\"white\")\n",
    "sqft_above.grid(row=3, column=1, sticky=W)\n",
    "sqft_living15 = Entry(window, width=20, bg=\"white\")\n",
    "sqft_living15.grid(row=4, column=1, sticky=W)\n",
    "bathrooms = Entry(window, width=20, bg=\"white\")\n",
    "bathrooms.grid(row=5, column=1, sticky=W)\n",
    "bedrooms = Entry(window, width=20, bg=\"white\")\n",
    "bedrooms.grid(row=6, column=1, sticky=W)\n",
    "floors = Entry(window, width=20, bg=\"white\")\n",
    "floors.grid(row=7, column=1, sticky=W)\n",
    "sqft_lot = Entry(window, width=20, bg=\"white\")\n",
    "sqft_lot.grid(row=8, column=1, sticky=W)\n",
    "sqft_lot15 = Entry(window, width=20, bg=\"white\")\n",
    "sqft_lot15.grid(row=9, column=1, sticky=W)\n",
    "age = Entry(window, width=20, bg=\"white\")\n",
    "age.grid(row=10, column=1, sticky=W)\n",
    "zipcode = Entry(window, width=20, bg=\"white\")\n",
    "zipcode.grid(row=11, column=1, sticky=W)\n",
    "months_ago_sold = Entry(window, width=20, bg=\"white\")\n",
    "months_ago_sold.grid(row=12, column=1, sticky=W)"
   ]
  },
  {
   "cell_type": "code",
   "execution_count": 60,
   "id": "37d3bba5-e80d-40bb-a365-3469c00eb077",
   "metadata": {},
   "outputs": [
    {
     "data": {
      "text/plain": [
       "Index(['bedrooms', 'bathrooms', 'sqft_living', 'sqft_lot', 'floors', 'grade',\n",
       "       'sqft_above', 'sqft_living15', 'sqft_lot15', 'age', 'months_ago_sold',\n",
       "       'x0_98001.0', 'x0_98002.0', 'x0_98003.0', 'x0_98004.0', 'x0_98005.0',\n",
       "       'x0_98006.0', 'x0_98007.0', 'x0_98008.0', 'x0_98010.0', 'x0_98011.0',\n",
       "       'x0_98014.0', 'x0_98019.0', 'x0_98022.0', 'x0_98023.0', 'x0_98024.0',\n",
       "       'x0_98027.0', 'x0_98028.0', 'x0_98029.0', 'x0_98030.0', 'x0_98031.0',\n",
       "       'x0_98032.0', 'x0_98033.0', 'x0_98034.0', 'x0_98038.0', 'x0_98039.0',\n",
       "       'x0_98040.0', 'x0_98042.0', 'x0_98045.0', 'x0_98052.0', 'x0_98053.0',\n",
       "       'x0_98055.0', 'x0_98056.0', 'x0_98058.0', 'x0_98059.0', 'x0_98065.0',\n",
       "       'x0_98070.0', 'x0_98072.0', 'x0_98074.0', 'x0_98075.0', 'x0_98077.0',\n",
       "       'x0_98092.0', 'x0_98102.0', 'x0_98103.0', 'x0_98105.0', 'x0_98106.0',\n",
       "       'x0_98107.0', 'x0_98108.0', 'x0_98109.0', 'x0_98112.0', 'x0_98115.0',\n",
       "       'x0_98116.0', 'x0_98117.0', 'x0_98118.0', 'x0_98119.0', 'x0_98122.0',\n",
       "       'x0_98125.0', 'x0_98126.0', 'x0_98133.0', 'x0_98136.0', 'x0_98144.0',\n",
       "       'x0_98146.0', 'x0_98148.0', 'x0_98155.0', 'x0_98166.0', 'x0_98168.0',\n",
       "       'x0_98177.0', 'x0_98178.0', 'x0_98188.0', 'x0_98198.0', 'x0_98199.0',\n",
       "       'sqft_living&above', 'sqft_living&grade', 'sqft_living&living15',\n",
       "       'grade&sqft_above', 'bathrooms&sqft_living', 'sqft_above&sqft_living15',\n",
       "       'grade&sqft_living15'],\n",
       "      dtype='object')"
      ]
     },
     "execution_count": 60,
     "metadata": {},
     "output_type": "execute_result"
    }
   ],
   "source": [
    "all_df.columns"
   ]
  },
  {
   "cell_type": "code",
   "execution_count": null,
   "id": "15d6b1f8-d304-4781-9b6b-87ec2c53dcdc",
   "metadata": {},
   "outputs": [],
   "source": []
  },
  {
   "cell_type": "code",
   "execution_count": null,
   "id": "c5531415-eca0-4a45-9534-0ad0905af8f0",
   "metadata": {},
   "outputs": [],
   "source": []
  }
 ],
 "metadata": {
  "kernelspec": {
   "display_name": "Python 3",
   "language": "python",
   "name": "python3"
  },
  "language_info": {
   "codemirror_mode": {
    "name": "ipython",
    "version": 3
   },
   "file_extension": ".py",
   "mimetype": "text/x-python",
   "name": "python",
   "nbconvert_exporter": "python",
   "pygments_lexer": "ipython3",
   "version": "3.8.8"
  }
 },
 "nbformat": 4,
 "nbformat_minor": 5
}
