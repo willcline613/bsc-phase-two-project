{
 "cells": [
  {
   "cell_type": "code",
   "execution_count": 1,
   "metadata": {},
   "outputs": [],
   "source": [
    "import pandas as pd\n",
    "import numpy as np\n",
    "import matplotlib.pyplot as plt\n",
    "import seaborn as sns\n",
    "from sklearn.linear_model import LinearRegression\n",
    "from sklearn.impute import SimpleImputer\n",
    "from sklearn.metrics import mean_squared_error\n",
    "from sklearn.model_selection import train_test_split\n",
    "from sklearn.preprocessing import MinMaxScaler\n",
    "from sklearn.preprocessing import StandardScaler\n",
    "from sklearn.preprocessing import OneHotEncoder\n",
    "from sklearn.preprocessing import LabelEncoder\n",
    "from scipy.stats import zscore\n",
    "from scipy import stats\n",
    "from tkinter import *\n",
    "import pickle\n",
    "\n",
    "from collections import Counter\n",
    "\n",
    "\n",
    "import warnings\n",
    "warnings.filterwarnings(\"ignore\")\n"
   ]
  },
  {
   "cell_type": "code",
   "execution_count": 79,
   "metadata": {},
   "outputs": [],
   "source": [
    "df = pd.read_csv(\"../../../data/kc_house_data.csv\")"
   ]
  },
  {
   "cell_type": "code",
   "execution_count": 3,
   "metadata": {},
   "outputs": [],
   "source": [
    "with open(\"ohe.pkl\", \"rb\") as f:\n",
    "    _ = pickle.load(f)"
   ]
  },
  {
   "cell_type": "code",
   "execution_count": 4,
   "metadata": {},
   "outputs": [
    {
     "data": {
      "text/plain": [
       "array([98001., 98002., 98003., 98004., 98005., 98006., 98007., 98008.,\n",
       "       98010., 98011., 98014., 98019., 98022., 98023., 98024., 98027.,\n",
       "       98028., 98029., 98030., 98031., 98032., 98033., 98034., 98038.,\n",
       "       98039., 98040., 98042., 98045., 98052., 98053., 98055., 98056.,\n",
       "       98058., 98059., 98065., 98070., 98072., 98074., 98075., 98077.,\n",
       "       98092., 98102., 98103., 98105., 98106., 98107., 98108., 98109.,\n",
       "       98112., 98115., 98116., 98117., 98118., 98119., 98122., 98125.,\n",
       "       98126., 98133., 98136., 98144., 98146., 98148., 98155., 98166.,\n",
       "       98168., 98177., 98178., 98188., 98198., 98199.])"
      ]
     },
     "execution_count": 4,
     "metadata": {},
     "output_type": "execute_result"
    }
   ],
   "source": [
    "_.categories_[0]"
   ]
  },
  {
   "cell_type": "code",
   "execution_count": 5,
   "metadata": {},
   "outputs": [
    {
     "data": {
      "text/plain": [
       "0        10/13/2014\n",
       "1         12/9/2014\n",
       "2         2/25/2015\n",
       "3         12/9/2014\n",
       "4         2/18/2015\n",
       "            ...    \n",
       "21592     5/21/2014\n",
       "21593     2/23/2015\n",
       "21594     6/23/2014\n",
       "21595     1/16/2015\n",
       "21596    10/15/2014\n",
       "Name: date, Length: 21597, dtype: object"
      ]
     },
     "execution_count": 5,
     "metadata": {},
     "output_type": "execute_result"
    }
   ],
   "source": [
    "df.date"
   ]
  },
  {
   "cell_type": "code",
   "execution_count": 6,
   "metadata": {},
   "outputs": [],
   "source": [
    "def rmse(predictions, targets):\n",
    "    return np.sqrt(np.mean((predictions-targets)**2))"
   ]
  },
  {
   "cell_type": "code",
   "execution_count": 3,
   "metadata": {},
   "outputs": [],
   "source": [
    "def model(x, target_df, standard=False, minmax=False, log=False):\n",
    "    if log:\n",
    "        #does log work on a bunh of columns at once?\n",
    "#         x = np.log(x)\n",
    "        target_df = np.log(target_df)\n",
    "        \n",
    "    #split data \n",
    "    X_train, X_test, y_train, y_test = train_test_split(x, target_df, random_state=42)\n",
    "    \n",
    "    #Implement scaler options if scaler parameters != None\n",
    "    if minmax:\n",
    "        scaler = MinMaxScaler()\n",
    "        scaler.fit(X_train)\n",
    "        X_train = scaler.transform(X_train)\n",
    "        X_test = scaler.transform(X_test)\n",
    "        \n",
    "    if standard:\n",
    "        scaler = StandardScaler()\n",
    "        scaler.fit(X_train)\n",
    "        X_train = scaler.transform(X_train)\n",
    "        X_test = scaler.transform(X_test)\n",
    "        \n",
    "    #create model\n",
    "    model = LinearRegression()\n",
    "    #fit data to model\n",
    "    model.fit(X_train, y_train)\n",
    "    \n",
    "    #Model coef\n",
    "    df_column_names = x.columns\n",
    "    coef = pd.DataFrame(list(zip(df_column_names, model.coef_)), columns = [\"feature\",\"weight\"])\\\n",
    "    .sort_values(\"weight\", ascending=False)\n",
    "    \n",
    "    #Make predictions\n",
    "    train_pred = model.predict(X_train)\n",
    "    test_pred = model.predict(X_test)\n",
    "    \n",
    "    if log:\n",
    "        train_rmse = rmse(np.exp(train_pred), np.exp(y_train.values))\n",
    "        test_rmse = rmse(np.exp(test_pred), np.exp(y_test.values))\n",
    "    else:\n",
    "    \n",
    "        #train rmse\n",
    "        train_rmse = rmse(train_pred, y_train.values)\n",
    "        #test rmse\n",
    "        test_rmse = rmse(test_pred, y_test.values)\n",
    "\n",
    "    return ( round(train_rmse,2), round(test_rmse, 2), coef)"
   ]
  },
  {
   "cell_type": "markdown",
   "metadata": {},
   "source": [
    "# Put best model in get prediction function"
   ]
  },
  {
   "cell_type": "code",
   "execution_count": 4,
   "metadata": {},
   "outputs": [],
   "source": [
    "def get_prediction(x):\n",
    "    #create model\n",
    "    model = LinearRegression()\n",
    "    #fit best feature df and target to model\n",
    "    model.fit(all_df, target)\n",
    "    \n",
    "    #get prediction for x(user inputs) based off of fitted model\n",
    "    pred = model.predict(x)\n",
    "    return pred"
   ]
  },
  {
   "cell_type": "code",
   "execution_count": 6,
   "metadata": {},
   "outputs": [],
   "source": [
    "def click():\n",
    "    entries = []\n",
    "    column_names = [\"sqft_living\", \"grade\", \"sqft_above\", \"sqft_living15\", \"bathrooms\", \"bedrooms\", \"floors\", \"sqft_lot15\", \"sqft_lot\", \"zipcode\", \"age\"]\n",
    "    \n",
    "    #saves text entry to entered_text variable when function is called by button press\n",
    "    entries.append(sqft_living.get())\n",
    "    entries.append(grade.get())\n",
    "    entries.append(sqft_above.get())\n",
    "    entries.append(sqft_living15.get())\n",
    "    entries.append(bathrooms.get())\n",
    "    entries.append(bedrooms.get())\n",
    "    entries.append(floors.get())\n",
    "    entries.append(sqft_lot15.get())\n",
    "    entries.append(sqft_lot.get())\n",
    "    entries.append(zipcode.get())\n",
    "    entries.append(age.get())\n",
    "    \n",
    "    entries_df = pd.DataFrame([entries], columns= column_names)\n",
    "    \n",
    "    #one hot encode zip code column then drop it\n",
    "    zip_code = entries_df[['zipcode']]\n",
    "    onehot = OneHotEncoder(sparse=False)\n",
    "    onehot_data = onehot.fit_transform(zip_code)\n",
    "    zip_code = pd.DataFrame(onehot_data, columns=onehot.get_feature_names())\n",
    "    entries_df = pd.concat([entries_df,zip_code],axis=1)\n",
    "    \n",
    "    print(entries_df)\n",
    "#     ##Call model() function at end of this function to get output\n",
    "#     predicted_price = get_prediction(entries_df)\n",
    "    \n",
    "#     if all(item != \"\" and is_number(item) for item in entries): \n",
    "#         #Clear output text box and output new word to it.\n",
    "#         output.delete(0.0,END)\n",
    "#         output.insert(END, predicted_price)\n",
    "#     else:\n",
    "#         output.delete(0.0,END)\n",
    "#         output.insert(END, \"Error: Missing or Invalid Entries\")"
   ]
  },
  {
   "cell_type": "code",
   "execution_count": 8,
   "metadata": {},
   "outputs": [],
   "source": [
    "def top_entries(df):\n",
    "    #df.corr().abs().unstack().sort_values(ascending=False).drop_duplicates()\n",
    "    \n",
    "    mat = df.corr().abs()\n",
    "    \n",
    "    # Remove duplicate and identity entries\n",
    "    mat.loc[:,:] = np.tril(mat.values, k=-1)\n",
    "    mat = mat[mat>0]\n",
    "\n",
    "    # Unstack, sort ascending, and reset the index, so features are in columns\n",
    "    # instead of indexes (allowing e.g. a pretty print in Jupyter).\n",
    "    # Also rename these it for good measure.\n",
    "    return (mat.unstack()\n",
    "             .sort_values(ascending=False)\n",
    "             .reset_index()\n",
    "             .rename(columns={\n",
    "                 \"level_0\": \"feature_a\",\n",
    "                 \"level_1\": \"feature_b\",\n",
    "                 0: \"correlation\"\n",
    "             }))"
   ]
  },
  {
   "cell_type": "code",
   "execution_count": 9,
   "metadata": {},
   "outputs": [],
   "source": [
    "def is_number(a):\n",
    "    # will be True also for 'NaN'\n",
    "    try:\n",
    "        number = float(a) or number == int(a)\n",
    "        return True\n",
    "    except ValueError:\n",
    "        return False"
   ]
  },
  {
   "cell_type": "markdown",
   "metadata": {},
   "source": [
    "# import data"
   ]
  },
  {
   "cell_type": "code",
   "execution_count": null,
   "metadata": {},
   "outputs": [],
   "source": [
    "path = \"../../../data/kc_house_data.csv\""
   ]
  },
  {
   "cell_type": "code",
   "execution_count": null,
   "metadata": {},
   "outputs": [],
   "source": [
    "df = pd.read_csv(path)"
   ]
  },
  {
   "cell_type": "markdown",
   "metadata": {},
   "source": [
    "# Clean the data"
   ]
  },
  {
   "cell_type": "code",
   "execution_count": 12,
   "metadata": {},
   "outputs": [],
   "source": [
    "def clean(df):\n",
    "    entries_df['sqft_living'] = entries_df['sqft_living'].astype(float)\n",
    "    entries_df['bedrooms'] = entries_df['bedrooms'].astype(float)\n",
    "    entries_df['bathrooms'] = entries_df['bathrooms'].astype(float)\n",
    "    entries_df['grade'] = entries_df['grade'].astype(float)\n",
    "    entries_df['sqft_above'] = entries_df['sqft_above'].astype(float)\n",
    "    entries_df['sqft_living15'] = entries_df['sqft_living15'].astype(float)\n",
    "    entries_df['sqft_lot15'] = entries_df['sqft_lot15'].astype(float)\n",
    "    entries_df['sqft_lot'] = entries_df['sqft_lot'].astype(float)\n",
    "    entries_df['months_ago_sold'] = entries_df['months_ago_sold'].astype(float)\n",
    "    entries_df['age'] = entries_df['age'].astype(float)\n",
    "    entries_df['floors'] = entries_df['floors'].astype(float)\n",
    "    \n",
    "    df[\"age\"] = df[\"yr_built\"].map(lambda x: 2021 - x)\n",
    "    df[\"months_ago_sold\"] = df[\"date\"].map(lambda date: float(date.split(\"/\")[0]) + (2021- float(date.split(\"/\")[2]) )*12)\n",
    "    \n",
    "    zip_code = df[['zipcode']]\n",
    "    onehot = OneHotEncoder(sparse=False)\n",
    "    onehot_data = onehot.fit_transform(zip_code)\n",
    "    zip_code = pd.DataFrame(onehot_data, columns=onehot.get_feature_names())\n",
    "    df = pd.concat([df,zip_code],axis=1)\n",
    "\n",
    "    # Top cross correlations via function at head of notebook\n",
    "    df[\"sqft_living&above\"] = df[\"sqft_living\"] * df[\"sqft_above\"]\n",
    "    df[\"sqft_living&grade\"] = df[\"sqft_living\"] * df[\"grade\"]\n",
    "    df[\"sqft_living&living15\"] = df[\"sqft_living\"] * df[\"sqft_living15\"]\n",
    "    df[\"grade&sqft_above\"] = df[\"grade\"] * df[\"sqft_living\"]\n",
    "    df[\"bathrooms&sqft_living\"] = df[\"bathrooms\"] * df[\"sqft_living\"]\n",
    "    df[\"sqft_above&sqft_living15\"] = df[\"sqft_above\"] *df[\"sqft_living15\"]\n",
    "    df[\"grade&sqft_above\"] = df[\"grade\"] * df[\"sqft_above\"]\n",
    "    df[\"grade&sqft_living15\"] = df[\"grade\"] * df[\"sqft_living15\"]\n",
    "    df[\"grade&sqft_above\"] = df[\"grade\"] * df[\"sqft_above\"]\n",
    "\n",
    "    df.drop([\"waterfront\", \"yr_renovated\", \"view\", \"lat\", 'yr_built', 'date', 'zipcode', 'id', 'sqft_basement', 'zipcode'], axis=1, inplace=True)\n",
    "    df.dropna(inplace=True)\n",
    "\n",
    "    #drop outliers\n",
    "    z_scores = stats.zscore(df[['bedrooms','bathrooms','sqft_living','sqft_lot','floors','grade','sqft_above','sqft_living15','sqft_lot15', \"price\"]])\n",
    "    abs_z_scores = np.abs(z_scores)\n",
    "    filtered_entries = (abs_z_scores < 3).all(axis=1)\n",
    "    df = df[filtered_entries]\n",
    "\n",
    "    return df"
   ]
  },
  {
   "cell_type": "markdown",
   "metadata": {},
   "source": [
    "### turn columns into floats"
   ]
  },
  {
   "cell_type": "code",
   "execution_count": null,
   "metadata": {},
   "outputs": [],
   "source": [
    "df['sqft_living'] = df['sqft_living'].astype(float)\n",
    "df['bedrooms'] = df['bedrooms'].astype(float)\n",
    "df['condition'] = df['condition'].astype(float)\n",
    "df['grade'] = df['grade'].astype(float)\n",
    "df['sqft_above'] = df['sqft_above'].astype(float)\n",
    "df['yr_built'] = df['yr_built'].astype(float)\n",
    "df['zipcode'] = df['zipcode'].astype(float)\n",
    "df['sqft_living15'] = df['sqft_living15'].astype(float)\n",
    "df['sqft_lot15'] = df['sqft_lot15'].astype(float)\n",
    "df['sqft_lot'] = df['sqft_lot'].astype(float)"
   ]
  },
  {
   "cell_type": "markdown",
   "metadata": {},
   "source": [
    "# Create new columns"
   ]
  },
  {
   "cell_type": "code",
   "execution_count": null,
   "metadata": {
    "tags": []
   },
   "outputs": [],
   "source": [
    "df[\"age\"] = df[\"yr_built\"].map(lambda x: 2021 - x)"
   ]
  },
  {
   "cell_type": "code",
   "execution_count": null,
   "metadata": {},
   "outputs": [],
   "source": [
    "df[\"months_ago_sold\"] = df[\"date\"].map(lambda date: float(date.split(\"/\")[0]) + (2021- float(date.split(\"/\")[2]) )*12)"
   ]
  },
  {
   "cell_type": "markdown",
   "metadata": {},
   "source": [
    "### Add zip code(categorical) columns"
   ]
  },
  {
   "cell_type": "code",
   "execution_count": null,
   "metadata": {},
   "outputs": [],
   "source": [
    "zip_code = df[['zipcode']]\n",
    "onehot = OneHotEncoder(sparse=False)\n",
    "onehot_data = onehot.fit_transform(zip_code)\n",
    "zip_code = pd.DataFrame(onehot_data, columns=onehot.get_feature_names())\n",
    "df = pd.concat([df,zip_code],axis=1)"
   ]
  },
  {
   "cell_type": "code",
   "execution_count": 17,
   "metadata": {},
   "outputs": [],
   "source": [
    "with open('ohe.pkl', 'wb') as f:\n",
    "    pickle.dump(onehot, f)"
   ]
  },
  {
   "cell_type": "markdown",
   "metadata": {},
   "source": [
    "### Add cross product columns"
   ]
  },
  {
   "cell_type": "code",
   "execution_count": null,
   "metadata": {},
   "outputs": [],
   "source": [
    "# Top cross correlations via function at head of notebook\n",
    "top = top_entries(df).dropna()"
   ]
  },
  {
   "cell_type": "code",
   "execution_count": null,
   "metadata": {},
   "outputs": [],
   "source": [
    "top = top[top[\"feature_a\"].str.contains(\"&\", \"price\")==False]\n",
    "top = top[top[\"feature_b\"].str.contains(\"&\")==False]\n",
    "top = top[top[\"feature_b\"].str.contains(\"price\")==False]"
   ]
  },
  {
   "cell_type": "code",
   "execution_count": null,
   "metadata": {},
   "outputs": [],
   "source": [
    "top[:5]"
   ]
  },
  {
   "cell_type": "code",
   "execution_count": null,
   "metadata": {},
   "outputs": [],
   "source": [
    "df[\"sqft_living&above\"] = df[\"sqft_living\"] * df[\"sqft_above\"]\n",
    "df[\"sqft_living&grade\"] = df[\"sqft_living\"] * df[\"grade\"]\n",
    "df[\"sqft_living&living15\"] = df[\"sqft_living\"] * df[\"sqft_living15\"]\n",
    "df[\"grade&sqft_above\"] = df[\"grade\"] * df[\"sqft_living\"]\n",
    "df[\"bathrooms&sqft_living\"] = df[\"bathrooms\"] * df[\"sqft_living\"]\n",
    "df[\"sqft_above&sqft_living15\"] = df[\"sqft_above\"] *df[\"sqft_living15\"]\n",
    "df[\"grade&sqft_above\"] = df[\"grade\"] * df[\"sqft_above\"]\n",
    "df[\"grade&sqft_living15\"] = df[\"grade\"] * df[\"sqft_living15\"]\n",
    "df[\"grade&sqft_above\"] = df[\"grade\"] * df[\"sqft_above\"]"
   ]
  },
  {
   "cell_type": "markdown",
   "metadata": {},
   "source": [
    "### Drop useless columns"
   ]
  },
  {
   "cell_type": "code",
   "execution_count": null,
   "metadata": {},
   "outputs": [],
   "source": [
    "df.drop([\"waterfront\", \"yr_renovated\", \"view\", \"lat\", 'yr_built', 'date', 'zipcode', 'id', 'sqft_basement', 'zipcode'], axis=1, inplace=True)"
   ]
  },
  {
   "cell_type": "markdown",
   "metadata": {},
   "source": [
    "### Drop na from dataset"
   ]
  },
  {
   "cell_type": "code",
   "execution_count": null,
   "metadata": {
    "tags": []
   },
   "outputs": [],
   "source": [
    "df.dropna(inplace=True)"
   ]
  },
  {
   "cell_type": "markdown",
   "metadata": {},
   "source": [
    "# Eliminate outliers"
   ]
  },
  {
   "cell_type": "code",
   "execution_count": 24,
   "metadata": {},
   "outputs": [],
   "source": [
    "z_scores = stats.zscore(df[['bedrooms','bathrooms','sqft_living','sqft_lot','floors','grade','sqft_above','sqft_living15','sqft_lot15', \"price\"]])\n",
    "abs_z_scores = np.abs(z_scores)\n",
    "filtered_entries = (abs_z_scores < 3).all(axis=1)"
   ]
  },
  {
   "cell_type": "code",
   "execution_count": 25,
   "metadata": {},
   "outputs": [],
   "source": [
    "df = df[filtered_entries]"
   ]
  },
  {
   "cell_type": "markdown",
   "metadata": {},
   "source": [
    "# Counter of how many times each unique element appears in categorical columns"
   ]
  },
  {
   "cell_type": "code",
   "execution_count": null,
   "metadata": {},
   "outputs": [],
   "source": [
    "Counter(df[\"age\"]);"
   ]
  },
  {
   "cell_type": "markdown",
   "metadata": {},
   "source": [
    "# Get ascending list of correlations"
   ]
  },
  {
   "cell_type": "code",
   "execution_count": null,
   "metadata": {},
   "outputs": [],
   "source": [
    "corrs = df.corr()[\"price\"].sort_values(ascending=False).drop(\"price\")"
   ]
  },
  {
   "cell_type": "markdown",
   "metadata": {},
   "source": [
    "# Create variable called target that contains price column of full df"
   ]
  },
  {
   "cell_type": "code",
   "execution_count": null,
   "metadata": {},
   "outputs": [],
   "source": [
    "target = df[\"price\"]"
   ]
  },
  {
   "cell_type": "markdown",
   "metadata": {},
   "source": [
    "# Create baseline model"
   ]
  },
  {
   "cell_type": "code",
   "execution_count": null,
   "metadata": {},
   "outputs": [],
   "source": [
    "baseline_df = df[[corrs.keys()[0]]]"
   ]
  },
  {
   "cell_type": "markdown",
   "metadata": {},
   "source": [
    "# Create model with top 3"
   ]
  },
  {
   "cell_type": "code",
   "execution_count": null,
   "metadata": {},
   "outputs": [],
   "source": [
    "top3_df = df[[corrs.keys()[0], corrs.keys()[1], corrs.keys()[2]]]"
   ]
  },
  {
   "cell_type": "markdown",
   "metadata": {},
   "source": [
    "# Top 7 correlated"
   ]
  },
  {
   "cell_type": "code",
   "execution_count": null,
   "metadata": {},
   "outputs": [],
   "source": [
    "top7_df = df[[corrs.keys()[0], corrs.keys()[1], corrs.keys()[2], corrs.keys()[3], corrs.keys()[4], corrs.keys()[5], corrs.keys()[6]]]"
   ]
  },
  {
   "cell_type": "code",
   "execution_count": null,
   "metadata": {},
   "outputs": [],
   "source": [
    "model(top7_df, target, standard=True)"
   ]
  },
  {
   "cell_type": "markdown",
   "metadata": {},
   "source": [
    "# All usable besides zip code"
   ]
  },
  {
   "cell_type": "code",
   "execution_count": 35,
   "metadata": {},
   "outputs": [],
   "source": [
    "all_nozip_df = df[['bedrooms', 'bathrooms', 'sqft_living', 'sqft_lot', 'floors', 'grade','sqft_above', 'sqft_living15', 'sqft_lot15', 'age', 'months_ago_sold', 'sqft_living&above', 'sqft_living&grade', 'sqft_living&living15', 'grade&sqft_above', 'bathrooms&sqft_living', 'sqft_above&sqft_living15', 'grade&sqft_living15']]"
   ]
  },
  {
   "cell_type": "code",
   "execution_count": 36,
   "metadata": {},
   "outputs": [
    {
     "data": {
      "text/plain": [
       "LinearRegression()"
      ]
     },
     "execution_count": 36,
     "metadata": {},
     "output_type": "execute_result"
    }
   ],
   "source": [
    "model(all_nozip_df, target)"
   ]
  },
  {
   "cell_type": "code",
   "execution_count": 37,
   "metadata": {},
   "outputs": [
    {
     "data": {
      "text/html": [
       "<div>\n",
       "<style scoped>\n",
       "    .dataframe tbody tr th:only-of-type {\n",
       "        vertical-align: middle;\n",
       "    }\n",
       "\n",
       "    .dataframe tbody tr th {\n",
       "        vertical-align: top;\n",
       "    }\n",
       "\n",
       "    .dataframe thead th {\n",
       "        text-align: right;\n",
       "    }\n",
       "</style>\n",
       "<table border=\"1\" class=\"dataframe\">\n",
       "  <thead>\n",
       "    <tr style=\"text-align: right;\">\n",
       "      <th></th>\n",
       "      <th>bedrooms</th>\n",
       "      <th>bathrooms</th>\n",
       "      <th>sqft_living</th>\n",
       "      <th>sqft_lot</th>\n",
       "      <th>floors</th>\n",
       "      <th>grade</th>\n",
       "      <th>sqft_above</th>\n",
       "      <th>sqft_living15</th>\n",
       "      <th>sqft_lot15</th>\n",
       "      <th>age</th>\n",
       "      <th>months_ago_sold</th>\n",
       "      <th>sqft_living&amp;above</th>\n",
       "      <th>sqft_living&amp;grade</th>\n",
       "      <th>sqft_living&amp;living15</th>\n",
       "      <th>grade&amp;sqft_above</th>\n",
       "      <th>bathrooms&amp;sqft_living</th>\n",
       "      <th>sqft_above&amp;sqft_living15</th>\n",
       "      <th>grade&amp;sqft_living15</th>\n",
       "    </tr>\n",
       "  </thead>\n",
       "  <tbody>\n",
       "    <tr>\n",
       "      <th>0</th>\n",
       "      <td>3.0</td>\n",
       "      <td>1.00</td>\n",
       "      <td>1180.0</td>\n",
       "      <td>5650.0</td>\n",
       "      <td>1.0</td>\n",
       "      <td>7.0</td>\n",
       "      <td>1180.0</td>\n",
       "      <td>1340.0</td>\n",
       "      <td>5650.0</td>\n",
       "      <td>66.0</td>\n",
       "      <td>94.0</td>\n",
       "      <td>1392400.0</td>\n",
       "      <td>8260.0</td>\n",
       "      <td>1581200.0</td>\n",
       "      <td>8260.0</td>\n",
       "      <td>1180.0</td>\n",
       "      <td>1581200.0</td>\n",
       "      <td>9380.0</td>\n",
       "    </tr>\n",
       "    <tr>\n",
       "      <th>1</th>\n",
       "      <td>3.0</td>\n",
       "      <td>2.25</td>\n",
       "      <td>2570.0</td>\n",
       "      <td>7242.0</td>\n",
       "      <td>2.0</td>\n",
       "      <td>7.0</td>\n",
       "      <td>2170.0</td>\n",
       "      <td>1690.0</td>\n",
       "      <td>7639.0</td>\n",
       "      <td>70.0</td>\n",
       "      <td>96.0</td>\n",
       "      <td>5576900.0</td>\n",
       "      <td>17990.0</td>\n",
       "      <td>4343300.0</td>\n",
       "      <td>15190.0</td>\n",
       "      <td>5782.5</td>\n",
       "      <td>3667300.0</td>\n",
       "      <td>11830.0</td>\n",
       "    </tr>\n",
       "    <tr>\n",
       "      <th>2</th>\n",
       "      <td>2.0</td>\n",
       "      <td>1.00</td>\n",
       "      <td>770.0</td>\n",
       "      <td>10000.0</td>\n",
       "      <td>1.0</td>\n",
       "      <td>6.0</td>\n",
       "      <td>770.0</td>\n",
       "      <td>2720.0</td>\n",
       "      <td>8062.0</td>\n",
       "      <td>88.0</td>\n",
       "      <td>74.0</td>\n",
       "      <td>592900.0</td>\n",
       "      <td>4620.0</td>\n",
       "      <td>2094400.0</td>\n",
       "      <td>4620.0</td>\n",
       "      <td>770.0</td>\n",
       "      <td>2094400.0</td>\n",
       "      <td>16320.0</td>\n",
       "    </tr>\n",
       "    <tr>\n",
       "      <th>3</th>\n",
       "      <td>4.0</td>\n",
       "      <td>3.00</td>\n",
       "      <td>1960.0</td>\n",
       "      <td>5000.0</td>\n",
       "      <td>1.0</td>\n",
       "      <td>7.0</td>\n",
       "      <td>1050.0</td>\n",
       "      <td>1360.0</td>\n",
       "      <td>5000.0</td>\n",
       "      <td>56.0</td>\n",
       "      <td>96.0</td>\n",
       "      <td>2058000.0</td>\n",
       "      <td>13720.0</td>\n",
       "      <td>2665600.0</td>\n",
       "      <td>7350.0</td>\n",
       "      <td>5880.0</td>\n",
       "      <td>1428000.0</td>\n",
       "      <td>9520.0</td>\n",
       "    </tr>\n",
       "    <tr>\n",
       "      <th>4</th>\n",
       "      <td>3.0</td>\n",
       "      <td>2.00</td>\n",
       "      <td>1680.0</td>\n",
       "      <td>8080.0</td>\n",
       "      <td>1.0</td>\n",
       "      <td>8.0</td>\n",
       "      <td>1680.0</td>\n",
       "      <td>1800.0</td>\n",
       "      <td>7503.0</td>\n",
       "      <td>34.0</td>\n",
       "      <td>74.0</td>\n",
       "      <td>2822400.0</td>\n",
       "      <td>13440.0</td>\n",
       "      <td>3024000.0</td>\n",
       "      <td>13440.0</td>\n",
       "      <td>3360.0</td>\n",
       "      <td>3024000.0</td>\n",
       "      <td>14400.0</td>\n",
       "    </tr>\n",
       "    <tr>\n",
       "      <th>...</th>\n",
       "      <td>...</td>\n",
       "      <td>...</td>\n",
       "      <td>...</td>\n",
       "      <td>...</td>\n",
       "      <td>...</td>\n",
       "      <td>...</td>\n",
       "      <td>...</td>\n",
       "      <td>...</td>\n",
       "      <td>...</td>\n",
       "      <td>...</td>\n",
       "      <td>...</td>\n",
       "      <td>...</td>\n",
       "      <td>...</td>\n",
       "      <td>...</td>\n",
       "      <td>...</td>\n",
       "      <td>...</td>\n",
       "      <td>...</td>\n",
       "      <td>...</td>\n",
       "    </tr>\n",
       "    <tr>\n",
       "      <th>21592</th>\n",
       "      <td>3.0</td>\n",
       "      <td>2.50</td>\n",
       "      <td>1530.0</td>\n",
       "      <td>1131.0</td>\n",
       "      <td>3.0</td>\n",
       "      <td>8.0</td>\n",
       "      <td>1530.0</td>\n",
       "      <td>1530.0</td>\n",
       "      <td>1509.0</td>\n",
       "      <td>12.0</td>\n",
       "      <td>89.0</td>\n",
       "      <td>2340900.0</td>\n",
       "      <td>12240.0</td>\n",
       "      <td>2340900.0</td>\n",
       "      <td>12240.0</td>\n",
       "      <td>3825.0</td>\n",
       "      <td>2340900.0</td>\n",
       "      <td>12240.0</td>\n",
       "    </tr>\n",
       "    <tr>\n",
       "      <th>21593</th>\n",
       "      <td>4.0</td>\n",
       "      <td>2.50</td>\n",
       "      <td>2310.0</td>\n",
       "      <td>5813.0</td>\n",
       "      <td>2.0</td>\n",
       "      <td>8.0</td>\n",
       "      <td>2310.0</td>\n",
       "      <td>1830.0</td>\n",
       "      <td>7200.0</td>\n",
       "      <td>7.0</td>\n",
       "      <td>74.0</td>\n",
       "      <td>5336100.0</td>\n",
       "      <td>18480.0</td>\n",
       "      <td>4227300.0</td>\n",
       "      <td>18480.0</td>\n",
       "      <td>5775.0</td>\n",
       "      <td>4227300.0</td>\n",
       "      <td>14640.0</td>\n",
       "    </tr>\n",
       "    <tr>\n",
       "      <th>21594</th>\n",
       "      <td>2.0</td>\n",
       "      <td>0.75</td>\n",
       "      <td>1020.0</td>\n",
       "      <td>1350.0</td>\n",
       "      <td>2.0</td>\n",
       "      <td>7.0</td>\n",
       "      <td>1020.0</td>\n",
       "      <td>1020.0</td>\n",
       "      <td>2007.0</td>\n",
       "      <td>12.0</td>\n",
       "      <td>90.0</td>\n",
       "      <td>1040400.0</td>\n",
       "      <td>7140.0</td>\n",
       "      <td>1040400.0</td>\n",
       "      <td>7140.0</td>\n",
       "      <td>765.0</td>\n",
       "      <td>1040400.0</td>\n",
       "      <td>7140.0</td>\n",
       "    </tr>\n",
       "    <tr>\n",
       "      <th>21595</th>\n",
       "      <td>3.0</td>\n",
       "      <td>2.50</td>\n",
       "      <td>1600.0</td>\n",
       "      <td>2388.0</td>\n",
       "      <td>2.0</td>\n",
       "      <td>8.0</td>\n",
       "      <td>1600.0</td>\n",
       "      <td>1410.0</td>\n",
       "      <td>1287.0</td>\n",
       "      <td>17.0</td>\n",
       "      <td>73.0</td>\n",
       "      <td>2560000.0</td>\n",
       "      <td>12800.0</td>\n",
       "      <td>2256000.0</td>\n",
       "      <td>12800.0</td>\n",
       "      <td>4000.0</td>\n",
       "      <td>2256000.0</td>\n",
       "      <td>11280.0</td>\n",
       "    </tr>\n",
       "    <tr>\n",
       "      <th>21596</th>\n",
       "      <td>2.0</td>\n",
       "      <td>0.75</td>\n",
       "      <td>1020.0</td>\n",
       "      <td>1076.0</td>\n",
       "      <td>2.0</td>\n",
       "      <td>7.0</td>\n",
       "      <td>1020.0</td>\n",
       "      <td>1020.0</td>\n",
       "      <td>1357.0</td>\n",
       "      <td>13.0</td>\n",
       "      <td>94.0</td>\n",
       "      <td>1040400.0</td>\n",
       "      <td>7140.0</td>\n",
       "      <td>1040400.0</td>\n",
       "      <td>7140.0</td>\n",
       "      <td>765.0</td>\n",
       "      <td>1040400.0</td>\n",
       "      <td>7140.0</td>\n",
       "    </tr>\n",
       "  </tbody>\n",
       "</table>\n",
       "<p>20331 rows × 18 columns</p>\n",
       "</div>"
      ],
      "text/plain": [
       "       bedrooms  bathrooms  sqft_living  sqft_lot  floors  grade  sqft_above  \\\n",
       "0           3.0       1.00       1180.0    5650.0     1.0    7.0      1180.0   \n",
       "1           3.0       2.25       2570.0    7242.0     2.0    7.0      2170.0   \n",
       "2           2.0       1.00        770.0   10000.0     1.0    6.0       770.0   \n",
       "3           4.0       3.00       1960.0    5000.0     1.0    7.0      1050.0   \n",
       "4           3.0       2.00       1680.0    8080.0     1.0    8.0      1680.0   \n",
       "...         ...        ...          ...       ...     ...    ...         ...   \n",
       "21592       3.0       2.50       1530.0    1131.0     3.0    8.0      1530.0   \n",
       "21593       4.0       2.50       2310.0    5813.0     2.0    8.0      2310.0   \n",
       "21594       2.0       0.75       1020.0    1350.0     2.0    7.0      1020.0   \n",
       "21595       3.0       2.50       1600.0    2388.0     2.0    8.0      1600.0   \n",
       "21596       2.0       0.75       1020.0    1076.0     2.0    7.0      1020.0   \n",
       "\n",
       "       sqft_living15  sqft_lot15   age  months_ago_sold  sqft_living&above  \\\n",
       "0             1340.0      5650.0  66.0             94.0          1392400.0   \n",
       "1             1690.0      7639.0  70.0             96.0          5576900.0   \n",
       "2             2720.0      8062.0  88.0             74.0           592900.0   \n",
       "3             1360.0      5000.0  56.0             96.0          2058000.0   \n",
       "4             1800.0      7503.0  34.0             74.0          2822400.0   \n",
       "...              ...         ...   ...              ...                ...   \n",
       "21592         1530.0      1509.0  12.0             89.0          2340900.0   \n",
       "21593         1830.0      7200.0   7.0             74.0          5336100.0   \n",
       "21594         1020.0      2007.0  12.0             90.0          1040400.0   \n",
       "21595         1410.0      1287.0  17.0             73.0          2560000.0   \n",
       "21596         1020.0      1357.0  13.0             94.0          1040400.0   \n",
       "\n",
       "       sqft_living&grade  sqft_living&living15  grade&sqft_above  \\\n",
       "0                 8260.0             1581200.0            8260.0   \n",
       "1                17990.0             4343300.0           15190.0   \n",
       "2                 4620.0             2094400.0            4620.0   \n",
       "3                13720.0             2665600.0            7350.0   \n",
       "4                13440.0             3024000.0           13440.0   \n",
       "...                  ...                   ...               ...   \n",
       "21592            12240.0             2340900.0           12240.0   \n",
       "21593            18480.0             4227300.0           18480.0   \n",
       "21594             7140.0             1040400.0            7140.0   \n",
       "21595            12800.0             2256000.0           12800.0   \n",
       "21596             7140.0             1040400.0            7140.0   \n",
       "\n",
       "       bathrooms&sqft_living  sqft_above&sqft_living15  grade&sqft_living15  \n",
       "0                     1180.0                 1581200.0               9380.0  \n",
       "1                     5782.5                 3667300.0              11830.0  \n",
       "2                      770.0                 2094400.0              16320.0  \n",
       "3                     5880.0                 1428000.0               9520.0  \n",
       "4                     3360.0                 3024000.0              14400.0  \n",
       "...                      ...                       ...                  ...  \n",
       "21592                 3825.0                 2340900.0              12240.0  \n",
       "21593                 5775.0                 4227300.0              14640.0  \n",
       "21594                  765.0                 1040400.0               7140.0  \n",
       "21595                 4000.0                 2256000.0              11280.0  \n",
       "21596                  765.0                 1040400.0               7140.0  \n",
       "\n",
       "[20331 rows x 18 columns]"
      ]
     },
     "execution_count": 37,
     "metadata": {},
     "output_type": "execute_result"
    }
   ],
   "source": [
    "all_nozip_df"
   ]
  },
  {
   "cell_type": "markdown",
   "metadata": {},
   "source": [
    "# All usable columns (zip code and cross multiplications added)"
   ]
  },
  {
   "cell_type": "code",
   "execution_count": null,
   "metadata": {},
   "outputs": [],
   "source": [
    "all_df = df.drop(['price', 'long', 'condition'],axis=1)"
   ]
  },
  {
   "cell_type": "code",
   "execution_count": 39,
   "metadata": {},
   "outputs": [
    {
     "data": {
      "text/plain": [
       "Index(['bedrooms', 'bathrooms', 'sqft_living', 'sqft_lot', 'floors', 'grade',\n",
       "       'sqft_above', 'sqft_living15', 'sqft_lot15', 'age', 'months_ago_sold',\n",
       "       'x0_98001.0', 'x0_98002.0', 'x0_98003.0', 'x0_98004.0', 'x0_98005.0',\n",
       "       'x0_98006.0', 'x0_98007.0', 'x0_98008.0', 'x0_98010.0', 'x0_98011.0',\n",
       "       'x0_98014.0', 'x0_98019.0', 'x0_98022.0', 'x0_98023.0', 'x0_98024.0',\n",
       "       'x0_98027.0', 'x0_98028.0', 'x0_98029.0', 'x0_98030.0', 'x0_98031.0',\n",
       "       'x0_98032.0', 'x0_98033.0', 'x0_98034.0', 'x0_98038.0', 'x0_98039.0',\n",
       "       'x0_98040.0', 'x0_98042.0', 'x0_98045.0', 'x0_98052.0', 'x0_98053.0',\n",
       "       'x0_98055.0', 'x0_98056.0', 'x0_98058.0', 'x0_98059.0', 'x0_98065.0',\n",
       "       'x0_98070.0', 'x0_98072.0', 'x0_98074.0', 'x0_98075.0', 'x0_98077.0',\n",
       "       'x0_98092.0', 'x0_98102.0', 'x0_98103.0', 'x0_98105.0', 'x0_98106.0',\n",
       "       'x0_98107.0', 'x0_98108.0', 'x0_98109.0', 'x0_98112.0', 'x0_98115.0',\n",
       "       'x0_98116.0', 'x0_98117.0', 'x0_98118.0', 'x0_98119.0', 'x0_98122.0',\n",
       "       'x0_98125.0', 'x0_98126.0', 'x0_98133.0', 'x0_98136.0', 'x0_98144.0',\n",
       "       'x0_98146.0', 'x0_98148.0', 'x0_98155.0', 'x0_98166.0', 'x0_98168.0',\n",
       "       'x0_98177.0', 'x0_98178.0', 'x0_98188.0', 'x0_98198.0', 'x0_98199.0',\n",
       "       'sqft_living&above', 'sqft_living&grade', 'sqft_living&living15',\n",
       "       'grade&sqft_above', 'bathrooms&sqft_living', 'sqft_above&sqft_living15',\n",
       "       'grade&sqft_living15'],\n",
       "      dtype='object')"
      ]
     },
     "execution_count": 39,
     "metadata": {},
     "output_type": "execute_result"
    }
   ],
   "source": [
    "all_df.columns"
   ]
  },
  {
   "cell_type": "code",
   "execution_count": 40,
   "metadata": {},
   "outputs": [
    {
     "data": {
      "text/plain": [
       "LinearRegression()"
      ]
     },
     "execution_count": 40,
     "metadata": {},
     "output_type": "execute_result"
    }
   ],
   "source": [
    "model(all_df, target)"
   ]
  },
  {
   "cell_type": "code",
   "execution_count": 41,
   "metadata": {},
   "outputs": [
    {
     "data": {
      "text/plain": [
       "88"
      ]
     },
     "execution_count": 41,
     "metadata": {},
     "output_type": "execute_result"
    }
   ],
   "source": [
    "len(all_df.columns)"
   ]
  },
  {
   "cell_type": "markdown",
   "metadata": {},
   "source": [
    "# All with minmax"
   ]
  },
  {
   "cell_type": "code",
   "execution_count": 42,
   "metadata": {},
   "outputs": [
    {
     "data": {
      "text/plain": [
       "LinearRegression()"
      ]
     },
     "execution_count": 42,
     "metadata": {},
     "output_type": "execute_result"
    }
   ],
   "source": [
    "model(all_df, target, minmax=True)"
   ]
  },
  {
   "cell_type": "markdown",
   "metadata": {},
   "source": [
    "# All with standard"
   ]
  },
  {
   "cell_type": "code",
   "execution_count": 43,
   "metadata": {},
   "outputs": [
    {
     "data": {
      "text/plain": [
       "LinearRegression()"
      ]
     },
     "execution_count": 43,
     "metadata": {},
     "output_type": "execute_result"
    }
   ],
   "source": [
    "model(all_df, target, standard=True)"
   ]
  },
  {
   "cell_type": "code",
   "execution_count": 44,
   "metadata": {},
   "outputs": [
    {
     "data": {
      "text/plain": [
       "0        221900.0\n",
       "1        538000.0\n",
       "2        180000.0\n",
       "3        604000.0\n",
       "4        510000.0\n",
       "           ...   \n",
       "21592    360000.0\n",
       "21593    400000.0\n",
       "21594    402101.0\n",
       "21595    400000.0\n",
       "21596    325000.0\n",
       "Name: price, Length: 20331, dtype: float64"
      ]
     },
     "execution_count": 44,
     "metadata": {},
     "output_type": "execute_result"
    }
   ],
   "source": [
    "target"
   ]
  },
  {
   "cell_type": "markdown",
   "metadata": {},
   "source": [
    "# All with standard and log"
   ]
  },
  {
   "cell_type": "code",
   "execution_count": null,
   "metadata": {},
   "outputs": [
    {
     "data": {
      "text/plain": [
       "(105108.33, 106599.01)"
      ]
     },
     "execution_count": 33,
     "metadata": {},
     "output_type": "execute_result"
    }
   ],
   "source": [
    "best = model(all_df, target)"
   ]
  },
  {
   "cell_type": "markdown",
   "metadata": {},
   "source": [
    "# All with minmax"
   ]
  },
  {
   "cell_type": "code",
   "execution_count": 34,
   "metadata": {},
   "outputs": [
    {
     "data": {
      "text/plain": [
       "(105108.33, 106598.67)"
      ]
     },
     "execution_count": 34,
     "metadata": {},
     "output_type": "execute_result"
    }
   ],
   "source": [
    "model(all_df, target, minmax=True)[:2]"
   ]
  },
  {
   "cell_type": "markdown",
   "metadata": {},
   "source": [
    "# All with standard"
   ]
  },
  {
   "cell_type": "code",
   "execution_count": 35,
   "metadata": {},
   "outputs": [
    {
     "data": {
      "text/plain": [
       "(105109.38, 106598.63)"
      ]
     },
     "execution_count": 35,
     "metadata": {},
     "output_type": "execute_result"
    }
   ],
   "source": [
    "model(all_df, target, standard=True)[:2]"
   ]
  },
  {
   "cell_type": "markdown",
   "metadata": {},
   "source": [
    "# All with standard and log"
   ]
  },
  {
   "cell_type": "code",
   "execution_count": 36,
   "metadata": {},
   "outputs": [],
   "source": [
    "best = model(all_df, target, standard=True, log=True)"
   ]
  },
  {
   "cell_type": "code",
   "execution_count": 87,
   "metadata": {},
   "outputs": [
    {
     "data": {
      "text/plain": [
       "Index(['bedrooms', 'bathrooms', 'sqft_living', 'sqft_lot', 'floors', 'grade',\n",
       "       'sqft_above', 'sqft_living15', 'sqft_lot15', 'age', 'months_ago_sold',\n",
       "       'x0_98001.0', 'x0_98002.0', 'x0_98003.0', 'x0_98004.0', 'x0_98005.0',\n",
       "       'x0_98006.0', 'x0_98007.0', 'x0_98008.0', 'x0_98010.0', 'x0_98011.0',\n",
       "       'x0_98014.0', 'x0_98019.0', 'x0_98022.0', 'x0_98023.0', 'x0_98024.0',\n",
       "       'x0_98027.0', 'x0_98028.0', 'x0_98029.0', 'x0_98030.0', 'x0_98031.0',\n",
       "       'x0_98032.0', 'x0_98033.0', 'x0_98034.0', 'x0_98038.0', 'x0_98039.0',\n",
       "       'x0_98040.0', 'x0_98042.0', 'x0_98045.0', 'x0_98052.0', 'x0_98053.0',\n",
       "       'x0_98055.0', 'x0_98056.0', 'x0_98058.0', 'x0_98059.0', 'x0_98065.0',\n",
       "       'x0_98070.0', 'x0_98072.0', 'x0_98074.0', 'x0_98075.0', 'x0_98077.0',\n",
       "       'x0_98092.0', 'x0_98102.0', 'x0_98103.0', 'x0_98105.0', 'x0_98106.0',\n",
       "       'x0_98107.0', 'x0_98108.0', 'x0_98109.0', 'x0_98112.0', 'x0_98115.0',\n",
       "       'x0_98116.0', 'x0_98117.0', 'x0_98118.0', 'x0_98119.0', 'x0_98122.0',\n",
       "       'x0_98125.0', 'x0_98126.0', 'x0_98133.0', 'x0_98136.0', 'x0_98144.0',\n",
       "       'x0_98146.0', 'x0_98148.0', 'x0_98155.0', 'x0_98166.0', 'x0_98168.0',\n",
       "       'x0_98177.0', 'x0_98178.0', 'x0_98188.0', 'x0_98198.0', 'x0_98199.0',\n",
       "       'sqft_living&above', 'sqft_living&grade', 'sqft_living&living15',\n",
       "       'grade&sqft_above', 'bathrooms&sqft_living', 'sqft_above&sqft_living15',\n",
       "       'grade&sqft_living15'],\n",
       "      dtype='object')"
      ]
     },
     "execution_count": 87,
     "metadata": {},
     "output_type": "execute_result"
    }
   ],
   "source": [
    "all_df.columns"
   ]
  },
  {
   "cell_type": "code",
   "execution_count": 81,
   "metadata": {},
   "outputs": [
    {
     "data": {
      "text/plain": [
       "sqft_living            1180\n",
       "grade                     7\n",
       "sqft_above             1180\n",
       "sqft_living15          1340\n",
       "bathrooms               1.0\n",
       "bedrooms                  3\n",
       "floors                  1.0\n",
       "sqft_lot15             5650\n",
       "sqft_lot               5650\n",
       "zipcode               98178\n",
       "yr_built               1955\n",
       "date             10/13/2014\n",
       "Name: 0, dtype: object"
      ]
     },
     "execution_count": 81,
     "metadata": {},
     "output_type": "execute_result"
    }
   ],
   "source": [
    "df[[\"sqft_living\", \"grade\", \"sqft_above\", \"sqft_living15\", \"bathrooms\", \"bedrooms\", \"floors\", \"sqft_lot15\", \"sqft_lot\", \"zipcode\", \"yr_built\", \"date\"]].iloc[0]"
   ]
  },
  {
   "cell_type": "code",
   "execution_count": 66,
   "metadata": {},
   "outputs": [
    {
     "data": {
      "text/plain": [
       "221900.0"
      ]
     },
     "execution_count": 66,
     "metadata": {},
     "output_type": "execute_result"
    }
   ],
   "source": [
    "target[0]"
   ]
  },
  {
   "cell_type": "code",
   "execution_count": 69,
   "metadata": {},
   "outputs": [
    {
     "data": {
      "text/plain": [
       "array([225134.93869781])"
      ]
     },
     "execution_count": 69,
     "metadata": {},
     "output_type": "execute_result"
    }
   ],
   "source": [
    "best.predict(np.array(all_df.iloc[0]).reshape(1,-1))"
   ]
  },
  {
   "cell_type": "code",
   "execution_count": 70,
   "metadata": {},
   "outputs": [],
   "source": [
    "with open('model.pkl', 'wb') as f:\n",
    "    pickle.dump(best, f)"
   ]
  },
  {
   "cell_type": "code",
   "execution_count": null,
   "metadata": {},
   "outputs": [],
   "source": [
    "all_df"
   ]
  },
  {
   "cell_type": "code",
   "execution_count": null,
   "metadata": {},
   "outputs": [],
   "source": []
  },
  {
   "cell_type": "markdown",
   "metadata": {},
   "source": [
    "# Price distribution skew"
   ]
  },
  {
   "cell_type": "code",
   "execution_count": null,
   "metadata": {},
   "outputs": [
    {
     "data": {
      "image/png": "[encoded data removed]",
      "text/plain": [
       "<Figure size 432x288 with 1 Axes>"
      ]
     },
     "metadata": {
      "needs_background": "light"
     },
     "output_type": "display_data"
    }
   ],
   "source": [
    "sns.histplot(df.price, bins=20);"
   ]
  },
  {
   "cell_type": "markdown",
   "metadata": {},
   "source": [
    "# Feature importance"
   ]
  },
  {
   "cell_type": "code",
   "execution_count": 39,
   "metadata": {},
   "outputs": [
    {
     "data": {
      "text/html": [
       "<div>\n",
       "<style scoped>\n",
       "    .dataframe tbody tr th:only-of-type {\n",
       "        vertical-align: middle;\n",
       "    }\n",
       "\n",
       "    .dataframe tbody tr th {\n",
       "        vertical-align: top;\n",
       "    }\n",
       "\n",
       "    .dataframe thead th {\n",
       "        text-align: right;\n",
       "    }\n",
       "</style>\n",
       "<table border=\"1\" class=\"dataframe\">\n",
       "  <thead>\n",
       "    <tr style=\"text-align: right;\">\n",
       "      <th></th>\n",
       "      <th>feature</th>\n",
       "      <th>weight</th>\n",
       "    </tr>\n",
       "  </thead>\n",
       "  <tbody>\n",
       "    <tr>\n",
       "      <th>7</th>\n",
       "      <td>sqft_living15</td>\n",
       "      <td>0.177278</td>\n",
       "    </tr>\n",
       "    <tr>\n",
       "      <th>82</th>\n",
       "      <td>sqft_living&amp;grade</td>\n",
       "      <td>0.142111</td>\n",
       "    </tr>\n",
       "    <tr>\n",
       "      <th>6</th>\n",
       "      <td>sqft_above</td>\n",
       "      <td>0.137537</td>\n",
       "    </tr>\n",
       "    <tr>\n",
       "      <th>2</th>\n",
       "      <td>sqft_living</td>\n",
       "      <td>0.127230</td>\n",
       "    </tr>\n",
       "    <tr>\n",
       "      <th>5</th>\n",
       "      <td>grade</td>\n",
       "      <td>0.094106</td>\n",
       "    </tr>\n",
       "  </tbody>\n",
       "</table>\n",
       "</div>"
      ],
      "text/plain": [
       "              feature    weight\n",
       "7       sqft_living15  0.177278\n",
       "82  sqft_living&grade  0.142111\n",
       "6          sqft_above  0.137537\n",
       "2         sqft_living  0.127230\n",
       "5               grade  0.094106"
      ]
     },
     "execution_count": 39,
     "metadata": {},
     "output_type": "execute_result"
    }
   ],
   "source": [
    "best[2].head()"
   ]
  },
  {
   "cell_type": "code",
   "execution_count": 51,
   "metadata": {},
   "outputs": [
    {
     "data": {
      "text/plain": [
       "LinearRegression()"
      ]
     },
     "execution_count": 51,
     "metadata": {},
     "output_type": "execute_result"
    }
   ],
   "source": [
    "best"
   ]
  },
  {
   "cell_type": "code",
   "execution_count": null,
   "metadata": {},
   "outputs": [],
   "source": [
    "sns.barplot(x=best[2][\"feature\"][:7], y=best[2][\"weight\"][:7]);"
   ]
  },
  {
   "cell_type": "markdown",
   "metadata": {},
   "source": [
    "# Pickle best model"
   ]
  },
  {
   "cell_type": "code",
   "execution_count": 53,
   "metadata": {},
   "outputs": [],
   "source": [
    "with open(\"model.pkl\", \"wb\") as f:\n",
    "    pickle.dump(best, f)"
   ]
  },
  {
   "cell_type": "code",
   "execution_count": 54,
   "metadata": {},
   "outputs": [],
   "source": [
    "# #One hot encode zipcode\n",
    "# zip_code = df[['zipcode']]\n",
    "# onehot = OneHotEncoder(sparse=False)\n",
    "# onehot_data = onehot.fit_transform(zip_code)\n",
    "# zip_code = pd.DataFrame(onehot_data, columns=onehot.get_feature_names())\n",
    "# df = pd.concat([df,zip_code],axis=1)"
   ]
  },
  {
   "cell_type": "markdown",
   "metadata": {},
   "source": [
    "# Bottom of page. Run GUI loop"
   ]
  },
  {
   "cell_type": "code",
   "execution_count": null,
   "metadata": {},
   "outputs": [],
   "source": [
    "#neccesary?\n",
    "columns = df[['bedrooms','bathrooms','sqft_living','sqft_lot','floors','grade','sqft_above','sqft_living15','sqft_lot15','price']]"
   ]
  },
  {
   "cell_type": "code",
   "execution_count": null,
   "metadata": {},
   "outputs": [],
   "source": [
    "window = Tk()\n",
    "window.title(\"my first\")\n",
    "window.configure(background=\"blue\")"
   ]
  },
  {
   "cell_type": "code",
   "execution_count": null,
   "metadata": {},
   "outputs": [],
   "source": [
    "#create header label\n",
    "Label (window, text=\"Enter the data:\", bg=\"blue\", fg=\"white\", font=\"none 22 bold\") .grid(row=0, column=0, columnspan=2, sticky=W)"
   ]
  },
  {
   "cell_type": "code",
   "execution_count": null,
   "metadata": {},
   "outputs": [],
   "source": [
    "#create input labels\n",
    "<<<<<<< local\n",
    "input_labels = ['sqft_living', 'grade', 'sqft_above', 'sqft_living15', 'bathrooms', 'bedrooms', 'floors', 'sqft_lot', 'sqft_lot15', 'age', \"zipcode\"]\n",
    "=======\n",
    "input_labels = ['sqft_living', 'grade', 'sqft_above', 'sqft_living15', 'bathrooms', 'bedrooms', 'floors', 'sqft_lot', 'sqft_lot15', 'age', \"zipcode\", \"months_ago_sold\"]\n",
    ">>>>>>> remote\n",
    "i=1\n",
    "for item in input_labels:\n",
    "    Label (window, text=item, bg=\"blue\", fg=\"white\", font=\"none 12 bold\") .grid(row=i, column=0, sticky=W)\n",
    "    i+=1"
   ]
  },
  {
   "cell_type": "code",
   "execution_count": null,
   "metadata": {},
   "outputs": [],
   "source": [
    "#create label entry boxes\n",
    "sqft_living = Entry(window, width=20, bg=\"white\")\n",
    "sqft_living.grid(row=1, column=1, sticky=W)\n",
    "grade = Entry(window, width=20, bg=\"white\")\n",
    "grade.grid(row=2, column=1, sticky=W)\n",
    "sqft_above = Entry(window, width=20, bg=\"white\")\n",
    "sqft_above.grid(row=3, column=1, sticky=W)\n",
    "sqft_living15 = Entry(window, width=20, bg=\"white\")\n",
    "sqft_living15.grid(row=4, column=1, sticky=W)\n",
    "bathrooms = Entry(window, width=20, bg=\"white\")\n",
    "bathrooms.grid(row=5, column=1, sticky=W)\n",
    "bedrooms = Entry(window, width=20, bg=\"white\")\n",
    "bedrooms.grid(row=6, column=1, sticky=W)\n",
    "floors = Entry(window, width=20, bg=\"white\")\n",
    "floors.grid(row=7, column=1, sticky=W)\n",
    "sqft_lot = Entry(window, width=20, bg=\"white\")\n",
    "sqft_lot.grid(row=8, column=1, sticky=W)\n",
    "sqft_lot15 = Entry(window, width=20, bg=\"white\")\n",
    "sqft_lot15.grid(row=9, column=1, sticky=W)\n",
    "age = Entry(window, width=20, bg=\"white\")\n",
    "age.grid(row=10, column=1, sticky=W)\n",
    "zipcode = Entry(window, width=20, bg=\"white\")\n",
    "<<<<<<< local\n",
    "zipcode.grid(row=11, column=1, sticky=W)\n",
    "=======\n",
    "zipcode.grid(row=11, column=1, sticky=W)\n",
    "months_ago_sold = Entry(window, width=20, bg=\"white\")\n",
    "months_ago_sold.grid(row=12, column=1, sticky=W)\n",
    ">>>>>>> remote"
   ]
  },
  {
   "cell_type": "code",
   "execution_count": 46,
   "metadata": {},
   "outputs": [],
   "source": [
    "#Add submit button\n",
    "Button (window, text=\"SUBMIT\", width=6, command=click) .grid(row=len(input_labels)+1,column=0, columnspan=2, sticky=W)"
   ]
  },
  {
   "cell_type": "code",
   "execution_count": 47,
   "metadata": {},
   "outputs": [],
   "source": [
    "#Add another label\n",
    "Label (window, text=\"Predicted Price:\", bg=\"black\", fg=\"white\", font=\"none 20 bold\") .grid(row=len(input_labels)+2, column=0,sticky=W)"
   ]
  },
  {
   "cell_type": "code",
   "execution_count": 48,
   "metadata": {},
   "outputs": [],
   "source": [
    "#text output box\n",
    "output = Text(window, width=75, height=6, wrap=WORD, background=\"white\")\n",
    "output.grid(row=len(input_labels)+3, column=0, columnspan=2, sticky=W)"
   ]
  },
  {
   "cell_type": "code",
   "execution_count": null,
   "metadata": {},
   "outputs": [],
   "source": [
    "#Run gui loop\n",
    "window.mainloop()"
   ]
  },
  {
   "cell_type": "code",
   "execution_count": 60,
   "metadata": {},
   "outputs": [
    {
     "data": {
      "text/plain": [
       "Index(['bedrooms', 'bathrooms', 'sqft_living', 'sqft_lot', 'floors', 'grade',\n",
       "       'sqft_above', 'sqft_living15', 'sqft_lot15', 'age', 'months_ago_sold',\n",
       "       'x0_98001.0', 'x0_98002.0', 'x0_98003.0', 'x0_98004.0', 'x0_98005.0',\n",
       "       'x0_98006.0', 'x0_98007.0', 'x0_98008.0', 'x0_98010.0', 'x0_98011.0',\n",
       "       'x0_98014.0', 'x0_98019.0', 'x0_98022.0', 'x0_98023.0', 'x0_98024.0',\n",
       "       'x0_98027.0', 'x0_98028.0', 'x0_98029.0', 'x0_98030.0', 'x0_98031.0',\n",
       "       'x0_98032.0', 'x0_98033.0', 'x0_98034.0', 'x0_98038.0', 'x0_98039.0',\n",
       "       'x0_98040.0', 'x0_98042.0', 'x0_98045.0', 'x0_98052.0', 'x0_98053.0',\n",
       "       'x0_98055.0', 'x0_98056.0', 'x0_98058.0', 'x0_98059.0', 'x0_98065.0',\n",
       "       'x0_98070.0', 'x0_98072.0', 'x0_98074.0', 'x0_98075.0', 'x0_98077.0',\n",
       "       'x0_98092.0', 'x0_98102.0', 'x0_98103.0', 'x0_98105.0', 'x0_98106.0',\n",
       "       'x0_98107.0', 'x0_98108.0', 'x0_98109.0', 'x0_98112.0', 'x0_98115.0',\n",
       "       'x0_98116.0', 'x0_98117.0', 'x0_98118.0', 'x0_98119.0', 'x0_98122.0',\n",
       "       'x0_98125.0', 'x0_98126.0', 'x0_98133.0', 'x0_98136.0', 'x0_98144.0',\n",
       "       'x0_98146.0', 'x0_98148.0', 'x0_98155.0', 'x0_98166.0', 'x0_98168.0',\n",
       "       'x0_98177.0', 'x0_98178.0', 'x0_98188.0', 'x0_98198.0', 'x0_98199.0',\n",
       "       'sqft_living&above', 'sqft_living&grade', 'sqft_living&living15',\n",
       "       'grade&sqft_above', 'bathrooms&sqft_living', 'sqft_above&sqft_living15',\n",
       "       'grade&sqft_living15'],\n",
       "      dtype='object')"
      ]
     },
     "execution_count": 60,
     "metadata": {},
     "output_type": "execute_result"
    }
   ],
   "source": [
    "all_df.columns"
   ]
  },
  {
   "cell_type": "code",
   "execution_count": null,
   "metadata": {},
   "outputs": [],
   "source": []
  }
 ],
 "metadata": {
  "kernelspec": {
   "display_name": "Python 3",
   "language": "python",
   "name": "python3"
  },
  "language_info": {
   "codemirror_mode": {
    "name": "ipython",
    "version": 3
   },
   "file_extension": ".py",
   "mimetype": "text/x-python",
   "name": "python",
   "nbconvert_exporter": "python",
   "pygments_lexer": "ipython3",
   "version": "3.8.5"
  }
 },
 "nbformat": 4,
 "nbformat_minor": 5
}
