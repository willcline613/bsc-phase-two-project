{
 "cells": [
  {
   "cell_type": "code",
   "execution_count": 1,
   "id": "99a11f00-2f41-478f-a23f-92f2299a2d92",
   "metadata": {},
   "outputs": [],
   "source": [
    "import pandas as pd\n",
    "import numpy as np\n",
    "import matplotlib.pyplot as plt\n",
    "import seaborn as sns\n",
    "from sklearn.linear_model import LinearRegression\n",
    "from sklearn.impute import SimpleImputer\n",
    "from sklearn.metrics import mean_squared_error\n",
    "from sklearn.model_selection import train_test_split\n",
    "from sklearn.preprocessing import MinMaxScaler\n",
    "from sklearn.preprocessing import StandardScaler\n",
    "from sklearn.preprocessing import OneHotEncoder\n",
    "from sklearn.preprocessing import LabelEncoder\n",
    "from scipy.stats import zscore\n",
    "from scipy import stats\n",
    "from tkinter import *\n",
    "\n",
    "from collections import Counter\n",
    "\n",
    "\n",
    "import warnings\n",
    "warnings.filterwarnings(\"ignore\")\n"
   ]
  },
  {
   "cell_type": "code",
   "execution_count": 2,
   "id": "74ea3df4-a26d-4e97-af23-bfd8ef5f908c",
   "metadata": {},
   "outputs": [],
   "source": [
    "def rmse(predictions, targets):\n",
    "    return np.sqrt(np.mean((predictions-targets)**2))"
   ]
  },
  {
   "cell_type": "code",
   "execution_count": 3,
   "id": "78fe07de",
   "metadata": {},
   "outputs": [],
   "source": [
    "def model(x, target_df, standard=False, minmax=False, logy=False, logx=False):\n",
    "    #split data\n",
    "    X_train, X_test, y_train, y_test = train_test_split(x, target_df, random_state=42)\n",
    "    \n",
    "    #Implement scaler options if scaler parameters != None\n",
    "    if minmax:\n",
    "        scaler = MinMaxScaler()\n",
    "        scaler.fit(X_train)\n",
    "        X_train = scaler.transform(X_train)\n",
    "        X_test = scaler.transform(X_test)\n",
    "        \n",
    "    if standard:\n",
    "        scaler = StandardScaler()\n",
    "        scaler.fit(X_train)\n",
    "        X_train = scaler.transform(X_train)\n",
    "        X_test = scaler.transform(X_test)\n",
    "    \n",
    "    if logx:\n",
    "        pass\n",
    "    if logy:\n",
    "        pass\n",
    "        \n",
    "    #create model\n",
    "    model = LinearRegression()\n",
    "    #fit data to model\n",
    "    model.fit(X_train, y_train)\n",
    "    \n",
    "    #Model coef\n",
    "    df_column_names = x.columns\n",
    "    coef = pd.DataFrame(list(zip(df_column_names, model.coef_)), columns = [\"feature\",\"weight\"])\\\n",
    "    .sort_values(\"weight\")\n",
    "    \n",
    "    #Make predictions\n",
    "    train_pred = model.predict(X_train)\n",
    "    test_pred = model.predict(X_test)\n",
    "    \n",
    "#     if log:\n",
    "#         train_rmse = rmse(np.exp(train_pred), np.exp(y_train.values))\n",
    "#         test_rmse = rmse(np.exp(test_pred), np.exp(y_test.values))\n",
    "#     else:\n",
    "    \n",
    "    #train rmse\n",
    "    train_rmse = rmse(train_pred, y_train.values)\n",
    "    #test rmse\n",
    "    test_rmse = rmse(test_pred, y_test.values)\n",
    "\n",
    "    return (round(train_rmse,2), round(test_rmse, 2), coef, train_pred, test_pred)"
   ]
  },
  {
   "cell_type": "markdown",
   "id": "4608f74b-8e43-4945-a94c-dcd12522a0ce",
   "metadata": {},
   "source": [
    "# Put best model in get prediction function"
   ]
  },
  {
   "cell_type": "code",
   "execution_count": 4,
   "id": "7886c261-b3bc-477e-a895-f155461eb4eb",
   "metadata": {},
   "outputs": [],
   "source": [
    "def get_prediction(x):\n",
    "    #create model\n",
    "    model = LinearRegression()\n",
    "    #fit best feature df and target to model\n",
    "    model.fit(all_df, target)\n",
    "    \n",
    "    #get prediction for x(user inputs) based off of fitted model\n",
    "    pred = model.predict(x)\n",
    "    return pred"
   ]
  },
  {
   "cell_type": "code",
   "execution_count": 5,
   "id": "acecd3e6-7c4e-418c-9120-fbc220ee54bf",
   "metadata": {},
   "outputs": [],
   "source": [
    "def top_entries(df):\n",
    "    #df.corr().abs().unstack().sort_values(ascending=False).drop_duplicates()\n",
    "    \n",
    "    mat = df.corr().abs()\n",
    "    \n",
    "    # Remove duplicate and identity entries\n",
    "    mat.loc[:,:] = np.tril(mat.values, k=-1)\n",
    "    mat = mat[mat>0]\n",
    "\n",
    "    # Unstack, sort ascending, and reset the index, so features are in columns\n",
    "    # instead of indexes (allowing e.g. a pretty print in Jupyter).\n",
    "    # Also rename these it for good measure.\n",
    "    return (mat.unstack()\n",
    "             .sort_values(ascending=False)\n",
    "             .reset_index()\n",
    "             .rename(columns={\n",
    "                 \"level_0\": \"feature_a\",\n",
    "                 \"level_1\": \"feature_b\",\n",
    "                 0: \"correlation\"\n",
    "             }))"
   ]
  },
  {
   "cell_type": "code",
   "execution_count": 6,
   "id": "cab623af-fbc8-45ab-8a27-35ce2d3df7d3",
   "metadata": {},
   "outputs": [],
   "source": [
    "def click():\n",
    "    entries = []\n",
    "    column_names = [\"sqft_living\", \"grade\", \"sqft_above\", \"sqft_living15\", \"bathrooms\", \"bedrooms\", \"floors\", \"sqft_lot15\", \"sqft_lot\", \"zipcode\", \"age\"]\n",
    "    \n",
    "    #saves text entry to entered_text variable when function is called by button press\n",
    "    entries.append(sqft_living.get())\n",
    "    entries.append(grade.get())\n",
    "    entries.append(sqft_above.get())\n",
    "    entries.append(sqft_living15.get())\n",
    "    entries.append(bathrooms.get())\n",
    "    entries.append(bedrooms.get())\n",
    "    entries.append(floors.get())\n",
    "    entries.append(sqft_lot15.get())\n",
    "    entries.append(sqft_lot.get())\n",
    "    entries.append(zipcode.get())\n",
    "    entries.append(age.get())\n",
    "    \n",
    "    entries_df = pd.DataFrame([entries], columns= column_names)\n",
    "    \n",
    "    #one hot encode zip code column then drop it\n",
    "    zip_code = entries_df[['zipcode']]\n",
    "    onehot = OneHotEncoder(sparse=False)\n",
    "    onehot_data = onehot.fit_transform(zip_code)\n",
    "    zip_code = pd.DataFrame(onehot_data, columns=onehot.get_feature_names())\n",
    "    entries_df = pd.concat([entries_df,zip_code],axis=1)\n",
    "    \n",
    "    print(entries_df)\n",
    "#     ##Call model() function at end of this function to get output\n",
    "#     predicted_price = get_prediction(entries_df)\n",
    "    \n",
    "#     if all(item != \"\" and is_number(item) for item in entries): \n",
    "#         #Clear output text box and output new word to it.\n",
    "#         output.delete(0.0,END)\n",
    "#         output.insert(END, predicted_price)\n",
    "#     else:\n",
    "#         output.delete(0.0,END)\n",
    "#         output.insert(END, \"Error: Missing or Invalid Entries\")"
   ]
  },
  {
   "cell_type": "code",
   "execution_count": 7,
   "id": "bc069873-29c4-46b1-b429-bf008d13f315",
   "metadata": {},
   "outputs": [],
   "source": [
    "def is_number(a):\n",
    "    # will be True also for 'NaN'\n",
    "    try:\n",
    "        number = float(a)\n",
    "        return True\n",
    "    except ValueError:\n",
    "        return False"
   ]
  },
  {
   "cell_type": "markdown",
   "id": "6c12b6b4-cc61-43b9-bba2-16d4a7a73975",
   "metadata": {},
   "source": [
    "# import data"
   ]
  },
  {
   "cell_type": "code",
   "execution_count": 8,
   "id": "39096c11-3e6f-4e68-baa8-50a86b4aab5d",
   "metadata": {},
   "outputs": [],
   "source": [
    "path = \"../../../data/kc_house_data.csv\""
   ]
  },
  {
   "cell_type": "code",
   "execution_count": 9,
   "id": "073655c0-b9be-402f-87f9-c7f8ccbf623a",
   "metadata": {},
   "outputs": [],
   "source": [
    "df = pd.read_csv(path)"
   ]
  },
  {
   "cell_type": "markdown",
   "id": "7285aacd-b96f-4629-bcd6-29c7c96f607e",
   "metadata": {},
   "source": [
    "# Clean the data"
   ]
  },
  {
   "cell_type": "markdown",
   "id": "ef164dec-9c79-417b-9884-09ebcf396b10",
   "metadata": {},
   "source": [
    "### turn columns into floats"
   ]
  },
  {
   "cell_type": "code",
   "execution_count": 10,
   "id": "13f898f3-0bbb-48c9-92b5-c77acca3e19b",
   "metadata": {},
   "outputs": [],
   "source": [
    "df['sqft_living'] = df['sqft_living'].astype(float)\n",
    "df['bedrooms'] = df['bedrooms'].astype(float)\n",
    "df['condition'] = df['condition'].astype(float)\n",
    "df['grade'] = df['grade'].astype(float)\n",
    "df['sqft_above'] = df['sqft_above'].astype(float)\n",
    "df['yr_built'] = df['yr_built'].astype(float)\n",
    "df['zipcode'] = df['zipcode'].astype(float)\n",
    "df['sqft_living15'] = df['sqft_living15'].astype(float)\n",
    "df['sqft_lot15'] = df['sqft_lot15'].astype(float)\n",
    "df['sqft_lot'] = df['sqft_lot'].astype(float)"
   ]
  },
  {
   "cell_type": "code",
   "execution_count": 11,
   "id": "09ac8be8-f473-42ae-915e-c92f191617e4",
   "metadata": {},
   "outputs": [
    {
     "data": {
      "text/plain": [
       "Index(['id', 'date', 'price', 'bedrooms', 'bathrooms', 'sqft_living',\n",
       "       'sqft_lot', 'floors', 'waterfront', 'view', 'condition', 'grade',\n",
       "       'sqft_above', 'sqft_basement', 'yr_built', 'yr_renovated', 'zipcode',\n",
       "       'lat', 'long', 'sqft_living15', 'sqft_lot15'],\n",
       "      dtype='object')"
      ]
     },
     "execution_count": 11,
     "metadata": {},
     "output_type": "execute_result"
    }
   ],
   "source": [
    "df.columns"
   ]
  },
  {
   "cell_type": "markdown",
   "id": "0aa10278-1d5e-445b-9a71-28fa20639518",
   "metadata": {},
   "source": [
    "# Create new columns"
   ]
  },
  {
   "cell_type": "code",
   "execution_count": 12,
   "id": "94bfdbda",
   "metadata": {
    "tags": []
   },
   "outputs": [],
   "source": [
    "df[\"age\"] = df[\"yr_built\"].map(lambda x: 2021 - x)"
   ]
  },
  {
   "cell_type": "code",
   "execution_count": 13,
   "id": "58315a8f-d7f5-4648-b128-2fe3ff061972",
   "metadata": {},
   "outputs": [],
   "source": [
    "df[\"listing_age\"] = df[\"date\"].map(lambda date: float(date.split(\"/\")[0]) + (2021- float(date.split(\"/\")[2]) )*12)"
   ]
  },
  {
   "cell_type": "markdown",
   "id": "caf535b7-aa22-4daf-a13b-c77349a59ef4",
   "metadata": {},
   "source": [
    "### Add zip code(categorical) columns"
   ]
  },
  {
   "cell_type": "code",
   "execution_count": 14,
   "id": "72b464c9-5b45-4962-837f-53d4c943bd19",
   "metadata": {},
   "outputs": [],
   "source": [
    "zip_code = df[['zipcode']]\n",
    "onehot = OneHotEncoder(sparse=False)\n",
    "onehot_data = onehot.fit_transform(zip_code)\n",
    "zip_code = pd.DataFrame(onehot_data, columns=onehot.get_feature_names())\n",
    "df = pd.concat([df,zip_code],axis=1)"
   ]
  },
  {
   "cell_type": "markdown",
   "id": "2f60b98c-dcc3-43c9-9e94-ae0c2ec732d4",
   "metadata": {},
   "source": [
    "### Add cross product columns"
   ]
  },
  {
   "cell_type": "code",
   "execution_count": 15,
   "id": "6d75b18c-054d-4512-8d0b-33338d472e96",
   "metadata": {},
   "outputs": [],
   "source": [
    "# Top cross correlations via function at head of notebook\n",
    "top = top_entries(df).dropna()"
   ]
  },
  {
   "cell_type": "code",
   "execution_count": 16,
   "id": "6d7c76b0-d4d8-4c31-a807-3bbb5a2d4083",
   "metadata": {},
   "outputs": [],
   "source": [
    "top = top[top[\"feature_a\"].str.contains(\"&\", \"price\")==False]\n",
    "top = top[top[\"feature_b\"].str.contains(\"&\")==False]\n",
    "top = top[top[\"feature_b\"].str.contains(\"price\")==False]"
   ]
  },
  {
   "cell_type": "code",
   "execution_count": 17,
   "id": "44d24ef3-5bc2-4f97-a800-591a03e7fdc4",
   "metadata": {},
   "outputs": [
    {
     "data": {
      "text/html": [
       "<div>\n",
       "<style scoped>\n",
       "    .dataframe tbody tr th:only-of-type {\n",
       "        vertical-align: middle;\n",
       "    }\n",
       "\n",
       "    .dataframe tbody tr th {\n",
       "        vertical-align: top;\n",
       "    }\n",
       "\n",
       "    .dataframe thead th {\n",
       "        text-align: right;\n",
       "    }\n",
       "</style>\n",
       "<table border=\"1\" class=\"dataframe\">\n",
       "  <thead>\n",
       "    <tr style=\"text-align: right;\">\n",
       "      <th></th>\n",
       "      <th>feature_a</th>\n",
       "      <th>feature_b</th>\n",
       "      <th>correlation</th>\n",
       "    </tr>\n",
       "  </thead>\n",
       "  <tbody>\n",
       "    <tr>\n",
       "      <th>0</th>\n",
       "      <td>yr_built</td>\n",
       "      <td>age</td>\n",
       "      <td>1.000000</td>\n",
       "    </tr>\n",
       "    <tr>\n",
       "      <th>1</th>\n",
       "      <td>sqft_living</td>\n",
       "      <td>sqft_above</td>\n",
       "      <td>0.876448</td>\n",
       "    </tr>\n",
       "    <tr>\n",
       "      <th>2</th>\n",
       "      <td>sqft_living</td>\n",
       "      <td>grade</td>\n",
       "      <td>0.762779</td>\n",
       "    </tr>\n",
       "    <tr>\n",
       "      <th>3</th>\n",
       "      <td>sqft_living</td>\n",
       "      <td>sqft_living15</td>\n",
       "      <td>0.756402</td>\n",
       "    </tr>\n",
       "    <tr>\n",
       "      <th>4</th>\n",
       "      <td>grade</td>\n",
       "      <td>sqft_above</td>\n",
       "      <td>0.756073</td>\n",
       "    </tr>\n",
       "    <tr>\n",
       "      <th>5</th>\n",
       "      <td>bathrooms</td>\n",
       "      <td>sqft_living</td>\n",
       "      <td>0.755758</td>\n",
       "    </tr>\n",
       "    <tr>\n",
       "      <th>6</th>\n",
       "      <td>sqft_above</td>\n",
       "      <td>sqft_living15</td>\n",
       "      <td>0.731767</td>\n",
       "    </tr>\n",
       "    <tr>\n",
       "      <th>7</th>\n",
       "      <td>sqft_lot</td>\n",
       "      <td>sqft_lot15</td>\n",
       "      <td>0.718204</td>\n",
       "    </tr>\n",
       "    <tr>\n",
       "      <th>8</th>\n",
       "      <td>grade</td>\n",
       "      <td>sqft_living15</td>\n",
       "      <td>0.713867</td>\n",
       "    </tr>\n",
       "    <tr>\n",
       "      <th>9</th>\n",
       "      <td>price</td>\n",
       "      <td>sqft_living</td>\n",
       "      <td>0.701917</td>\n",
       "    </tr>\n",
       "    <tr>\n",
       "      <th>10</th>\n",
       "      <td>bathrooms</td>\n",
       "      <td>sqft_above</td>\n",
       "      <td>0.686668</td>\n",
       "    </tr>\n",
       "    <tr>\n",
       "      <th>11</th>\n",
       "      <td>price</td>\n",
       "      <td>grade</td>\n",
       "      <td>0.667951</td>\n",
       "    </tr>\n",
       "    <tr>\n",
       "      <th>12</th>\n",
       "      <td>bathrooms</td>\n",
       "      <td>grade</td>\n",
       "      <td>0.665838</td>\n",
       "    </tr>\n",
       "    <tr>\n",
       "      <th>13</th>\n",
       "      <td>price</td>\n",
       "      <td>sqft_above</td>\n",
       "      <td>0.605368</td>\n",
       "    </tr>\n",
       "    <tr>\n",
       "      <th>14</th>\n",
       "      <td>price</td>\n",
       "      <td>sqft_living15</td>\n",
       "      <td>0.585241</td>\n",
       "    </tr>\n",
       "  </tbody>\n",
       "</table>\n",
       "</div>"
      ],
      "text/plain": [
       "      feature_a      feature_b  correlation\n",
       "0      yr_built            age     1.000000\n",
       "1   sqft_living     sqft_above     0.876448\n",
       "2   sqft_living          grade     0.762779\n",
       "3   sqft_living  sqft_living15     0.756402\n",
       "4         grade     sqft_above     0.756073\n",
       "5     bathrooms    sqft_living     0.755758\n",
       "6    sqft_above  sqft_living15     0.731767\n",
       "7      sqft_lot     sqft_lot15     0.718204\n",
       "8         grade  sqft_living15     0.713867\n",
       "9         price    sqft_living     0.701917\n",
       "10    bathrooms     sqft_above     0.686668\n",
       "11        price          grade     0.667951\n",
       "12    bathrooms          grade     0.665838\n",
       "13        price     sqft_above     0.605368\n",
       "14        price  sqft_living15     0.585241"
      ]
     },
     "execution_count": 17,
     "metadata": {},
     "output_type": "execute_result"
    }
   ],
   "source": [
    "top[0:15]"
   ]
  },
  {
   "cell_type": "code",
   "execution_count": 18,
   "id": "b0597e5f-f994-497a-aee4-028a4f07941f",
   "metadata": {},
   "outputs": [],
   "source": [
    "df[\"sqft_living&above\"] = df[\"sqft_living\"] * df[\"sqft_above\"]\n",
    "df[\"sqft_living&grade\"] = df[\"sqft_living\"] * df[\"grade\"]\n",
    "df[\"sqft_living&living15\"] = df[\"sqft_living\"] * df[\"sqft_living15\"]\n",
    "df[\"grade&sqft_above\"] = df[\"grade\"] * df[\"sqft_living\"]\n",
    "df[\"bathrooms&sqft_living\"] = df[\"bathrooms\"] * df[\"sqft_living\"]\n",
    "df[\"sqft_above&sqft_living15\"] = df[\"sqft_above\"] *df[\"sqft_living15\"]\n",
    "df[\"grade&sqft_above\"] = df[\"grade\"] * df[\"sqft_above\"]\n",
    "df[\"grade&sqft_living15\"] = df[\"grade\"] * df[\"sqft_living15\"]\n",
    "df[\"grade&sqft_above\"] = df[\"grade\"] * df[\"sqft_above\"]"
   ]
  },
  {
   "cell_type": "markdown",
   "id": "8a3bed0c",
   "metadata": {},
   "source": [
    "### Drop useless columns"
   ]
  },
  {
   "cell_type": "code",
   "execution_count": 19,
   "id": "89efdd72",
   "metadata": {},
   "outputs": [],
   "source": [
    "df.drop([\"waterfront\", \"yr_renovated\", \"view\", \"lat\", 'yr_built', 'date', 'zipcode', 'id', 'sqft_basement'], axis=1, inplace=True)"
   ]
  },
  {
   "cell_type": "markdown",
   "id": "bf569fd2-3173-41f9-a65e-5f99eecbc72c",
   "metadata": {},
   "source": [
    "### Drop na from dataset"
   ]
  },
  {
   "cell_type": "code",
   "execution_count": 20,
   "id": "99795f1b-e285-43e9-8610-822bf9017f80",
   "metadata": {
    "tags": []
   },
   "outputs": [],
   "source": [
    "df.dropna(inplace=True)"
   ]
  },
  {
   "cell_type": "code",
   "execution_count": 21,
   "id": "a45e9805-f9d4-425a-938d-be99749a8469",
   "metadata": {},
   "outputs": [
    {
     "data": {
      "text/plain": [
       "price                       0\n",
       "bedrooms                    0\n",
       "bathrooms                   0\n",
       "sqft_living                 0\n",
       "sqft_lot                    0\n",
       "                           ..\n",
       "sqft_living&living15        0\n",
       "grade&sqft_above            0\n",
       "bathrooms&sqft_living       0\n",
       "sqft_above&sqft_living15    0\n",
       "grade&sqft_living15         0\n",
       "Length: 91, dtype: int64"
      ]
     },
     "execution_count": 21,
     "metadata": {},
     "output_type": "execute_result"
    }
   ],
   "source": [
    "df.isna().sum()"
   ]
  },
  {
   "cell_type": "markdown",
   "id": "c160ba26-99f4-42f2-a2f7-4f0bbf4c2ca7",
   "metadata": {},
   "source": [
    "# Eliminate outliers"
   ]
  },
  {
   "cell_type": "code",
   "execution_count": 22,
   "id": "bbe39990-58df-4f03-84fd-de401af43155",
   "metadata": {},
   "outputs": [],
   "source": [
    "z_scores = stats.zscore(df[['bedrooms','bathrooms','sqft_living','sqft_lot','floors','grade','sqft_above','sqft_living15','sqft_lot15', \"price\"]])\n",
    "abs_z_scores = np.abs(z_scores)\n",
    "filtered_entries = (abs_z_scores < 3).all(axis=1)"
   ]
  },
  {
   "cell_type": "code",
   "execution_count": 23,
   "id": "d35a752d-7846-4281-a86f-5aea0a4ce982",
   "metadata": {},
   "outputs": [],
   "source": [
    "df = df[filtered_entries]"
   ]
  },
  {
   "cell_type": "markdown",
   "id": "9ba61572",
   "metadata": {},
   "source": [
    "# Create new column"
   ]
  },
  {
   "cell_type": "code",
   "execution_count": 10,
   "id": "94bfdbda",
   "metadata": {},
   "outputs": [],
   "source": [
    "df[\"age\"] = df[\"yr_built\"].map(lambda x: 2021 - x)"
   ]
  },
  {
   "cell_type": "markdown",
   "id": "9c1a7bce",
   "metadata": {},
   "source": [
    "# Counter of how many times each unique element appears in categorical columns"
   ]
  },
  {
   "cell_type": "code",
   "execution_count": 24,
   "id": "72e8d972",
   "metadata": {},
   "outputs": [],
   "source": [
    "Counter(df[\"age\"]);"
   ]
  },
  {
   "cell_type": "markdown",
   "id": "48637e0e-8efe-49e3-8809-060b5e027bd8",
   "metadata": {},
   "source": [
    "# Get ascending list of correlations"
   ]
  },
  {
   "cell_type": "code",
   "execution_count": 25,
   "id": "6350df38-f39a-448f-bfd3-075c67900455",
   "metadata": {},
   "outputs": [],
   "source": [
    "corrs = df.corr()[\"price\"].sort_values(ascending=False).drop(\"price\")"
   ]
  },
  {
   "cell_type": "code",
   "execution_count": 26,
   "id": "f0805988-e74b-431e-b33a-a098aa478c82",
   "metadata": {},
   "outputs": [
    {
     "data": {
      "text/plain": [
       "sqft_living&grade       0.680787\n",
       "grade                   0.640878\n",
       "sqft_living&living15    0.634868\n",
       "sqft_living             0.631505\n",
       "grade&sqft_living15     0.628235\n",
       "                          ...   \n",
       "x0_98002.0             -0.104919\n",
       "x0_98001.0             -0.117057\n",
       "x0_98168.0             -0.119931\n",
       "x0_98042.0             -0.127224\n",
       "x0_98023.0             -0.135672\n",
       "Name: price, Length: 90, dtype: float64"
      ]
     },
     "execution_count": 26,
     "metadata": {},
     "output_type": "execute_result"
    }
   ],
   "source": [
    "corrs"
   ]
  },
  {
   "cell_type": "markdown",
   "id": "c619421f-3800-44e7-b8f5-5f205d203cc0",
   "metadata": {},
   "source": [
    "# Create variable called target that contains price column of full df"
   ]
  },
  {
   "cell_type": "code",
   "execution_count": 27,
   "id": "e2ee6447-dd4f-4f53-9a5c-fa7f766dac83",
   "metadata": {},
   "outputs": [],
   "source": [
    "target = df[\"price\"]"
   ]
  },
  {
   "cell_type": "markdown",
   "id": "3d7a7773-f56a-4322-a97a-ed69ec7db6fd",
   "metadata": {},
   "source": [
    "# Create baseline model"
   ]
  },
  {
   "cell_type": "code",
   "execution_count": 28,
   "id": "2c44d0fe-5889-4883-acaa-370e29dc1b3f",
   "metadata": {},
   "outputs": [],
   "source": [
    "baseline_df = df[[corrs.keys()[0]]]"
   ]
  },
  {
   "cell_type": "code",
   "execution_count": 29,
   "id": "f6412a1b-9ea4-42aa-958e-b060f4391b9a",
   "metadata": {},
   "outputs": [
    {
     "data": {
      "text/plain": [
       "sqft_living&grade    0\n",
       "dtype: int64"
      ]
     },
     "execution_count": 29,
     "metadata": {},
     "output_type": "execute_result"
    }
   ],
   "source": [
    "baseline_df.isna().sum()"
   ]
  },
  {
   "cell_type": "code",
   "execution_count": 30,
   "id": "375c3bc0",
   "metadata": {},
   "outputs": [
    {
     "data": {
      "text/plain": [
       "(182336.01,\n",
       " 179512.61,\n",
       "              feature     weight\n",
       " 0  sqft_living&grade  21.566826)"
      ]
     },
     "execution_count": 30,
     "metadata": {},
     "output_type": "execute_result"
    }
   ],
   "source": [
    "model(baseline_df, target)"
   ]
  },
  {
   "cell_type": "markdown",
   "id": "78792862",
   "metadata": {},
   "source": [
    "# Create model with top 3"
   ]
  },
  {
   "cell_type": "code",
   "execution_count": 31,
   "id": "32a19fb3",
   "metadata": {},
   "outputs": [],
   "source": [
    "top3_df = df[[corrs.keys()[0], corrs.keys()[1], corrs.keys()[2]]]"
   ]
  },
  {
   "cell_type": "code",
   "execution_count": 32,
   "id": "725a4474",
   "metadata": {},
   "outputs": [
    {
     "data": {
      "text/plain": [
       "(179316.34,\n",
       " 176645.47,\n",
       "                 feature        weight\n",
       " 2  sqft_living&living15      0.005086\n",
       " 0     sqft_living&grade     13.283825\n",
       " 1                 grade  59088.229120)"
      ]
     },
     "execution_count": 32,
     "metadata": {},
     "output_type": "execute_result"
    }
   ],
   "source": [
    "model(top3_df, target)"
   ]
  },
  {
   "cell_type": "code",
   "execution_count": 33,
   "id": "b945813f-6c75-4429-a55d-aec7bbce9fee",
   "metadata": {},
   "outputs": [
    {
     "data": {
      "text/plain": [
       "<AxesSubplot:xlabel='feature', ylabel='weight'>"
      ]
     },
     "execution_count": 33,
     "metadata": {},
     "output_type": "execute_result"
    },
    {
     "data": {
      "image/png": "[encoded data removed]",
      "text/plain": [
       "<Figure size 432x288 with 1 Axes>"
      ]
     },
     "metadata": {
      "needs_background": "light"
     },
     "output_type": "display_data"
    }
   ],
   "source": [
    "sns.barplot(x= model(top3_df, target)[2][\"feature\"], y= model(top3_df, target)[2][\"weight\"])"
   ]
  },
  {
   "cell_type": "markdown",
   "id": "e7b26356",
   "metadata": {},
   "source": [
    "# Top 7 correlated"
   ]
  },
  {
   "cell_type": "code",
   "execution_count": 34,
   "id": "11ad2a24",
   "metadata": {},
   "outputs": [],
   "source": [
    "top7_df = df[[corrs.keys()[0], corrs.keys()[1], corrs.keys()[2], corrs.keys()[3], corrs.keys()[4], corrs.keys()[5], corrs.keys()[6]]]"
   ]
  },
  {
   "cell_type": "code",
   "execution_count": 35,
   "id": "87519447",
   "metadata": {},
   "outputs": [
    {
     "data": {
      "text/plain": [
       "(176326.54, 173843.05)"
      ]
     },
     "execution_count": 35,
     "metadata": {},
     "output_type": "execute_result"
    }
   ],
   "source": [
    "model(top7_df, target, standard=True)[0:2]"
   ]
  },
  {
   "cell_type": "code",
   "execution_count": 36,
   "id": "206603f7-8437-4e14-83d6-b92ef7cf84c6",
   "metadata": {},
   "outputs": [
    {
     "data": {
      "text/plain": [
       "<AxesSubplot:xlabel='feature', ylabel='weight'>"
      ]
     },
     "execution_count": 36,
     "metadata": {},
     "output_type": "execute_result"
    },
    {
     "data": {
      "image/png": "[encoded data removed]",
      "text/plain": [
       "<Figure size 432x288 with 1 Axes>"
      ]
     },
     "metadata": {
      "needs_background": "light"
     },
     "output_type": "display_data"
    }
   ],
   "source": [
    "sns.barplot(x= model(top7_df, target)[2][\"feature\"], y= model(top7_df, target)[2][\"weight\"])"
   ]
  },
  {
   "cell_type": "code",
   "execution_count": 37,
   "id": "b04ea746-67f7-436a-9b4e-c8a54e09d122",
   "metadata": {},
   "outputs": [
    {
     "data": {
      "text/plain": [
       "Index(['price', 'bedrooms', 'bathrooms', 'sqft_living', 'sqft_lot', 'floors',\n",
       "       'condition', 'grade', 'sqft_above', 'long', 'sqft_living15',\n",
       "       'sqft_lot15', 'age', 'listing_age', 'x0_98001.0', 'x0_98002.0',\n",
       "       'x0_98003.0', 'x0_98004.0', 'x0_98005.0', 'x0_98006.0', 'x0_98007.0',\n",
       "       'x0_98008.0'],\n",
       "      dtype='object')"
      ]
     },
     "execution_count": 37,
     "metadata": {},
     "output_type": "execute_result"
    }
   ],
   "source": [
    "df.columns[0:22]"
   ]
  },
  {
   "cell_type": "markdown",
   "id": "ff59f796-fc46-4c60-8172-bde8c2262bf4",
   "metadata": {},
   "source": [
    "# All usable columns (zip code and cross multiplications added)"
   ]
  },
  {
   "cell_type": "code",
   "execution_count": 38,
   "id": "7d7a0836-09f8-4668-bc35-2d6050dbad84",
   "metadata": {},
   "outputs": [],
   "source": [
    "all_df = df.drop(['price', 'long', 'condition'],axis=1)"
   ]
  },
  {
   "cell_type": "code",
   "execution_count": 39,
   "id": "7e815c82-6ff9-4a00-be53-950b9aac736a",
   "metadata": {},
   "outputs": [
    {
     "data": {
      "text/plain": [
       "(105109.38, 106598.63)"
      ]
     },
     "execution_count": 39,
     "metadata": {},
     "output_type": "execute_result"
    }
   ],
   "source": [
    "model(all_df, target, \"minmax\")[0:2]"
   ]
  },
  {
   "cell_type": "code",
   "execution_count": 40,
   "id": "57f2e375-94ce-4753-a7b8-894d4319d78a",
   "metadata": {},
   "outputs": [
    {
     "data": {
      "text/plain": [
       "<AxesSubplot:xlabel='price', ylabel='Count'>"
      ]
     },
     "execution_count": 40,
     "metadata": {},
     "output_type": "execute_result"
    },
    {
     "data": {
      "image/png": "[encoded data removed]",
      "text/plain": [
       "<Figure size 432x288 with 1 Axes>"
      ]
     },
     "metadata": {
      "needs_background": "light"
     },
     "output_type": "display_data"
    }
   ],
   "source": [
    "sns.histplot(df.price, bins=20)"
   ]
  },
  {
   "cell_type": "code",
   "execution_count": 41,
   "id": "03261f54-7f70-470c-937b-aaaecdd4c315",
   "metadata": {},
   "outputs": [],
   "source": [
    "logY = np.log(target)"
   ]
  },
  {
   "cell_type": "code",
   "execution_count": 42,
   "id": "d6e3f1bd-b2ab-4fb5-aa56-6317a98defeb",
   "metadata": {},
   "outputs": [
    {
     "data": {
      "text/html": [
       "<div>\n",
       "<style scoped>\n",
       "    .dataframe tbody tr th:only-of-type {\n",
       "        vertical-align: middle;\n",
       "    }\n",
       "\n",
       "    .dataframe tbody tr th {\n",
       "        vertical-align: top;\n",
       "    }\n",
       "\n",
       "    .dataframe thead th {\n",
       "        text-align: right;\n",
       "    }\n",
       "</style>\n",
       "<table border=\"1\" class=\"dataframe\">\n",
       "  <thead>\n",
       "    <tr style=\"text-align: right;\">\n",
       "      <th></th>\n",
       "      <th>feature</th>\n",
       "      <th>weight</th>\n",
       "    </tr>\n",
       "  </thead>\n",
       "  <tbody>\n",
       "    <tr>\n",
       "      <th>4</th>\n",
       "      <td>floors</td>\n",
       "      <td>-0.039120</td>\n",
       "    </tr>\n",
       "    <tr>\n",
       "      <th>0</th>\n",
       "      <td>bedrooms</td>\n",
       "      <td>-0.013333</td>\n",
       "    </tr>\n",
       "    <tr>\n",
       "      <th>10</th>\n",
       "      <td>listing_age</td>\n",
       "      <td>-0.002577</td>\n",
       "    </tr>\n",
       "    <tr>\n",
       "      <th>87</th>\n",
       "      <td>grade&amp;sqft_living15</td>\n",
       "      <td>-0.000017</td>\n",
       "    </tr>\n",
       "    <tr>\n",
       "      <th>8</th>\n",
       "      <td>sqft_lot15</td>\n",
       "      <td>-0.000001</td>\n",
       "    </tr>\n",
       "    <tr>\n",
       "      <th>...</th>\n",
       "      <td>...</td>\n",
       "      <td>...</td>\n",
       "    </tr>\n",
       "    <tr>\n",
       "      <th>64</th>\n",
       "      <td>x0_98119.0</td>\n",
       "      <td>7493.562917</td>\n",
       "    </tr>\n",
       "    <tr>\n",
       "      <th>59</th>\n",
       "      <td>x0_98112.0</td>\n",
       "      <td>7493.579864</td>\n",
       "    </tr>\n",
       "    <tr>\n",
       "      <th>58</th>\n",
       "      <td>x0_98109.0</td>\n",
       "      <td>7493.609972</td>\n",
       "    </tr>\n",
       "    <tr>\n",
       "      <th>14</th>\n",
       "      <td>x0_98004.0</td>\n",
       "      <td>7493.672789</td>\n",
       "    </tr>\n",
       "    <tr>\n",
       "      <th>35</th>\n",
       "      <td>x0_98039.0</td>\n",
       "      <td>7493.888654</td>\n",
       "    </tr>\n",
       "  </tbody>\n",
       "</table>\n",
       "<p>88 rows × 2 columns</p>\n",
       "</div>"
      ],
      "text/plain": [
       "                feature       weight\n",
       "4                floors    -0.039120\n",
       "0              bedrooms    -0.013333\n",
       "10          listing_age    -0.002577\n",
       "87  grade&sqft_living15    -0.000017\n",
       "8            sqft_lot15    -0.000001\n",
       "..                  ...          ...\n",
       "64           x0_98119.0  7493.562917\n",
       "59           x0_98112.0  7493.579864\n",
       "58           x0_98109.0  7493.609972\n",
       "14           x0_98004.0  7493.672789\n",
       "35           x0_98039.0  7493.888654\n",
       "\n",
       "[88 rows x 2 columns]"
      ]
     },
     "execution_count": 42,
     "metadata": {},
     "output_type": "execute_result"
    }
   ],
   "source": [
    "model(all_df, logY)[2]"
   ]
  },
  {
   "cell_type": "code",
   "execution_count": 43,
   "id": "32efb6c4-0a4e-4159-94d0-de80785a6147",
   "metadata": {},
   "outputs": [
    {
     "data": {
      "text/plain": [
       "<AxesSubplot:xlabel='feature', ylabel='weight'>"
      ]
     },
     "execution_count": 43,
     "metadata": {},
     "output_type": "execute_result"
    },
    {
     "data": {
      "image/png": "[encoded data removed]",
      "text/plain": [
       "<Figure size 432x288 with 1 Axes>"
      ]
     },
     "metadata": {
      "needs_background": "light"
     },
     "output_type": "display_data"
    }
   ],
   "source": [
    "sns.barplot(x= model(all_df, logY)[2][\"feature\"], y= model(all_df, logY)[2][\"weight\"])"
   ]
  },
  {
   "cell_type": "code",
   "execution_count": 44,
   "id": "0fda355f-e926-44d1-8e1e-320fa8dcd072",
   "metadata": {},
   "outputs": [
    {
     "data": {
      "text/plain": [
       "1.1972173631218102"
      ]
     },
     "execution_count": 44,
     "metadata": {},
     "output_type": "execute_result"
    }
   ],
   "source": [
    "np.exp(.18)"
   ]
  },
  {
   "cell_type": "code",
   "execution_count": 46,
   "id": "c8626925-9a3c-4ef9-afdb-8ff617f7200d",
   "metadata": {},
   "outputs": [],
   "source": [
    "columns = df[['bedrooms','bathrooms','sqft_living','sqft_lot','floors','grade','sqft_above','sqft_living15','sqft_lot15','price']]"
   ]
  },
  {
   "cell_type": "markdown",
   "id": "3e61de8a-8514-4d02-8ae5-23fe325c7624",
   "metadata": {},
   "source": [
    "# Bottom of page. Run GUI loop"
   ]
  },
  {
   "cell_type": "code",
   "execution_count": 47,
   "id": "32365b3f-cbb2-457c-8f25-12bc07d915ab",
   "metadata": {},
   "outputs": [],
   "source": [
    "window = Tk()\n",
    "window.title(\"my first\")\n",
    "window.configure(background=\"blue\")"
   ]
  },
  {
   "cell_type": "code",
   "execution_count": 48,
   "id": "9eb290e3-35b7-4c8f-ba82-9b9e4ddc17de",
   "metadata": {},
   "outputs": [],
   "source": [
    "#create header label\n",
    "Label (window, text=\"Enter the data:\", bg=\"blue\", fg=\"white\", font=\"none 22 bold\") .grid(row=0, column=0, columnspan=2, sticky=W)"
   ]
  },
  {
   "cell_type": "code",
   "execution_count": 49,
   "id": "bb510c08-04ec-4f4f-8981-357bc656532d",
   "metadata": {},
   "outputs": [],
   "source": [
    "#create input labels\n",
    "input_labels = ['sqft_living', 'grade', 'sqft_above', 'sqft_living15', 'bathrooms', 'bedrooms', 'floors', 'sqft_lot', 'sqft_lot15', 'age', \"zipcode\"]\n",
    "i=1\n",
    "for item in input_labels:\n",
    "    Label (window, text=item, bg=\"blue\", fg=\"white\", font=\"none 12 bold\") .grid(row=i, column=0, sticky=W)\n",
    "    i+=1"
   ]
  },
  {
   "cell_type": "code",
   "execution_count": 50,
   "id": "150ba2a1-fd02-49c1-a487-daa33b95ecc9",
   "metadata": {},
   "outputs": [],
   "source": [
    "#create label entry boxes\n",
    "sqft_living = Entry(window, width=20, bg=\"white\")\n",
    "sqft_living.grid(row=1, column=1, sticky=W)\n",
    "grade = Entry(window, width=20, bg=\"white\")\n",
    "grade.grid(row=2, column=1, sticky=W)\n",
    "sqft_above = Entry(window, width=20, bg=\"white\")\n",
    "sqft_above.grid(row=3, column=1, sticky=W)\n",
    "sqft_living15 = Entry(window, width=20, bg=\"white\")\n",
    "sqft_living15.grid(row=4, column=1, sticky=W)\n",
    "bathrooms = Entry(window, width=20, bg=\"white\")\n",
    "bathrooms.grid(row=5, column=1, sticky=W)\n",
    "bedrooms = Entry(window, width=20, bg=\"white\")\n",
    "bedrooms.grid(row=6, column=1, sticky=W)\n",
    "floors = Entry(window, width=20, bg=\"white\")\n",
    "floors.grid(row=7, column=1, sticky=W)\n",
    "sqft_lot = Entry(window, width=20, bg=\"white\")\n",
    "sqft_lot.grid(row=8, column=1, sticky=W)\n",
    "sqft_lot15 = Entry(window, width=20, bg=\"white\")\n",
    "sqft_lot15.grid(row=9, column=1, sticky=W)\n",
    "age = Entry(window, width=20, bg=\"white\")\n",
    "age.grid(row=10, column=1, sticky=W)\n",
    "zipcode = Entry(window, width=20, bg=\"white\")\n",
    "zipcode.grid(row=11, column=1, sticky=W)"
   ]
  },
  {
   "cell_type": "code",
   "execution_count": 51,
   "id": "31850aff-5274-4112-a094-ff0cc3aca245",
   "metadata": {},
   "outputs": [],
   "source": [
    "#Add submit button\n",
    "Button (window, text=\"SUBMIT\", width=6, command=click) .grid(row=len(input_labels)+1,column=0, columnspan=2, sticky=W)"
   ]
  },
  {
   "cell_type": "code",
   "execution_count": 52,
   "id": "6af54c6a-98af-470b-b09c-bc1663fd8545",
   "metadata": {},
   "outputs": [],
   "source": [
    "#Add another label\n",
    "Label (window, text=\"Predicted Price:\", bg=\"black\", fg=\"white\", font=\"none 20 bold\") .grid(row=len(input_labels)+2, column=0,sticky=W)"
   ]
  },
  {
   "cell_type": "code",
   "execution_count": 53,
   "id": "04881b9d-c129-4cba-bd90-d3418fcbf574",
   "metadata": {},
   "outputs": [],
   "source": [
    "#text output box\n",
    "output = Text(window, width=75, height=6, wrap=WORD, background=\"white\")\n",
    "output.grid(row=len(input_labels)+3, column=0, columnspan=2, sticky=W)"
   ]
  },
  {
   "cell_type": "code",
   "execution_count": 54,
   "id": "85991723-6187-4fbb-8998-42c9dc2511ef",
   "metadata": {},
   "outputs": [],
   "source": [
    "#Run gui loop\n",
    "window.mainloop()"
   ]
  },
  {
   "cell_type": "code",
   "execution_count": 55,
   "id": "55430958-d14a-4295-998c-72c7392e465b",
   "metadata": {},
   "outputs": [
    {
     "name": "stdout",
     "output_type": "stream",
     "text": [
      "['13277', '7', '7', '7', '7', '8', '88', '9', '9', '', '9']\n"
     ]
    },
    {
     "data": {
      "text/html": [
       "<div>\n",
       "<style scoped>\n",
       "    .dataframe tbody tr th:only-of-type {\n",
       "        vertical-align: middle;\n",
       "    }\n",
       "\n",
       "    .dataframe tbody tr th {\n",
       "        vertical-align: top;\n",
       "    }\n",
       "\n",
       "    .dataframe thead th {\n",
       "        text-align: right;\n",
       "    }\n",
       "</style>\n",
       "<table border=\"1\" class=\"dataframe\">\n",
       "  <thead>\n",
       "    <tr style=\"text-align: right;\">\n",
       "      <th></th>\n",
       "      <th>sqft_living</th>\n",
       "      <th>grade</th>\n",
       "      <th>sqft_above</th>\n",
       "      <th>sqft_living15</th>\n",
       "      <th>bathrooms</th>\n",
       "      <th>bedrooms</th>\n",
       "      <th>floors</th>\n",
       "      <th>sqft_lot15</th>\n",
       "      <th>sqft_lot</th>\n",
       "      <th>zipcode</th>\n",
       "      <th>age</th>\n",
       "    </tr>\n",
       "  </thead>\n",
       "  <tbody>\n",
       "    <tr>\n",
       "      <th>0</th>\n",
       "      <td>13277</td>\n",
       "      <td>7</td>\n",
       "      <td>7</td>\n",
       "      <td>7</td>\n",
       "      <td>7</td>\n",
       "      <td>8</td>\n",
       "      <td>88</td>\n",
       "      <td>9</td>\n",
       "      <td>9</td>\n",
       "      <td></td>\n",
       "      <td>9</td>\n",
       "    </tr>\n",
       "  </tbody>\n",
       "</table>\n",
       "</div>"
      ],
      "text/plain": [
       "  sqft_living grade sqft_above sqft_living15 bathrooms bedrooms floors  \\\n",
       "0       13277     7          7             7         7        8     88   \n",
       "\n",
       "  sqft_lot15 sqft_lot zipcode age  \n",
       "0          9        9           9  "
      ]
     },
     "execution_count": 55,
     "metadata": {},
     "output_type": "execute_result"
    }
   ],
   "source": [
    "data = ['13277', '7', '7', '7', '7', '8', '88', '9', '9', '', '9']\n",
    "cols = ['sqft_living', 'grade', 'sqft_above', 'sqft_living15', 'bathrooms', 'bedrooms', 'floors', 'sqft_lot15', 'sqft_lot', 'zipcode', 'age']\n",
    "df = pd.DataFrame([data],columns=cols)\n",
    "print(data)\n",
    "df"
   ]
  },
  {
   "cell_type": "code",
   "execution_count": null,
   "id": "464a0be1-7ba7-4c3c-9d40-89f5193891cd",
   "metadata": {},
   "outputs": [],
   "source": []
  }
 ],
 "metadata": {
  "kernelspec": {
   "display_name": "Python 3",
   "language": "python",
   "name": "python3"
  },
  "language_info": {
   "codemirror_mode": {
    "name": "ipython",
    "version": 3
   },
   "file_extension": ".py",
   "mimetype": "text/x-python",
   "name": "python",
   "nbconvert_exporter": "python",
   "pygments_lexer": "ipython3",
   "version": "3.8.8"
  }
 },
 "nbformat": 4,
 "nbformat_minor": 5
}
