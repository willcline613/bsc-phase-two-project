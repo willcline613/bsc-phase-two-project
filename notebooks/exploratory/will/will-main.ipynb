{
 "cells": [
  {
   "cell_type": "code",
   "execution_count": 1,
   "id": "99a11f00-2f41-478f-a23f-92f2299a2d92",
   "metadata": {},
   "outputs": [],
   "source": [
    "import pandas as pd\n",
    "import numpy as np\n",
    "import matplotlib.pyplot as plt\n",
    "import seaborn as sns\n",
    "from sklearn.linear_model import LinearRegression\n",
    "from sklearn.impute import SimpleImputer\n",
    "from sklearn.metrics import mean_squared_error\n",
    "from sklearn.model_selection import train_test_split\n",
    "from sklearn.preprocessing import MinMaxScaler\n",
    "from collections import Counter\n",
    "\n",
    "import warnings\n",
    "warnings.filterwarnings(\"ignore\")\n"
   ]
  },
  {
   "cell_type": "code",
   "execution_count": 2,
   "id": "74ea3df4-a26d-4e97-af23-bfd8ef5f908c",
   "metadata": {},
   "outputs": [],
   "source": [
    "def rmse(predictions, targets):\n",
    "    return np.sqrt(np.mean((predictions-targets)**2))"
   ]
  },
  {
   "cell_type": "code",
   "execution_count": 22,
   "id": "78fe07de",
   "metadata": {},
   "outputs": [],
   "source": [
    "def model(x, target):\n",
    "    #split data\n",
    "    X_train, X_test, y_train, y_test = train_test_split(x, df[target], random_state=42)\n",
    "    \n",
    "    #create model\n",
    "    model = LinearRegression()\n",
    "    #fit data to model\n",
    "    model.fit(X_train, y_train)\n",
    "    \n",
    "    #Make predictions\n",
    "    train_pred = model.predict(X_train)\n",
    "    test_pred = model.predict(X_test)\n",
    "    \n",
    "    #test rmse\n",
    "    test_rmse = rmse(test_pred, y_test.values)\n",
    "    return round(test_rmse, 2)"
   ]
  },
  {
   "cell_type": "markdown",
   "id": "6c12b6b4-cc61-43b9-bba2-16d4a7a73975",
   "metadata": {},
   "source": [
    "# import data"
   ]
  },
  {
   "cell_type": "code",
   "execution_count": 4,
   "id": "39096c11-3e6f-4e68-baa8-50a86b4aab5d",
   "metadata": {},
   "outputs": [],
   "source": [
    "path = \"../../../data/kc_house_data.csv\""
   ]
  },
  {
   "cell_type": "code",
   "execution_count": 5,
   "id": "073655c0-b9be-402f-87f9-c7f8ccbf623a",
   "metadata": {},
   "outputs": [],
   "source": [
    "df = pd.read_csv(path)"
   ]
  },
  {
   "cell_type": "code",
   "execution_count": 6,
   "id": "75bc4cc3-8613-4eab-8ae6-9ab3a80716a7",
   "metadata": {
    "scrolled": true,
    "tags": []
   },
   "outputs": [
    {
     "data": {
      "text/html": [
       "<div>\n",
       "<style scoped>\n",
       "    .dataframe tbody tr th:only-of-type {\n",
       "        vertical-align: middle;\n",
       "    }\n",
       "\n",
       "    .dataframe tbody tr th {\n",
       "        vertical-align: top;\n",
       "    }\n",
       "\n",
       "    .dataframe thead th {\n",
       "        text-align: right;\n",
       "    }\n",
       "</style>\n",
       "<table border=\"1\" class=\"dataframe\">\n",
       "  <thead>\n",
       "    <tr style=\"text-align: right;\">\n",
       "      <th></th>\n",
       "      <th>id</th>\n",
       "      <th>date</th>\n",
       "      <th>price</th>\n",
       "      <th>bedrooms</th>\n",
       "      <th>bathrooms</th>\n",
       "      <th>sqft_living</th>\n",
       "      <th>sqft_lot</th>\n",
       "      <th>floors</th>\n",
       "      <th>waterfront</th>\n",
       "      <th>view</th>\n",
       "      <th>...</th>\n",
       "      <th>grade</th>\n",
       "      <th>sqft_above</th>\n",
       "      <th>sqft_basement</th>\n",
       "      <th>yr_built</th>\n",
       "      <th>yr_renovated</th>\n",
       "      <th>zipcode</th>\n",
       "      <th>lat</th>\n",
       "      <th>long</th>\n",
       "      <th>sqft_living15</th>\n",
       "      <th>sqft_lot15</th>\n",
       "    </tr>\n",
       "  </thead>\n",
       "  <tbody>\n",
       "    <tr>\n",
       "      <th>0</th>\n",
       "      <td>7129300520</td>\n",
       "      <td>10/13/2014</td>\n",
       "      <td>221900.0</td>\n",
       "      <td>3</td>\n",
       "      <td>1.00</td>\n",
       "      <td>1180</td>\n",
       "      <td>5650</td>\n",
       "      <td>1.0</td>\n",
       "      <td>NaN</td>\n",
       "      <td>0.0</td>\n",
       "      <td>...</td>\n",
       "      <td>7</td>\n",
       "      <td>1180</td>\n",
       "      <td>0.0</td>\n",
       "      <td>1955</td>\n",
       "      <td>0.0</td>\n",
       "      <td>98178</td>\n",
       "      <td>47.5112</td>\n",
       "      <td>-122.257</td>\n",
       "      <td>1340</td>\n",
       "      <td>5650</td>\n",
       "    </tr>\n",
       "    <tr>\n",
       "      <th>1</th>\n",
       "      <td>6414100192</td>\n",
       "      <td>12/9/2014</td>\n",
       "      <td>538000.0</td>\n",
       "      <td>3</td>\n",
       "      <td>2.25</td>\n",
       "      <td>2570</td>\n",
       "      <td>7242</td>\n",
       "      <td>2.0</td>\n",
       "      <td>0.0</td>\n",
       "      <td>0.0</td>\n",
       "      <td>...</td>\n",
       "      <td>7</td>\n",
       "      <td>2170</td>\n",
       "      <td>400.0</td>\n",
       "      <td>1951</td>\n",
       "      <td>1991.0</td>\n",
       "      <td>98125</td>\n",
       "      <td>47.7210</td>\n",
       "      <td>-122.319</td>\n",
       "      <td>1690</td>\n",
       "      <td>7639</td>\n",
       "    </tr>\n",
       "  </tbody>\n",
       "</table>\n",
       "<p>2 rows × 21 columns</p>\n",
       "</div>"
      ],
      "text/plain": [
       "           id        date     price  bedrooms  bathrooms  sqft_living  \\\n",
       "0  7129300520  10/13/2014  221900.0         3       1.00         1180   \n",
       "1  6414100192   12/9/2014  538000.0         3       2.25         2570   \n",
       "\n",
       "   sqft_lot  floors  waterfront  view  ...  grade  sqft_above  sqft_basement  \\\n",
       "0      5650     1.0         NaN   0.0  ...      7        1180            0.0   \n",
       "1      7242     2.0         0.0   0.0  ...      7        2170          400.0   \n",
       "\n",
       "  yr_built  yr_renovated  zipcode      lat     long  sqft_living15  sqft_lot15  \n",
       "0     1955           0.0    98178  47.5112 -122.257           1340        5650  \n",
       "1     1951        1991.0    98125  47.7210 -122.319           1690        7639  \n",
       "\n",
       "[2 rows x 21 columns]"
      ]
     },
     "execution_count": 6,
     "metadata": {},
     "output_type": "execute_result"
    }
   ],
   "source": [
    "df.head(2)"
   ]
  },
  {
   "cell_type": "markdown",
   "id": "7285aacd-b96f-4629-bcd6-29c7c96f607e",
   "metadata": {},
   "source": [
    "# Clean the data"
   ]
  },
  {
   "cell_type": "markdown",
   "id": "ef164dec-9c79-417b-9884-09ebcf396b10",
   "metadata": {},
   "source": [
    "### turn columns into floats"
   ]
  },
  {
   "cell_type": "code",
   "execution_count": 7,
   "id": "13f898f3-0bbb-48c9-92b5-c77acca3e19b",
   "metadata": {},
   "outputs": [],
   "source": [
    "df['sqft_living'] = df['sqft_living'].astype(float)\n",
    "df['bedrooms'] = df['bedrooms'].astype(float)\n",
    "df['condition'] = df['condition'].astype(float)\n",
    "df['grade'] = df['grade'].astype(float)\n",
    "df['sqft_above'] = df['sqft_above'].astype(float)\n",
    "df['yr_built'] = df['yr_built'].astype(float)\n",
    "df['zipcode'] = df['zipcode'].astype(float)\n",
    "df['sqft_living15'] = df['sqft_living15'].astype(float)\n",
    "df['sqft_lot15'] = df['sqft_lot15'].astype(float)\n",
    "df['sqft_lot'] = df['sqft_lot'].astype(float)"
   ]
  },
  {
   "cell_type": "markdown",
   "id": "8a3bed0c",
   "metadata": {},
   "source": [
    "### Drop useless columns"
   ]
  },
  {
   "cell_type": "code",
   "execution_count": 8,
   "id": "89efdd72",
   "metadata": {},
   "outputs": [],
   "source": [
    "df.drop([\"waterfront\", \"yr_renovated\", \"view\", \"lat\"], axis=1, inplace=True)"
   ]
  },
  {
   "cell_type": "markdown",
   "id": "bf569fd2-3173-41f9-a65e-5f99eecbc72c",
   "metadata": {},
   "source": [
    "### Drop na from dataset"
   ]
  },
  {
   "cell_type": "code",
   "execution_count": 9,
   "id": "99795f1b-e285-43e9-8610-822bf9017f80",
   "metadata": {
    "tags": []
   },
   "outputs": [],
   "source": [
    "df.dropna(inplace=True)"
   ]
  },
  {
   "cell_type": "markdown",
   "id": "0aa10278-1d5e-445b-9a71-28fa20639518",
   "metadata": {},
   "source": [
    "# Create new column"
   ]
  },
  {
   "cell_type": "code",
   "execution_count": 10,
   "id": "94bfdbda",
   "metadata": {},
   "outputs": [],
   "source": [
    "df[\"age\"] = df[\"yr_built\"].map(lambda x: 2021 - x)"
   ]
  },
  {
   "cell_type": "markdown",
   "id": "9c1a7bce",
   "metadata": {},
   "source": [
    "# Counter of how many times each unique element appears in categorical columns"
   ]
  },
  {
   "cell_type": "code",
   "execution_count": 11,
   "id": "72e8d972",
   "metadata": {},
   "outputs": [
    {
     "data": {
      "text/plain": [
       "Counter({98178.0: 262,\n",
       "         98125.0: 409,\n",
       "         98028.0: 283,\n",
       "         98136.0: 263,\n",
       "         98074.0: 441,\n",
       "         98053.0: 403,\n",
       "         98003.0: 280,\n",
       "         98198.0: 280,\n",
       "         98146.0: 288,\n",
       "         98038.0: 589,\n",
       "         98007.0: 141,\n",
       "         98115.0: 583,\n",
       "         98107.0: 266,\n",
       "         98126.0: 354,\n",
       "         98019.0: 190,\n",
       "         98103.0: 602,\n",
       "         98002.0: 199,\n",
       "         98133.0: 493,\n",
       "         98040.0: 282,\n",
       "         98092.0: 351,\n",
       "         98030.0: 256,\n",
       "         98119.0: 184,\n",
       "         98112.0: 269,\n",
       "         98052.0: 574,\n",
       "         98027.0: 412,\n",
       "         98117.0: 553,\n",
       "         98058.0: 455,\n",
       "         98001.0: 361,\n",
       "         98056.0: 406,\n",
       "         98166.0: 254,\n",
       "         98023.0: 499,\n",
       "         98070.0: 117,\n",
       "         98148.0: 57,\n",
       "         98105.0: 229,\n",
       "         98042.0: 547,\n",
       "         98008.0: 283,\n",
       "         98059.0: 468,\n",
       "         98122.0: 290,\n",
       "         98144.0: 343,\n",
       "         98004.0: 317,\n",
       "         98005.0: 168,\n",
       "         98034.0: 545,\n",
       "         98075.0: 359,\n",
       "         98116.0: 330,\n",
       "         98010.0: 100,\n",
       "         98118.0: 507,\n",
       "         98199.0: 317,\n",
       "         98032.0: 125,\n",
       "         98045.0: 220,\n",
       "         98102.0: 104,\n",
       "         98077.0: 198,\n",
       "         98108.0: 186,\n",
       "         98168.0: 269,\n",
       "         98177.0: 255,\n",
       "         98065.0: 308,\n",
       "         98029.0: 321,\n",
       "         98006.0: 498,\n",
       "         98109.0: 109,\n",
       "         98022.0: 233,\n",
       "         98033.0: 432,\n",
       "         98155.0: 446,\n",
       "         98024.0: 80,\n",
       "         98011.0: 195,\n",
       "         98031.0: 273,\n",
       "         98106.0: 335,\n",
       "         98072.0: 273,\n",
       "         98188.0: 136,\n",
       "         98014.0: 124,\n",
       "         98055.0: 268,\n",
       "         98039.0: 50})"
      ]
     },
     "execution_count": 11,
     "metadata": {},
     "output_type": "execute_result"
    }
   ],
   "source": [
    "Counter(df[\"zipcode\"])"
   ]
  },
  {
   "cell_type": "markdown",
   "id": "48637e0e-8efe-49e3-8809-060b5e027bd8",
   "metadata": {},
   "source": [
    "# Get ascending list of correlations"
   ]
  },
  {
   "cell_type": "code",
   "execution_count": 12,
   "id": "6350df38-f39a-448f-bfd3-075c67900455",
   "metadata": {},
   "outputs": [],
   "source": [
    "corrs = df.corr()[\"price\"].sort_values(ascending=False).drop(\"price\")"
   ]
  },
  {
   "cell_type": "markdown",
   "id": "6a6805c7",
   "metadata": {},
   "source": [
    "# Get top cross correlations"
   ]
  },
  {
   "cell_type": "code",
   "execution_count": 13,
   "id": "ba2fe430",
   "metadata": {},
   "outputs": [],
   "source": [
    "def top_entries(df):\n",
    "    #df.corr().abs().unstack().sort_values(ascending=False).drop_duplicates()\n",
    "    \n",
    "    mat = df.corr().abs()\n",
    "    \n",
    "    # Remove duplicate and identity entries\n",
    "    mat.loc[:,:] = np.tril(mat.values, k=-1)\n",
    "    mat = mat[mat>0]\n",
    "\n",
    "    # Unstack, sort ascending, and reset the index, so features are in columns\n",
    "    # instead of indexes (allowing e.g. a pretty print in Jupyter).\n",
    "    # Also rename these it for good measure.\n",
    "    return (mat.unstack()\n",
    "             .sort_values(ascending=False)\n",
    "             .reset_index()\n",
    "             .rename(columns={\n",
    "                 \"level_0\": \"feature_a\",\n",
    "                 \"level_1\": \"feature_b\",\n",
    "                 0: \"correlation\"\n",
    "             }))"
   ]
  },
  {
   "cell_type": "code",
   "execution_count": 14,
   "id": "51c7ddbd",
   "metadata": {},
   "outputs": [
    {
     "data": {
      "text/html": [
       "<div>\n",
       "<style scoped>\n",
       "    .dataframe tbody tr th:only-of-type {\n",
       "        vertical-align: middle;\n",
       "    }\n",
       "\n",
       "    .dataframe tbody tr th {\n",
       "        vertical-align: top;\n",
       "    }\n",
       "\n",
       "    .dataframe thead th {\n",
       "        text-align: right;\n",
       "    }\n",
       "</style>\n",
       "<table border=\"1\" class=\"dataframe\">\n",
       "  <thead>\n",
       "    <tr style=\"text-align: right;\">\n",
       "      <th></th>\n",
       "      <th>feature_a</th>\n",
       "      <th>feature_b</th>\n",
       "      <th>correlation</th>\n",
       "    </tr>\n",
       "  </thead>\n",
       "  <tbody>\n",
       "    <tr>\n",
       "      <th>0</th>\n",
       "      <td>yr_built</td>\n",
       "      <td>age</td>\n",
       "      <td>1.000000</td>\n",
       "    </tr>\n",
       "    <tr>\n",
       "      <th>1</th>\n",
       "      <td>sqft_living</td>\n",
       "      <td>sqft_above</td>\n",
       "      <td>0.876448</td>\n",
       "    </tr>\n",
       "    <tr>\n",
       "      <th>2</th>\n",
       "      <td>sqft_living</td>\n",
       "      <td>grade</td>\n",
       "      <td>0.762779</td>\n",
       "    </tr>\n",
       "    <tr>\n",
       "      <th>3</th>\n",
       "      <td>sqft_living</td>\n",
       "      <td>sqft_living15</td>\n",
       "      <td>0.756402</td>\n",
       "    </tr>\n",
       "    <tr>\n",
       "      <th>4</th>\n",
       "      <td>grade</td>\n",
       "      <td>sqft_above</td>\n",
       "      <td>0.756073</td>\n",
       "    </tr>\n",
       "    <tr>\n",
       "      <th>5</th>\n",
       "      <td>bathrooms</td>\n",
       "      <td>sqft_living</td>\n",
       "      <td>0.755758</td>\n",
       "    </tr>\n",
       "    <tr>\n",
       "      <th>6</th>\n",
       "      <td>sqft_above</td>\n",
       "      <td>sqft_living15</td>\n",
       "      <td>0.731767</td>\n",
       "    </tr>\n",
       "    <tr>\n",
       "      <th>7</th>\n",
       "      <td>sqft_lot</td>\n",
       "      <td>sqft_lot15</td>\n",
       "      <td>0.718204</td>\n",
       "    </tr>\n",
       "    <tr>\n",
       "      <th>8</th>\n",
       "      <td>grade</td>\n",
       "      <td>sqft_living15</td>\n",
       "      <td>0.713867</td>\n",
       "    </tr>\n",
       "    <tr>\n",
       "      <th>9</th>\n",
       "      <td>price</td>\n",
       "      <td>sqft_living</td>\n",
       "      <td>0.701917</td>\n",
       "    </tr>\n",
       "  </tbody>\n",
       "</table>\n",
       "</div>"
      ],
      "text/plain": [
       "     feature_a      feature_b  correlation\n",
       "0     yr_built            age     1.000000\n",
       "1  sqft_living     sqft_above     0.876448\n",
       "2  sqft_living          grade     0.762779\n",
       "3  sqft_living  sqft_living15     0.756402\n",
       "4        grade     sqft_above     0.756073\n",
       "5    bathrooms    sqft_living     0.755758\n",
       "6   sqft_above  sqft_living15     0.731767\n",
       "7     sqft_lot     sqft_lot15     0.718204\n",
       "8        grade  sqft_living15     0.713867\n",
       "9        price    sqft_living     0.701917"
      ]
     },
     "execution_count": 14,
     "metadata": {},
     "output_type": "execute_result"
    }
   ],
   "source": [
    "top_entries(df).dropna().head(10)"
   ]
  },
  {
   "cell_type": "markdown",
   "id": "c619421f-3800-44e7-b8f5-5f205d203cc0",
   "metadata": {},
   "source": [
    "# Create variable called target that contains price column of full df"
   ]
  },
  {
   "cell_type": "code",
   "execution_count": 15,
   "id": "e2ee6447-dd4f-4f53-9a5c-fa7f766dac83",
   "metadata": {},
   "outputs": [],
   "source": [
    "target = \"price\""
   ]
  },
  {
   "cell_type": "markdown",
   "id": "3d7a7773-f56a-4322-a97a-ed69ec7db6fd",
   "metadata": {},
   "source": [
    "# Create baseline model"
   ]
  },
  {
   "cell_type": "code",
   "execution_count": 23,
   "id": "2c44d0fe-5889-4883-acaa-370e29dc1b3f",
   "metadata": {},
   "outputs": [],
   "source": [
    "baseline_df = df[[corrs.keys()[0]]]"
   ]
  },
  {
   "cell_type": "code",
   "execution_count": 24,
   "id": "375c3bc0",
   "metadata": {},
   "outputs": [
    {
     "data": {
      "text/plain": [
       "262216.52"
      ]
     },
     "execution_count": 24,
     "metadata": {},
     "output_type": "execute_result"
    }
   ],
   "source": [
    "model(baseline_df, target)"
   ]
  },
  {
   "cell_type": "markdown",
   "id": "78792862",
   "metadata": {},
   "source": [
    "# Create model with top 3"
   ]
  },
  {
   "cell_type": "code",
   "execution_count": 25,
   "id": "32a19fb3",
   "metadata": {},
   "outputs": [],
   "source": [
    "top3_df = df[[corrs.keys()[0], corrs.keys()[1], corrs.keys()[2]]]"
   ]
  },
  {
   "cell_type": "code",
   "execution_count": 26,
   "id": "725a4474",
   "metadata": {},
   "outputs": [
    {
     "data": {
      "text/plain": [
       "253195.5"
      ]
     },
     "execution_count": 26,
     "metadata": {},
     "output_type": "execute_result"
    }
   ],
   "source": [
    "model(top3_df, target)"
   ]
  },
  {
   "cell_type": "markdown",
   "id": "e7b26356",
   "metadata": {},
   "source": [
    "# Top 7 correlated"
   ]
  },
  {
   "cell_type": "code",
   "execution_count": 27,
   "id": "11ad2a24",
   "metadata": {},
   "outputs": [],
   "source": [
    "top7_df = df[[corrs.keys()[0], corrs.keys()[1], corrs.keys()[2], corrs.keys()[3], corrs.keys()[4], corrs.keys()[5], corrs.keys()[6]]]"
   ]
  },
  {
   "cell_type": "code",
   "execution_count": 28,
   "id": "87519447",
   "metadata": {},
   "outputs": [
    {
     "data": {
      "text/plain": [
       "250430.9"
      ]
     },
     "execution_count": 28,
     "metadata": {},
     "output_type": "execute_result"
    }
   ],
   "source": [
    "model(top7_df, target)"
   ]
  },
  {
   "cell_type": "code",
   "execution_count": null,
   "id": "b077afaf",
   "metadata": {},
   "outputs": [],
   "source": []
  }
 ],
 "metadata": {
  "kernelspec": {
   "display_name": "Python 3",
   "language": "python",
   "name": "python3"
  },
  "language_info": {
   "codemirror_mode": {
    "name": "ipython",
    "version": 3
   },
   "file_extension": ".py",
   "mimetype": "text/x-python",
   "name": "python",
   "nbconvert_exporter": "python",
   "pygments_lexer": "ipython3",
   "version": "3.8.8"
  }
 },
 "nbformat": 4,
 "nbformat_minor": 5
}
