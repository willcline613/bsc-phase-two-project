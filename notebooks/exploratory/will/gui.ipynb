{
 "cells": [
  {
   "cell_type": "code",
   "execution_count": 1,
   "id": "ac3005c6-2251-4f31-94cd-114ac9d641de",
   "metadata": {},
   "outputs": [],
   "source": [
    "from tkinter import *"
   ]
  },
  {
   "cell_type": "code",
   "execution_count": 2,
   "id": "6c294cf3-9d8e-496e-9301-391b3cd97b66",
   "metadata": {},
   "outputs": [],
   "source": [
    "def click():\n",
    "    entries = []\n",
    "    \n",
    "    #saves text entry to entered_text variable when function is called by button press\n",
    "    entries.append(sqft_living.get())\n",
    "    entries.append(grade.get())\n",
    "    entries.append(sqft_above.get())\n",
    "    entries.append(sqft_living15.get())\n",
    "    entries.append(bathrooms.get())\n",
    "    entries.append(bedrooms.get())\n",
    "    entries.append(floors.get())\n",
    "    \n",
    "    ##Call model() function at end of this function to get output\n",
    "    ##predicted_price = model()\n",
    "    \n",
    "    if all(item != \"\" and is_number(item) for item in entries): \n",
    "        #Clear output text box and output new word to it.\n",
    "        output.delete(0.0,END)\n",
    "        output.insert(END, \"$predicted value goes here\")\n",
    "    else:\n",
    "        output.delete(0.0,END)\n",
    "        output.insert(END, \"Error: Missing or Invalid Entries\")"
   ]
  },
  {
   "cell_type": "code",
   "execution_count": 3,
   "id": "a77fcfc8-6b36-42b6-be19-5d1970b6d465",
   "metadata": {},
   "outputs": [],
   "source": [
    "def is_number(a):\n",
    "    # will be True also for 'NaN'\n",
    "    try:\n",
    "        number = float(a)\n",
    "        return True\n",
    "    except ValueError:\n",
    "        return False"
   ]
  },
  {
   "cell_type": "code",
   "execution_count": 4,
   "id": "21f6a4fd-2426-43f5-9192-1dca1fb186df",
   "metadata": {},
   "outputs": [],
   "source": [
    "window = Tk()"
   ]
  },
  {
   "cell_type": "code",
   "execution_count": 5,
   "id": "d46ed517-5179-43ff-8a30-989c68e0ad88",
   "metadata": {},
   "outputs": [
    {
     "data": {
      "text/plain": [
       "''"
      ]
     },
     "execution_count": 5,
     "metadata": {},
     "output_type": "execute_result"
    }
   ],
   "source": [
    "window.title(\"my first\")"
   ]
  },
  {
   "cell_type": "code",
   "execution_count": 6,
   "id": "8152a2c8-a8e6-4cbb-ac82-c0b8e33e48a7",
   "metadata": {},
   "outputs": [],
   "source": [
    "window.configure(background=\"blue\")"
   ]
  },
  {
   "cell_type": "markdown",
   "id": "ff058879-9663-496b-b2f9-b014418d30ac",
   "metadata": {},
   "source": [
    "## create Header label"
   ]
  },
  {
   "cell_type": "code",
   "execution_count": 7,
   "id": "f9148988-b176-4b39-9e3b-c5b824c2b18c",
   "metadata": {},
   "outputs": [],
   "source": [
    "Label (window, text=\"Enter the data:\", bg=\"blue\", fg=\"white\", font=\"none 22 bold\") .grid(row=0, column=0, columnspan=2, sticky=W)"
   ]
  },
  {
   "cell_type": "markdown",
   "id": "f1531dba-6815-4355-81b7-c8bc29294d23",
   "metadata": {},
   "source": [
    "## Create input labels"
   ]
  },
  {
   "cell_type": "code",
   "execution_count": 8,
   "id": "09d17342-6a3d-4241-b71a-0505c164c36c",
   "metadata": {},
   "outputs": [],
   "source": [
    "input_labels = ['sqft_living', 'grade', 'sqft_above', 'sqft_living15', 'bathrooms', 'bedrooms', 'floors']"
   ]
  },
  {
   "cell_type": "code",
   "execution_count": 9,
   "id": "dbb91304-454e-4069-bcc7-6b401e3a7c87",
   "metadata": {},
   "outputs": [],
   "source": [
    "i=1\n",
    "for item in input_labels:\n",
    "    Label (window, text=item, bg=\"blue\", fg=\"white\", font=\"none 12 bold\") .grid(row=i, column=0, sticky=W)\n",
    "    i+=1\n",
    "    "
   ]
  },
  {
   "cell_type": "markdown",
   "id": "f78e6bd7-a6d1-4c54-b2d4-57ff7740733a",
   "metadata": {},
   "source": [
    "## Create text entry boxs"
   ]
  },
  {
   "cell_type": "code",
   "execution_count": 10,
   "id": "53a14ea2-1cd5-4105-b8f7-96dd9e23d2d0",
   "metadata": {
    "tags": []
   },
   "outputs": [],
   "source": [
    "sqft_living = Entry(window, width=20, bg=\"white\")\n",
    "sqft_living.grid(row=1, column=1, sticky=W)\n",
    "grade = Entry(window, width=20, bg=\"white\")\n",
    "grade.grid(row=2, column=1, sticky=W)\n",
    "sqft_above = Entry(window, width=20, bg=\"white\")\n",
    "sqft_above.grid(row=3, column=1, sticky=W)\n",
    "sqft_living15 = Entry(window, width=20, bg=\"white\")\n",
    "sqft_living15.grid(row=4, column=1, sticky=W)\n",
    "bathrooms = Entry(window, width=20, bg=\"white\")\n",
    "bathrooms.grid(row=5, column=1, sticky=W)\n",
    "bedrooms = Entry(window, width=20, bg=\"white\")\n",
    "bedrooms.grid(row=6, column=1, sticky=W)\n",
    "floors = Entry(window, width=20, bg=\"white\")\n",
    "floors.grid(row=7, column=1, sticky=W)"
   ]
  },
  {
   "cell_type": "markdown",
   "id": "c867a00c-9adf-482c-b1c8-6dc9a0227980",
   "metadata": {},
   "source": [
    "## Add submit button"
   ]
  },
  {
   "cell_type": "code",
   "execution_count": 11,
   "id": "63572561-d37e-449e-841b-826698a33f4f",
   "metadata": {},
   "outputs": [],
   "source": [
    "Button (window, text=\"SUBMIT\", width=6, command=click) .grid(row=len(input_labels)+1,column=0, columnspan=2, sticky=W)"
   ]
  },
  {
   "cell_type": "markdown",
   "id": "7d260a2d-2d0b-414e-bb65-987893fd0a39",
   "metadata": {},
   "source": [
    "## Another label"
   ]
  },
  {
   "cell_type": "code",
   "execution_count": 12,
   "id": "1c5f82b2-2246-494d-b08b-8d0cdc13f323",
   "metadata": {},
   "outputs": [],
   "source": [
    "Label (window, text=\"Predicted Price:\", bg=\"black\", fg=\"white\", font=\"none 20 bold\") .grid(row=len(input_labels)+2, column=0,sticky=W)"
   ]
  },
  {
   "cell_type": "markdown",
   "id": "d2117dd6-999a-4024-806f-ac0177e936f1",
   "metadata": {},
   "source": [
    "## Text output box"
   ]
  },
  {
   "cell_type": "code",
   "execution_count": 13,
   "id": "3f6c9823-9c2c-490a-9cf5-e4530cfb06b6",
   "metadata": {},
   "outputs": [],
   "source": [
    "output = Text(window, width=75, height=6, wrap=WORD, background=\"white\")\n",
    "output.grid(row=len(input_labels)+3, column=0, columnspan=2, sticky=W)"
   ]
  },
  {
   "cell_type": "code",
   "execution_count": 14,
   "id": "ab3b30fa-e458-4d80-8553-c6330c4ff845",
   "metadata": {},
   "outputs": [],
   "source": [
    "window.mainloop()"
   ]
  },
  {
   "cell_type": "code",
   "execution_count": null,
   "id": "d9107050-fa4e-43c0-b92c-0c7e6286066d",
   "metadata": {},
   "outputs": [],
   "source": []
  }
 ],
 "metadata": {
  "kernelspec": {
   "display_name": "Python 3",
   "language": "python",
   "name": "python3"
  },
  "language_info": {
   "codemirror_mode": {
    "name": "ipython",
    "version": 3
   },
   "file_extension": ".py",
   "mimetype": "text/x-python",
   "name": "python",
   "nbconvert_exporter": "python",
   "pygments_lexer": "ipython3",
   "version": "3.8.8"
  }
 },
 "nbformat": 4,
 "nbformat_minor": 5
}
