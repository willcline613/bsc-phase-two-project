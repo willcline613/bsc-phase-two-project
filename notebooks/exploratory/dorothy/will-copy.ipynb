{
 "cells": [
  {
   "cell_type": "code",
   "execution_count": 1,
   "metadata": {},
   "outputs": [],
   "source": [
    "import pandas as pd\n",
    "import numpy as np\n",
    "import matplotlib.pyplot as plt\n",
    "import seaborn as sns\n",
    "from sklearn.linear_model import LinearRegression\n",
    "from sklearn.impute import SimpleImputer\n",
    "from sklearn.metrics import mean_squared_error\n",
    "from sklearn.model_selection import train_test_split\n",
    "from sklearn.preprocessing import MinMaxScaler\n",
    "from sklearn.preprocessing import StandardScaler\n",
    "from sklearn.preprocessing import OneHotEncoder\n",
    "from sklearn.preprocessing import LabelEncoder\n",
    "from scipy.stats import zscore\n",
    "from scipy import stats\n",
    "from tkinter import *\n",
    "\n",
    "from collections import Counter\n",
    "\n",
    "\n",
    "import warnings\n",
    "warnings.filterwarnings(\"ignore\")\n"
   ]
  },
  {
   "cell_type": "code",
   "execution_count": 2,
   "metadata": {},
   "outputs": [],
   "source": [
    "def rmse(predictions, targets):\n",
    "    return np.sqrt(np.mean((predictions-targets)**2))"
   ]
  },
  {
   "cell_type": "code",
   "execution_count": 110,
   "metadata": {},
   "outputs": [],
   "source": [
    "def model(x, target_df, standard=False, minmax=False, log=False):\n",
    "    if log:\n",
    "        #does log work on a bunh of columns at once?\n",
    "#         x = np.log(x)\n",
    "        target_df = np.log(target_df)\n",
    "        \n",
    "    #split data \n",
    "    X_train, X_test, y_train, y_test = train_test_split(x, target_df, random_state=42)\n",
    "    \n",
    "    #Implement scaler options if scaler parameters != None\n",
    "    if minmax:\n",
    "        scaler = MinMaxScaler()\n",
    "        scaler.fit(X_train)\n",
    "        X_train = scaler.transform(X_train)\n",
    "        X_test = scaler.transform(X_test)\n",
    "        \n",
    "    if standard:\n",
    "        scaler = StandardScaler()\n",
    "        scaler.fit(X_train)\n",
    "        X_train = scaler.transform(X_train)\n",
    "        X_test = scaler.transform(X_test)\n",
    "        \n",
    "    #create model\n",
    "    model = LinearRegression()\n",
    "    #fit data to model\n",
    "    model.fit(X_train, y_train)\n",
    "    \n",
    "    #Model coef\n",
    "    df_column_names = x.columns\n",
    "    coef = pd.DataFrame(list(zip(df_column_names, model.coef_)), columns = [\"feature\",\"weight\"])\\\n",
    "    .sort_values(\"weight\", ascending=False)\n",
    "    \n",
    "    #Make predictions\n",
    "    train_pred = model.predict(X_train)\n",
    "    test_pred = model.predict(X_test)\n",
    "    \n",
    "    if log:\n",
    "        train_rmse = rmse(np.exp(train_pred), np.exp(y_train.values))\n",
    "        test_rmse = rmse(np.exp(test_pred), np.exp(y_test.values))\n",
    "    else:\n",
    "    \n",
    "        #train rmse\n",
    "        train_rmse = rmse(train_pred, y_train.values)\n",
    "        #test rmse\n",
    "        test_rmse = rmse(test_pred, y_test.values)\n",
    "        \n",
    "   \n",
    "    return ( round(train_rmse,2), round(test_rmse, 2), coef, train_pred, test_pred, y_train)"
   ]
  },
  {
   "cell_type": "markdown",
   "metadata": {},
   "source": [
    "# Put best model in get prediction function"
   ]
  },
  {
   "cell_type": "code",
   "execution_count": 4,
   "metadata": {},
   "outputs": [],
   "source": [
    "def get_prediction(x):\n",
    "    #create model\n",
    "    model = LinearRegression()\n",
    "    #fit best feature df and target to model\n",
    "    model.fit(all_df, target)\n",
    "    \n",
    "    #get prediction for x(user inputs) based off of fitted model\n",
    "    pred = model.predict(x)\n",
    "    return pred"
   ]
  },
  {
   "cell_type": "code",
   "execution_count": 5,
   "metadata": {},
   "outputs": [],
   "source": [
    "def top_entries(df):\n",
    "    #df.corr().abs().unstack().sort_values(ascending=False).drop_duplicates()\n",
    "    \n",
    "    mat = df.corr().abs()\n",
    "    \n",
    "    # Remove duplicate and identity entries\n",
    "    mat.loc[:,:] = np.tril(mat.values, k=-1)\n",
    "    mat = mat[mat>0]\n",
    "\n",
    "    # Unstack, sort ascending, and reset the index, so features are in columns\n",
    "    # instead of indexes (allowing e.g. a pretty print in Jupyter).\n",
    "    # Also rename these it for good measure.\n",
    "    return (mat.unstack()\n",
    "             .sort_values(ascending=False)\n",
    "             .reset_index()\n",
    "             .rename(columns={\n",
    "                 \"level_0\": \"feature_a\",\n",
    "                 \"level_1\": \"feature_b\",\n",
    "                 0: \"correlation\"\n",
    "             }))"
   ]
  },
  {
   "cell_type": "code",
   "execution_count": 6,
   "metadata": {},
   "outputs": [],
   "source": [
    "def click():\n",
    "    entries = []\n",
    "    column_names = [\"sqft_living\", \"grade\", \"sqft_above\", \"sqft_living15\", \"bathrooms\", \"bedrooms\", \"floors\", \"sqft_lot15\", \"sqft_lot\", \"zipcode\", \"age\"]\n",
    "    \n",
    "    #saves text entry to entered_text variable when function is called by button press\n",
    "    entries.append(sqft_living.get())\n",
    "    entries.append(grade.get())\n",
    "    entries.append(sqft_above.get())\n",
    "    entries.append(sqft_living15.get())\n",
    "    entries.append(bathrooms.get())\n",
    "    entries.append(bedrooms.get())\n",
    "    entries.append(floors.get())\n",
    "    entries.append(sqft_lot15.get())\n",
    "    entries.append(sqft_lot.get())\n",
    "    entries.append(zipcode.get())\n",
    "    entries.append(age.get())\n",
    "    \n",
    "    entries_df = pd.DataFrame([entries], columns= column_names)\n",
    "    \n",
    "    #one hot encode zip code column then drop it\n",
    "    zip_code = entries_df[['zipcode']]\n",
    "    onehot = OneHotEncoder(sparse=False)\n",
    "    onehot_data = onehot.fit_transform(zip_code)\n",
    "    zip_code = pd.DataFrame(onehot_data, columns=onehot.get_feature_names())\n",
    "    entries_df = pd.concat([entries_df,zip_code],axis=1)\n",
    "    \n",
    "    print(entries_df)\n",
    "#     ##Call model() function at end of this function to get output\n",
    "#     predicted_price = get_prediction(entries_df)\n",
    "    \n",
    "#     if all(item != \"\" and is_number(item) for item in entries): \n",
    "#         #Clear output text box and output new word to it.\n",
    "#         output.delete(0.0,END)\n",
    "#         output.insert(END, predicted_price)\n",
    "#     else:\n",
    "#         output.delete(0.0,END)\n",
    "#         output.insert(END, \"Error: Missing or Invalid Entries\")"
   ]
  },
  {
   "cell_type": "code",
   "execution_count": 7,
   "metadata": {},
   "outputs": [],
   "source": [
    "def is_number(a):\n",
    "    # will be True also for 'NaN'\n",
    "    try:\n",
    "        number = float(a)\n",
    "        return True\n",
    "    except ValueError:\n",
    "        return False"
   ]
  },
  {
   "cell_type": "markdown",
   "metadata": {},
   "source": [
    "# import data"
   ]
  },
  {
   "cell_type": "code",
   "execution_count": 8,
   "metadata": {},
   "outputs": [],
   "source": [
    "path = \"../../../data/kc_house_data.csv\""
   ]
  },
  {
   "cell_type": "code",
   "execution_count": 9,
   "metadata": {},
   "outputs": [],
   "source": [
    "df = pd.read_csv(path)"
   ]
  },
  {
   "cell_type": "markdown",
   "metadata": {},
   "source": [
    "# Clean the data"
   ]
  },
  {
   "cell_type": "markdown",
   "metadata": {},
   "source": [
    "### turn columns into floats"
   ]
  },
  {
   "cell_type": "code",
   "execution_count": 10,
   "metadata": {},
   "outputs": [],
   "source": [
    "df['sqft_living'] = df['sqft_living'].astype(float)\n",
    "df['bedrooms'] = df['bedrooms'].astype(float)\n",
    "df['condition'] = df['condition'].astype(float)\n",
    "df['grade'] = df['grade'].astype(float)\n",
    "df['sqft_above'] = df['sqft_above'].astype(float)\n",
    "df['yr_built'] = df['yr_built'].astype(float)\n",
    "df['zipcode'] = df['zipcode'].astype(float)\n",
    "df['sqft_living15'] = df['sqft_living15'].astype(float)\n",
    "df['sqft_lot15'] = df['sqft_lot15'].astype(float)\n",
    "df['sqft_lot'] = df['sqft_lot'].astype(float)"
   ]
  },
  {
   "cell_type": "markdown",
   "metadata": {},
   "source": [
    "# Create new columns"
   ]
  },
  {
   "cell_type": "code",
   "execution_count": 11,
   "metadata": {
    "tags": []
   },
   "outputs": [],
   "source": [
    "df[\"age\"] = df[\"yr_built\"].map(lambda x: 2021 - x)"
   ]
  },
  {
   "cell_type": "code",
   "execution_count": 12,
   "metadata": {},
   "outputs": [],
   "source": [
    "df[\"listing_age\"] = df[\"date\"].map(lambda date: float(date.split(\"/\")[0]) + (2021- float(date.split(\"/\")[2]) )*12)"
   ]
  },
  {
   "cell_type": "markdown",
   "metadata": {},
   "source": [
    "### Add zip code(categorical) columns"
   ]
  },
  {
   "cell_type": "code",
   "execution_count": 13,
   "metadata": {},
   "outputs": [],
   "source": [
    "zip_code = df[['zipcode']]\n",
    "onehot = OneHotEncoder(sparse=False)\n",
    "onehot_data = onehot.fit_transform(zip_code)\n",
    "zip_code = pd.DataFrame(onehot_data, columns=onehot.get_feature_names())\n",
    "df = pd.concat([df,zip_code],axis=1)"
   ]
  },
  {
   "cell_type": "markdown",
   "metadata": {},
   "source": [
    "### Add cross product columns"
   ]
  },
  {
   "cell_type": "code",
   "execution_count": 14,
   "metadata": {},
   "outputs": [],
   "source": [
    "# Top cross correlations via function at head of notebook\n",
    "top = top_entries(df).dropna()"
   ]
  },
  {
   "cell_type": "code",
   "execution_count": 15,
   "metadata": {},
   "outputs": [],
   "source": [
    "top = top[top[\"feature_a\"].str.contains(\"&\", \"price\")==False]\n",
    "top = top[top[\"feature_b\"].str.contains(\"&\")==False]\n",
    "top = top[top[\"feature_b\"].str.contains(\"price\")==False]"
   ]
  },
  {
   "cell_type": "code",
   "execution_count": 16,
   "metadata": {},
   "outputs": [
    {
     "data": {
      "text/html": [
       "<div>\n",
       "<style scoped>\n",
       "    .dataframe tbody tr th:only-of-type {\n",
       "        vertical-align: middle;\n",
       "    }\n",
       "\n",
       "    .dataframe tbody tr th {\n",
       "        vertical-align: top;\n",
       "    }\n",
       "\n",
       "    .dataframe thead th {\n",
       "        text-align: right;\n",
       "    }\n",
       "</style>\n",
       "<table border=\"1\" class=\"dataframe\">\n",
       "  <thead>\n",
       "    <tr style=\"text-align: right;\">\n",
       "      <th></th>\n",
       "      <th>feature_a</th>\n",
       "      <th>feature_b</th>\n",
       "      <th>correlation</th>\n",
       "    </tr>\n",
       "  </thead>\n",
       "  <tbody>\n",
       "    <tr>\n",
       "      <th>0</th>\n",
       "      <td>yr_built</td>\n",
       "      <td>age</td>\n",
       "      <td>1.000000</td>\n",
       "    </tr>\n",
       "    <tr>\n",
       "      <th>1</th>\n",
       "      <td>sqft_living</td>\n",
       "      <td>sqft_above</td>\n",
       "      <td>0.876448</td>\n",
       "    </tr>\n",
       "    <tr>\n",
       "      <th>2</th>\n",
       "      <td>sqft_living</td>\n",
       "      <td>grade</td>\n",
       "      <td>0.762779</td>\n",
       "    </tr>\n",
       "    <tr>\n",
       "      <th>3</th>\n",
       "      <td>sqft_living</td>\n",
       "      <td>sqft_living15</td>\n",
       "      <td>0.756402</td>\n",
       "    </tr>\n",
       "    <tr>\n",
       "      <th>4</th>\n",
       "      <td>grade</td>\n",
       "      <td>sqft_above</td>\n",
       "      <td>0.756073</td>\n",
       "    </tr>\n",
       "  </tbody>\n",
       "</table>\n",
       "</div>"
      ],
      "text/plain": [
       "     feature_a      feature_b  correlation\n",
       "0     yr_built            age     1.000000\n",
       "1  sqft_living     sqft_above     0.876448\n",
       "2  sqft_living          grade     0.762779\n",
       "3  sqft_living  sqft_living15     0.756402\n",
       "4        grade     sqft_above     0.756073"
      ]
     },
     "execution_count": 16,
     "metadata": {},
     "output_type": "execute_result"
    }
   ],
   "source": [
    "top[:5]"
   ]
  },
  {
   "cell_type": "code",
   "execution_count": 17,
   "metadata": {},
   "outputs": [],
   "source": [
    "df[\"sqft_living&above\"] = df[\"sqft_living\"] * df[\"sqft_above\"]\n",
    "df[\"sqft_living&grade\"] = df[\"sqft_living\"] * df[\"grade\"]\n",
    "df[\"sqft_living&living15\"] = df[\"sqft_living\"] * df[\"sqft_living15\"]\n",
    "df[\"grade&sqft_above\"] = df[\"grade\"] * df[\"sqft_living\"]\n",
    "df[\"bathrooms&sqft_living\"] = df[\"bathrooms\"] * df[\"sqft_living\"]\n",
    "df[\"sqft_above&sqft_living15\"] = df[\"sqft_above\"] *df[\"sqft_living15\"]\n",
    "df[\"grade&sqft_above\"] = df[\"grade\"] * df[\"sqft_above\"]\n",
    "df[\"grade&sqft_living15\"] = df[\"grade\"] * df[\"sqft_living15\"]\n",
    "df[\"grade&sqft_above\"] = df[\"grade\"] * df[\"sqft_above\"]"
   ]
  },
  {
   "cell_type": "markdown",
   "metadata": {},
   "source": [
    "### Drop useless columns"
   ]
  },
  {
   "cell_type": "code",
   "execution_count": 18,
   "metadata": {},
   "outputs": [],
   "source": [
    "df.drop([\"waterfront\", \"yr_renovated\", \"view\", \"lat\", 'yr_built', 'date', 'zipcode', 'id', 'sqft_basement'], axis=1, inplace=True)"
   ]
  },
  {
   "cell_type": "markdown",
   "metadata": {},
   "source": [
    "### Drop na from dataset"
   ]
  },
  {
   "cell_type": "code",
   "execution_count": 19,
   "metadata": {
    "tags": []
   },
   "outputs": [],
   "source": [
    "df.dropna(inplace=True)"
   ]
  },
  {
   "cell_type": "markdown",
   "metadata": {},
   "source": [
    "# Eliminate outliers"
   ]
  },
  {
   "cell_type": "code",
   "execution_count": 20,
   "metadata": {},
   "outputs": [],
   "source": [
    "z_scores = stats.zscore(df[['bedrooms','bathrooms','sqft_living','sqft_lot','floors','grade','sqft_above','sqft_living15','sqft_lot15', \"price\"]])\n",
    "abs_z_scores = np.abs(z_scores)\n",
    "filtered_entries = (abs_z_scores < 3).all(axis=1)"
   ]
  },
  {
   "cell_type": "code",
   "execution_count": 21,
   "metadata": {},
   "outputs": [],
   "source": [
    "df = df[filtered_entries]"
   ]
  },
  {
   "cell_type": "markdown",
   "metadata": {},
   "source": [
    "# Counter of how many times each unique element appears in categorical columns"
   ]
  },
  {
   "cell_type": "code",
   "execution_count": 22,
   "metadata": {},
   "outputs": [],
   "source": [
    "Counter(df[\"age\"]);"
   ]
  },
  {
   "cell_type": "markdown",
   "metadata": {},
   "source": [
    "# Get ascending list of correlations"
   ]
  },
  {
   "cell_type": "code",
   "execution_count": 23,
   "metadata": {},
   "outputs": [],
   "source": [
    "corrs = df.corr()[\"price\"].sort_values(ascending=False).drop(\"price\")"
   ]
  },
  {
   "cell_type": "markdown",
   "metadata": {},
   "source": [
    "# Create variable called target that contains price column of full df"
   ]
  },
  {
   "cell_type": "code",
   "execution_count": 24,
   "metadata": {},
   "outputs": [],
   "source": [
    "target = df[\"price\"]"
   ]
  },
  {
   "cell_type": "markdown",
   "metadata": {},
   "source": [
    "# Create baseline model"
   ]
  },
  {
   "cell_type": "code",
   "execution_count": 25,
   "metadata": {},
   "outputs": [],
   "source": [
    "baseline_df = df[[corrs.keys()[0]]]"
   ]
  },
  {
   "cell_type": "code",
   "execution_count": 26,
   "metadata": {},
   "outputs": [
    {
     "data": {
      "text/plain": [
       "(182336.01, 179512.61)"
      ]
     },
     "execution_count": 26,
     "metadata": {},
     "output_type": "execute_result"
    }
   ],
   "source": [
    "model(baseline_df, target)[:2]"
   ]
  },
  {
   "cell_type": "markdown",
   "metadata": {},
   "source": [
    "# Create model with top 3"
   ]
  },
  {
   "cell_type": "code",
   "execution_count": 27,
   "metadata": {},
   "outputs": [],
   "source": [
    "top3_df = df[[corrs.keys()[0], corrs.keys()[1], corrs.keys()[2]]]"
   ]
  },
  {
   "cell_type": "code",
   "execution_count": 28,
   "metadata": {},
   "outputs": [
    {
     "data": {
      "text/plain": [
       "(179316.34, 176645.47)"
      ]
     },
     "execution_count": 28,
     "metadata": {},
     "output_type": "execute_result"
    }
   ],
   "source": [
    "model(top3_df, target)[:2]"
   ]
  },
  {
   "cell_type": "markdown",
   "metadata": {},
   "source": [
    "# Top 7 correlated"
   ]
  },
  {
   "cell_type": "code",
   "execution_count": 29,
   "metadata": {},
   "outputs": [],
   "source": [
    "top7_df = df[[corrs.keys()[0], corrs.keys()[1], corrs.keys()[2], corrs.keys()[3], corrs.keys()[4], corrs.keys()[5], corrs.keys()[6]]]"
   ]
  },
  {
   "cell_type": "code",
   "execution_count": 30,
   "metadata": {},
   "outputs": [
    {
     "data": {
      "text/plain": [
       "(176326.54, 173843.05)"
      ]
     },
     "execution_count": 30,
     "metadata": {},
     "output_type": "execute_result"
    }
   ],
   "source": [
    "model(top7_df, target, standard=True)[:2]"
   ]
  },
  {
   "cell_type": "markdown",
   "metadata": {},
   "source": [
    "# All usable columns (zip code and cross multiplications added)"
   ]
  },
  {
   "cell_type": "code",
   "execution_count": 31,
   "metadata": {},
   "outputs": [],
   "source": [
    "all_df = df.drop(['price', 'long', 'condition'],axis=1)"
   ]
  },
  {
   "cell_type": "code",
   "execution_count": 32,
   "metadata": {},
   "outputs": [
    {
     "data": {
      "text/plain": [
       "(105108.33, 106599.03)"
      ]
     },
     "execution_count": 32,
     "metadata": {},
     "output_type": "execute_result"
    }
   ],
   "source": [
    "model(all_df, target)[:2]"
   ]
  },
  {
   "cell_type": "markdown",
   "metadata": {},
   "source": [
    "# All with minmax"
   ]
  },
  {
   "cell_type": "code",
   "execution_count": 33,
   "metadata": {},
   "outputs": [
    {
     "data": {
      "text/plain": [
       "(105108.49, 106597.58)"
      ]
     },
     "execution_count": 33,
     "metadata": {},
     "output_type": "execute_result"
    }
   ],
   "source": [
    "model(all_df, target, minmax=True)[:2]"
   ]
  },
  {
   "cell_type": "markdown",
   "metadata": {},
   "source": [
    "# All with standard"
   ]
  },
  {
   "cell_type": "code",
   "execution_count": 34,
   "metadata": {},
   "outputs": [
    {
     "data": {
      "text/plain": [
       "(105108.91, 106599.87)"
      ]
     },
     "execution_count": 34,
     "metadata": {},
     "output_type": "execute_result"
    }
   ],
   "source": [
    "model(all_df, target, standard=True)[:2]"
   ]
  },
  {
   "cell_type": "markdown",
   "metadata": {},
   "source": [
    "# All with standard and log"
   ]
  },
  {
   "cell_type": "code",
   "execution_count": 35,
   "metadata": {},
   "outputs": [],
   "source": [
    "best = model(all_df, target, standard=True, log=True)"
   ]
  },
  {
   "cell_type": "code",
   "execution_count": 36,
   "metadata": {},
   "outputs": [
    {
     "data": {
      "text/plain": [
       "(99516.09, 100966.12)"
      ]
     },
     "execution_count": 36,
     "metadata": {},
     "output_type": "execute_result"
    }
   ],
   "source": [
    "best[:2]"
   ]
  },
  {
   "cell_type": "markdown",
   "metadata": {},
   "source": [
    "# Price distribution skew"
   ]
  },
  {
   "cell_type": "code",
   "execution_count": 37,
   "metadata": {},
   "outputs": [
    {
     "data": {
      "image/png": "[encoded data removed]",
      "text/plain": [
       "<Figure size 432x288 with 1 Axes>"
      ]
     },
     "metadata": {
      "needs_background": "light"
     },
     "output_type": "display_data"
    }
   ],
   "source": [
    "sns.histplot(df.price, bins=20);"
   ]
  },
  {
   "cell_type": "markdown",
   "metadata": {},
   "source": [
    "# Feature importance"
   ]
  },
  {
   "cell_type": "code",
   "execution_count": 38,
   "metadata": {},
   "outputs": [
    {
     "data": {
      "text/html": [
       "<div>\n",
       "<style scoped>\n",
       "    .dataframe tbody tr th:only-of-type {\n",
       "        vertical-align: middle;\n",
       "    }\n",
       "\n",
       "    .dataframe tbody tr th {\n",
       "        vertical-align: top;\n",
       "    }\n",
       "\n",
       "    .dataframe thead th {\n",
       "        text-align: right;\n",
       "    }\n",
       "</style>\n",
       "<table border=\"1\" class=\"dataframe\">\n",
       "  <thead>\n",
       "    <tr style=\"text-align: right;\">\n",
       "      <th></th>\n",
       "      <th>feature</th>\n",
       "      <th>weight</th>\n",
       "    </tr>\n",
       "  </thead>\n",
       "  <tbody>\n",
       "    <tr>\n",
       "      <th>7</th>\n",
       "      <td>sqft_living15</td>\n",
       "      <td>0.177229</td>\n",
       "    </tr>\n",
       "    <tr>\n",
       "      <th>82</th>\n",
       "      <td>sqft_living&amp;grade</td>\n",
       "      <td>0.141995</td>\n",
       "    </tr>\n",
       "    <tr>\n",
       "      <th>6</th>\n",
       "      <td>sqft_above</td>\n",
       "      <td>0.137514</td>\n",
       "    </tr>\n",
       "    <tr>\n",
       "      <th>2</th>\n",
       "      <td>sqft_living</td>\n",
       "      <td>0.127269</td>\n",
       "    </tr>\n",
       "    <tr>\n",
       "      <th>5</th>\n",
       "      <td>grade</td>\n",
       "      <td>0.094050</td>\n",
       "    </tr>\n",
       "  </tbody>\n",
       "</table>\n",
       "</div>"
      ],
      "text/plain": [
       "              feature    weight\n",
       "7       sqft_living15  0.177229\n",
       "82  sqft_living&grade  0.141995\n",
       "6          sqft_above  0.137514\n",
       "2         sqft_living  0.127269\n",
       "5               grade  0.094050"
      ]
     },
     "execution_count": 38,
     "metadata": {},
     "output_type": "execute_result"
    }
   ],
   "source": [
    "best[2].head()"
   ]
  },
  {
   "cell_type": "code",
   "execution_count": 125,
   "metadata": {
    "scrolled": true
   },
   "outputs": [
    {
     "data": {
      "image/png": "[encoded data removed]",
      "text/plain": [
       "<Figure size 864x432 with 1 Axes>"
      ]
     },
     "metadata": {
      "needs_background": "light"
     },
     "output_type": "display_data"
    }
   ],
   "source": [
    "fig, ax = plt.subplots(figsize=(12, 6))\n",
    "sns.barplot(x=best[2][\"feature\"][:7], y=best[2][\"weight\"][:7],)\n",
    "ax.set_xticklabels(ax.get_xticklabels(), rotation=45, horizontalalignment='right')\n",
    "plt.show()"
   ]
  },
  {
   "cell_type": "markdown",
   "metadata": {},
   "source": [
    "# Bottom of page. Run GUI loop"
   ]
  },
  {
   "cell_type": "code",
   "execution_count": 40,
   "metadata": {},
   "outputs": [],
   "source": [
    "#neccesary?\n",
    "columns = df[['bedrooms','bathrooms','sqft_living','sqft_lot','floors','grade','sqft_above','sqft_living15','sqft_lot15','price']]"
   ]
  },
  {
   "cell_type": "code",
   "execution_count": 41,
   "metadata": {},
   "outputs": [],
   "source": [
    "window = Tk()\n",
    "window.title(\"my first\")\n",
    "window.configure(background=\"blue\")"
   ]
  },
  {
   "cell_type": "code",
   "execution_count": 42,
   "metadata": {},
   "outputs": [],
   "source": [
    "#create header label\n",
    "Label (window, text=\"Enter the data:\", bg=\"blue\", fg=\"white\", font=\"none 22 bold\") .grid(row=0, column=0, columnspan=2, sticky=W)"
   ]
  },
  {
   "cell_type": "code",
   "execution_count": 43,
   "metadata": {},
   "outputs": [],
   "source": [
    "#create input labels\n",
    "input_labels = ['sqft_living', 'grade', 'sqft_above', 'sqft_living15', 'bathrooms', 'bedrooms', 'floors', 'sqft_lot', 'sqft_lot15', 'age', \"zipcode\"]\n",
    "i=1\n",
    "for item in input_labels:\n",
    "    Label (window, text=item, bg=\"blue\", fg=\"white\", font=\"none 12 bold\") .grid(row=i, column=0, sticky=W)\n",
    "    i+=1"
   ]
  },
  {
   "cell_type": "code",
   "execution_count": 44,
   "metadata": {},
   "outputs": [],
   "source": [
    "#create label entry boxes\n",
    "sqft_living = Entry(window, width=20, bg=\"white\")\n",
    "sqft_living.grid(row=1, column=1, sticky=W)\n",
    "grade = Entry(window, width=20, bg=\"white\")\n",
    "grade.grid(row=2, column=1, sticky=W)\n",
    "sqft_above = Entry(window, width=20, bg=\"white\")\n",
    "sqft_above.grid(row=3, column=1, sticky=W)\n",
    "sqft_living15 = Entry(window, width=20, bg=\"white\")\n",
    "sqft_living15.grid(row=4, column=1, sticky=W)\n",
    "bathrooms = Entry(window, width=20, bg=\"white\")\n",
    "bathrooms.grid(row=5, column=1, sticky=W)\n",
    "bedrooms = Entry(window, width=20, bg=\"white\")\n",
    "bedrooms.grid(row=6, column=1, sticky=W)\n",
    "floors = Entry(window, width=20, bg=\"white\")\n",
    "floors.grid(row=7, column=1, sticky=W)\n",
    "sqft_lot = Entry(window, width=20, bg=\"white\")\n",
    "sqft_lot.grid(row=8, column=1, sticky=W)\n",
    "sqft_lot15 = Entry(window, width=20, bg=\"white\")\n",
    "sqft_lot15.grid(row=9, column=1, sticky=W)\n",
    "age = Entry(window, width=20, bg=\"white\")\n",
    "age.grid(row=10, column=1, sticky=W)\n",
    "zipcode = Entry(window, width=20, bg=\"white\")\n",
    "zipcode.grid(row=11, column=1, sticky=W)"
   ]
  },
  {
   "cell_type": "code",
   "execution_count": 45,
   "metadata": {},
   "outputs": [],
   "source": [
    "#Add submit button\n",
    "Button (window, text=\"SUBMIT\", width=6, command=click) .grid(row=len(input_labels)+1,column=0, columnspan=2, sticky=W)"
   ]
  },
  {
   "cell_type": "code",
   "execution_count": 46,
   "metadata": {},
   "outputs": [],
   "source": [
    "#Add another label\n",
    "Label (window, text=\"Predicted Price:\", bg=\"black\", fg=\"white\", font=\"none 20 bold\") .grid(row=len(input_labels)+2, column=0,sticky=W)"
   ]
  },
  {
   "cell_type": "code",
   "execution_count": 47,
   "metadata": {},
   "outputs": [],
   "source": [
    "#text output box\n",
    "output = Text(window, width=75, height=6, wrap=WORD, background=\"white\")\n",
    "output.grid(row=len(input_labels)+3, column=0, columnspan=2, sticky=W)"
   ]
  },
  {
   "cell_type": "code",
   "execution_count": 48,
   "metadata": {},
   "outputs": [
    {
     "name": "stdout",
     "output_type": "stream",
     "text": [
      "  sqft_living grade sqft_above sqft_living15 bathrooms bedrooms floors  \\\n",
      "0                                                                        \n",
      "\n",
      "  sqft_lot15 sqft_lot zipcode age  x0_  \n",
      "0                                  1.0  \n",
      "  sqft_living grade sqft_above sqft_living15 bathrooms bedrooms floors  \\\n",
      "0          12     1         13             2         2        3      2   \n",
      "\n",
      "  sqft_lot15 sqft_lot zipcode age  x0_  \n",
      "0          4      123           2  1.0  \n",
      "  sqft_living grade sqft_above sqft_living15 bathrooms bedrooms floors  \\\n",
      "0          12     1         13             2         2        3      2   \n",
      "\n",
      "  sqft_lot15 sqft_lot zipcode age  x0_  \n",
      "0          4      123           2  1.0  \n",
      "  sqft_living grade sqft_above sqft_living15 bathrooms bedrooms floors  \\\n",
      "0          12     1         13             2         2        3      2   \n",
      "\n",
      "  sqft_lot15 sqft_lot zipcode age  x0_  \n",
      "0          4      123           2  1.0  \n",
      "  sqft_living grade sqft_above sqft_living15 bathrooms bedrooms floors  \\\n",
      "0          12     1         13             2         2        3      2   \n",
      "\n",
      "  sqft_lot15 sqft_lot zipcode age  x0_  \n",
      "0          4      123           2  1.0  \n",
      "  sqft_living grade sqft_above sqft_living15 bathrooms bedrooms floors  \\\n",
      "0          12     1         13             2         2        3      2   \n",
      "\n",
      "  sqft_lot15 sqft_lot zipcode age  x0_35216  \n",
      "0          4      123   35216   2       1.0  \n"
     ]
    }
   ],
   "source": [
    "#Run gui loop\n",
    "window.mainloop()"
   ]
  },
  {
   "cell_type": "code",
   "execution_count": 49,
   "metadata": {},
   "outputs": [],
   "source": [
    "y_train_pred = best[3]\n",
    "y_test_pred = best[4]\n",
    "y_train = best[5]"
   ]
  },
  {
   "cell_type": "code",
   "execution_count": 50,
   "metadata": {
    "scrolled": true
   },
   "outputs": [
    {
     "data": {
      "text/plain": [
       "array([12.3666593 , 12.51138497, 13.68267483, ..., 11.89875793,\n",
       "       12.30266726, 12.57826448])"
      ]
     },
     "execution_count": 50,
     "metadata": {},
     "output_type": "execute_result"
    }
   ],
   "source": [
    "y_train_pred"
   ]
  },
  {
   "cell_type": "code",
   "execution_count": 60,
   "metadata": {
    "scrolled": true
   },
   "outputs": [
    {
     "data": {
      "text/html": [
       "<div>\n",
       "<style scoped>\n",
       "    .dataframe tbody tr th:only-of-type {\n",
       "        vertical-align: middle;\n",
       "    }\n",
       "\n",
       "    .dataframe tbody tr th {\n",
       "        vertical-align: top;\n",
       "    }\n",
       "\n",
       "    .dataframe thead th {\n",
       "        text-align: right;\n",
       "    }\n",
       "</style>\n",
       "<table border=\"1\" class=\"dataframe\">\n",
       "  <thead>\n",
       "    <tr style=\"text-align: right;\">\n",
       "      <th></th>\n",
       "      <th>price</th>\n",
       "      <th>bedrooms</th>\n",
       "      <th>bathrooms</th>\n",
       "      <th>sqft_living</th>\n",
       "      <th>sqft_lot</th>\n",
       "      <th>floors</th>\n",
       "      <th>condition</th>\n",
       "      <th>grade</th>\n",
       "      <th>sqft_above</th>\n",
       "      <th>long</th>\n",
       "      <th>...</th>\n",
       "      <th>x0_98188.0</th>\n",
       "      <th>x0_98198.0</th>\n",
       "      <th>x0_98199.0</th>\n",
       "      <th>sqft_living&amp;above</th>\n",
       "      <th>sqft_living&amp;grade</th>\n",
       "      <th>sqft_living&amp;living15</th>\n",
       "      <th>grade&amp;sqft_above</th>\n",
       "      <th>bathrooms&amp;sqft_living</th>\n",
       "      <th>sqft_above&amp;sqft_living15</th>\n",
       "      <th>grade&amp;sqft_living15</th>\n",
       "    </tr>\n",
       "  </thead>\n",
       "  <tbody>\n",
       "    <tr>\n",
       "      <th>0</th>\n",
       "      <td>221900.0</td>\n",
       "      <td>3.0</td>\n",
       "      <td>1.00</td>\n",
       "      <td>1180.0</td>\n",
       "      <td>5650.0</td>\n",
       "      <td>1.0</td>\n",
       "      <td>3.0</td>\n",
       "      <td>7.0</td>\n",
       "      <td>1180.0</td>\n",
       "      <td>-122.257</td>\n",
       "      <td>...</td>\n",
       "      <td>0.0</td>\n",
       "      <td>0.0</td>\n",
       "      <td>0.0</td>\n",
       "      <td>1392400.0</td>\n",
       "      <td>8260.0</td>\n",
       "      <td>1581200.0</td>\n",
       "      <td>8260.0</td>\n",
       "      <td>1180.0</td>\n",
       "      <td>1581200.0</td>\n",
       "      <td>9380.0</td>\n",
       "    </tr>\n",
       "    <tr>\n",
       "      <th>1</th>\n",
       "      <td>538000.0</td>\n",
       "      <td>3.0</td>\n",
       "      <td>2.25</td>\n",
       "      <td>2570.0</td>\n",
       "      <td>7242.0</td>\n",
       "      <td>2.0</td>\n",
       "      <td>3.0</td>\n",
       "      <td>7.0</td>\n",
       "      <td>2170.0</td>\n",
       "      <td>-122.319</td>\n",
       "      <td>...</td>\n",
       "      <td>0.0</td>\n",
       "      <td>0.0</td>\n",
       "      <td>0.0</td>\n",
       "      <td>5576900.0</td>\n",
       "      <td>17990.0</td>\n",
       "      <td>4343300.0</td>\n",
       "      <td>15190.0</td>\n",
       "      <td>5782.5</td>\n",
       "      <td>3667300.0</td>\n",
       "      <td>11830.0</td>\n",
       "    </tr>\n",
       "    <tr>\n",
       "      <th>2</th>\n",
       "      <td>180000.0</td>\n",
       "      <td>2.0</td>\n",
       "      <td>1.00</td>\n",
       "      <td>770.0</td>\n",
       "      <td>10000.0</td>\n",
       "      <td>1.0</td>\n",
       "      <td>3.0</td>\n",
       "      <td>6.0</td>\n",
       "      <td>770.0</td>\n",
       "      <td>-122.233</td>\n",
       "      <td>...</td>\n",
       "      <td>0.0</td>\n",
       "      <td>0.0</td>\n",
       "      <td>0.0</td>\n",
       "      <td>592900.0</td>\n",
       "      <td>4620.0</td>\n",
       "      <td>2094400.0</td>\n",
       "      <td>4620.0</td>\n",
       "      <td>770.0</td>\n",
       "      <td>2094400.0</td>\n",
       "      <td>16320.0</td>\n",
       "    </tr>\n",
       "    <tr>\n",
       "      <th>3</th>\n",
       "      <td>604000.0</td>\n",
       "      <td>4.0</td>\n",
       "      <td>3.00</td>\n",
       "      <td>1960.0</td>\n",
       "      <td>5000.0</td>\n",
       "      <td>1.0</td>\n",
       "      <td>5.0</td>\n",
       "      <td>7.0</td>\n",
       "      <td>1050.0</td>\n",
       "      <td>-122.393</td>\n",
       "      <td>...</td>\n",
       "      <td>0.0</td>\n",
       "      <td>0.0</td>\n",
       "      <td>0.0</td>\n",
       "      <td>2058000.0</td>\n",
       "      <td>13720.0</td>\n",
       "      <td>2665600.0</td>\n",
       "      <td>7350.0</td>\n",
       "      <td>5880.0</td>\n",
       "      <td>1428000.0</td>\n",
       "      <td>9520.0</td>\n",
       "    </tr>\n",
       "    <tr>\n",
       "      <th>4</th>\n",
       "      <td>510000.0</td>\n",
       "      <td>3.0</td>\n",
       "      <td>2.00</td>\n",
       "      <td>1680.0</td>\n",
       "      <td>8080.0</td>\n",
       "      <td>1.0</td>\n",
       "      <td>3.0</td>\n",
       "      <td>8.0</td>\n",
       "      <td>1680.0</td>\n",
       "      <td>-122.045</td>\n",
       "      <td>...</td>\n",
       "      <td>0.0</td>\n",
       "      <td>0.0</td>\n",
       "      <td>0.0</td>\n",
       "      <td>2822400.0</td>\n",
       "      <td>13440.0</td>\n",
       "      <td>3024000.0</td>\n",
       "      <td>13440.0</td>\n",
       "      <td>3360.0</td>\n",
       "      <td>3024000.0</td>\n",
       "      <td>14400.0</td>\n",
       "    </tr>\n",
       "  </tbody>\n",
       "</table>\n",
       "<p>5 rows × 91 columns</p>\n",
       "</div>"
      ],
      "text/plain": [
       "      price  bedrooms  bathrooms  sqft_living  sqft_lot  floors  condition  \\\n",
       "0  221900.0       3.0       1.00       1180.0    5650.0     1.0        3.0   \n",
       "1  538000.0       3.0       2.25       2570.0    7242.0     2.0        3.0   \n",
       "2  180000.0       2.0       1.00        770.0   10000.0     1.0        3.0   \n",
       "3  604000.0       4.0       3.00       1960.0    5000.0     1.0        5.0   \n",
       "4  510000.0       3.0       2.00       1680.0    8080.0     1.0        3.0   \n",
       "\n",
       "   grade  sqft_above     long  ...  x0_98188.0  x0_98198.0  x0_98199.0  \\\n",
       "0    7.0      1180.0 -122.257  ...         0.0         0.0         0.0   \n",
       "1    7.0      2170.0 -122.319  ...         0.0         0.0         0.0   \n",
       "2    6.0       770.0 -122.233  ...         0.0         0.0         0.0   \n",
       "3    7.0      1050.0 -122.393  ...         0.0         0.0         0.0   \n",
       "4    8.0      1680.0 -122.045  ...         0.0         0.0         0.0   \n",
       "\n",
       "   sqft_living&above  sqft_living&grade  sqft_living&living15  \\\n",
       "0          1392400.0             8260.0             1581200.0   \n",
       "1          5576900.0            17990.0             4343300.0   \n",
       "2           592900.0             4620.0             2094400.0   \n",
       "3          2058000.0            13720.0             2665600.0   \n",
       "4          2822400.0            13440.0             3024000.0   \n",
       "\n",
       "   grade&sqft_above  bathrooms&sqft_living  sqft_above&sqft_living15  \\\n",
       "0            8260.0                 1180.0                 1581200.0   \n",
       "1           15190.0                 5782.5                 3667300.0   \n",
       "2            4620.0                  770.0                 2094400.0   \n",
       "3            7350.0                 5880.0                 1428000.0   \n",
       "4           13440.0                 3360.0                 3024000.0   \n",
       "\n",
       "   grade&sqft_living15  \n",
       "0               9380.0  \n",
       "1              11830.0  \n",
       "2              16320.0  \n",
       "3               9520.0  \n",
       "4              14400.0  \n",
       "\n",
       "[5 rows x 91 columns]"
      ]
     },
     "execution_count": 60,
     "metadata": {},
     "output_type": "execute_result"
    }
   ],
   "source": [
    "df.head()"
   ]
  },
  {
   "cell_type": "code",
   "execution_count": 63,
   "metadata": {
    "scrolled": true
   },
   "outputs": [
    {
     "name": "stdout",
     "output_type": "stream",
     "text": [
      "<class 'pandas.core.frame.DataFrame'>\n",
      "Int64Index: 20331 entries, 0 to 21596\n",
      "Data columns (total 91 columns):\n",
      " #   Column                    Non-Null Count  Dtype  \n",
      "---  ------                    --------------  -----  \n",
      " 0   price                     20331 non-null  float64\n",
      " 1   bedrooms                  20331 non-null  float64\n",
      " 2   bathrooms                 20331 non-null  float64\n",
      " 3   sqft_living               20331 non-null  float64\n",
      " 4   sqft_lot                  20331 non-null  float64\n",
      " 5   floors                    20331 non-null  float64\n",
      " 6   condition                 20331 non-null  float64\n",
      " 7   grade                     20331 non-null  float64\n",
      " 8   sqft_above                20331 non-null  float64\n",
      " 9   long                      20331 non-null  float64\n",
      " 10  sqft_living15             20331 non-null  float64\n",
      " 11  sqft_lot15                20331 non-null  float64\n",
      " 12  age                       20331 non-null  float64\n",
      " 13  listing_age               20331 non-null  float64\n",
      " 14  x0_98001.0                20331 non-null  float64\n",
      " 15  x0_98002.0                20331 non-null  float64\n",
      " 16  x0_98003.0                20331 non-null  float64\n",
      " 17  x0_98004.0                20331 non-null  float64\n",
      " 18  x0_98005.0                20331 non-null  float64\n",
      " 19  x0_98006.0                20331 non-null  float64\n",
      " 20  x0_98007.0                20331 non-null  float64\n",
      " 21  x0_98008.0                20331 non-null  float64\n",
      " 22  x0_98010.0                20331 non-null  float64\n",
      " 23  x0_98011.0                20331 non-null  float64\n",
      " 24  x0_98014.0                20331 non-null  float64\n",
      " 25  x0_98019.0                20331 non-null  float64\n",
      " 26  x0_98022.0                20331 non-null  float64\n",
      " 27  x0_98023.0                20331 non-null  float64\n",
      " 28  x0_98024.0                20331 non-null  float64\n",
      " 29  x0_98027.0                20331 non-null  float64\n",
      " 30  x0_98028.0                20331 non-null  float64\n",
      " 31  x0_98029.0                20331 non-null  float64\n",
      " 32  x0_98030.0                20331 non-null  float64\n",
      " 33  x0_98031.0                20331 non-null  float64\n",
      " 34  x0_98032.0                20331 non-null  float64\n",
      " 35  x0_98033.0                20331 non-null  float64\n",
      " 36  x0_98034.0                20331 non-null  float64\n",
      " 37  x0_98038.0                20331 non-null  float64\n",
      " 38  x0_98039.0                20331 non-null  float64\n",
      " 39  x0_98040.0                20331 non-null  float64\n",
      " 40  x0_98042.0                20331 non-null  float64\n",
      " 41  x0_98045.0                20331 non-null  float64\n",
      " 42  x0_98052.0                20331 non-null  float64\n",
      " 43  x0_98053.0                20331 non-null  float64\n",
      " 44  x0_98055.0                20331 non-null  float64\n",
      " 45  x0_98056.0                20331 non-null  float64\n",
      " 46  x0_98058.0                20331 non-null  float64\n",
      " 47  x0_98059.0                20331 non-null  float64\n",
      " 48  x0_98065.0                20331 non-null  float64\n",
      " 49  x0_98070.0                20331 non-null  float64\n",
      " 50  x0_98072.0                20331 non-null  float64\n",
      " 51  x0_98074.0                20331 non-null  float64\n",
      " 52  x0_98075.0                20331 non-null  float64\n",
      " 53  x0_98077.0                20331 non-null  float64\n",
      " 54  x0_98092.0                20331 non-null  float64\n",
      " 55  x0_98102.0                20331 non-null  float64\n",
      " 56  x0_98103.0                20331 non-null  float64\n",
      " 57  x0_98105.0                20331 non-null  float64\n",
      " 58  x0_98106.0                20331 non-null  float64\n",
      " 59  x0_98107.0                20331 non-null  float64\n",
      " 60  x0_98108.0                20331 non-null  float64\n",
      " 61  x0_98109.0                20331 non-null  float64\n",
      " 62  x0_98112.0                20331 non-null  float64\n",
      " 63  x0_98115.0                20331 non-null  float64\n",
      " 64  x0_98116.0                20331 non-null  float64\n",
      " 65  x0_98117.0                20331 non-null  float64\n",
      " 66  x0_98118.0                20331 non-null  float64\n",
      " 67  x0_98119.0                20331 non-null  float64\n",
      " 68  x0_98122.0                20331 non-null  float64\n",
      " 69  x0_98125.0                20331 non-null  float64\n",
      " 70  x0_98126.0                20331 non-null  float64\n",
      " 71  x0_98133.0                20331 non-null  float64\n",
      " 72  x0_98136.0                20331 non-null  float64\n",
      " 73  x0_98144.0                20331 non-null  float64\n",
      " 74  x0_98146.0                20331 non-null  float64\n",
      " 75  x0_98148.0                20331 non-null  float64\n",
      " 76  x0_98155.0                20331 non-null  float64\n",
      " 77  x0_98166.0                20331 non-null  float64\n",
      " 78  x0_98168.0                20331 non-null  float64\n",
      " 79  x0_98177.0                20331 non-null  float64\n",
      " 80  x0_98178.0                20331 non-null  float64\n",
      " 81  x0_98188.0                20331 non-null  float64\n",
      " 82  x0_98198.0                20331 non-null  float64\n",
      " 83  x0_98199.0                20331 non-null  float64\n",
      " 84  sqft_living&above         20331 non-null  float64\n",
      " 85  sqft_living&grade         20331 non-null  float64\n",
      " 86  sqft_living&living15      20331 non-null  float64\n",
      " 87  grade&sqft_above          20331 non-null  float64\n",
      " 88  bathrooms&sqft_living     20331 non-null  float64\n",
      " 89  sqft_above&sqft_living15  20331 non-null  float64\n",
      " 90  grade&sqft_living15       20331 non-null  float64\n",
      "dtypes: float64(91)\n",
      "memory usage: 14.3 MB\n"
     ]
    }
   ],
   "source": [
    "df.info()"
   ]
  },
  {
   "cell_type": "code",
   "execution_count": 98,
   "metadata": {},
   "outputs": [],
   "source": [
    "#X = df.drop(['price', 'condition', 'long'], axis=1)\n",
    "X = df['sqft_living&grade']\n",
    "y = df['price']"
   ]
  },
  {
   "cell_type": "code",
   "execution_count": 99,
   "metadata": {},
   "outputs": [],
   "source": [
    "X_train, X_test, y_train, y_test = train_test_split(X, y, test_size=0.30, random_state=34567)"
   ]
  },
  {
   "cell_type": "code",
   "execution_count": 100,
   "metadata": {},
   "outputs": [],
   "source": [
    "reg = LinearRegression().fit(X_train.values.reshape(-1, 1), y_train)"
   ]
  },
  {
   "cell_type": "code",
   "execution_count": 118,
   "metadata": {},
   "outputs": [
    {
     "data": {
      "image/png": "[encoded data removed]",
      "text/plain": [
       "<Figure size 1080x576 with 2 Axes>"
      ]
     },
     "metadata": {
      "needs_background": "light"
     },
     "output_type": "display_data"
    }
   ],
   "source": [
    "plt.figure(figsize=(15, 8))\n",
    "plt.subplot(1, 2, 1)\n",
    "plt.scatter(X_train, y_train, color='pink')\n",
    "plt.plot(X_train.values.reshape(-1, 1), reg.predict(X_train.values.reshape(-1, 1)))\n",
    "plt.xlabel('sqft_living&grade')\n",
    "plt.ylabel('price')\n",
    "\n",
    "plt.subplot(1, 2, 2)\n",
    "plt.scatter(X_test, y_test, color='pink')\n",
    "plt.plot(X_test.values.reshape(-1, 1), reg.predict(X_test.values.reshape(-1, 1)))\n",
    "plt.xlabel('sqft_living&grade');"
   ]
  },
  {
   "cell_type": "code",
   "execution_count": 111,
   "metadata": {},
   "outputs": [],
   "source": [
    "X = df['grade']\n",
    "y = df['price']"
   ]
  },
  {
   "cell_type": "code",
   "execution_count": 117,
   "metadata": {},
   "outputs": [
    {
     "data": {
      "image/png": "[encoded data removed]",
      "text/plain": [
       "<Figure size 1080x576 with 2 Axes>"
      ]
     },
     "metadata": {
      "needs_background": "light"
     },
     "output_type": "display_data"
    }
   ],
   "source": [
    "plt.figure(figsize=(15, 8))\n",
    "plt.subplot(1, 2, 1)\n",
    "plt.scatter(X_train, y_train, color='pink')\n",
    "plt.plot(X_train.values.reshape(-1, 1), reg.predict(X_train.values.reshape(-1, 1)))\n",
    "plt.xlabel('grade')\n",
    "plt.ylabel('price')\n",
    "\n",
    "plt.subplot(1, 2, 2)\n",
    "plt.scatter(X_test, y_test, color='pink')\n",
    "plt.plot(X_test.values.reshape(-1, 1), reg.predict(X_test.values.reshape(-1, 1)))\n",
    "plt.xlabel('grade');"
   ]
  },
  {
   "cell_type": "code",
   "execution_count": null,
   "metadata": {},
   "outputs": [],
   "source": []
  }
 ],
 "metadata": {
  "kernelspec": {
   "display_name": "Python 3",
   "language": "python",
   "name": "python3"
  },
  "language_info": {
   "codemirror_mode": {
    "name": "ipython",
    "version": 3
   },
   "file_extension": ".py",
   "mimetype": "text/x-python",
   "name": "python",
   "nbconvert_exporter": "python",
   "pygments_lexer": "ipython3",
   "version": "3.8.5"
  }
 },
 "nbformat": 4,
 "nbformat_minor": 5
}
